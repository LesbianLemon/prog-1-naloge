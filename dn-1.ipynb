{
 "cells": [
  {
   "cell_type": "markdown",
   "id": "e9ddb67f",
   "metadata": {},
   "source": [
    "# 1. domača naloga"
   ]
  },
  {
   "cell_type": "markdown",
   "id": "ff04abdc",
   "metadata": {},
   "source": [
    "## Ogrevanje"
   ]
  },
  {
   "cell_type": "markdown",
   "id": "2237a7a3",
   "metadata": {},
   "source": [
    "### Števke"
   ]
  },
  {
   "cell_type": "markdown",
   "id": "c8804b03",
   "metadata": {},
   "source": [
    "Napišite funkcijo `stevke : int -> int -> int list`, ki sprejme pozitivni celi števili $b$ in $n$ ter vrne seznam števk števila $n$ v bazi $b$. Pri tem tudi za baze, ki so večje od $10$, uporabimo števke od $0$ do $b - 1$."
   ]
  },
  {
   "cell_type": "code",
   "execution_count": 1,
   "id": "a0f03e2b",
   "metadata": {},
   "outputs": [
    {
     "data": {
      "text/plain": [
       "val stevke : int -> int -> int list = <fun>\n"
      ]
     },
     "execution_count": 1,
     "metadata": {},
     "output_type": "execute_result"
    }
   ],
   "source": [
    "let stevke (b : int) (n : int) : int list =\n",
    "    let rec stevke_aux (acc : int list) (n : int) : int list =\n",
    "        match n with\n",
    "        | 0 -> acc\n",
    "        | n -> stevke_aux ((n mod b) :: acc) (n / b)\n",
    "    in\n",
    "    stevke_aux [] n"
   ]
  },
  {
   "cell_type": "code",
   "execution_count": 2,
   "id": "14a1b67d",
   "metadata": {},
   "outputs": [
    {
     "data": {
      "text/plain": [
       "- : int list = [1; 2; 3; 4; 5]\n"
      ]
     },
     "execution_count": 2,
     "metadata": {},
     "output_type": "execute_result"
    }
   ],
   "source": [
    "stevke 10 12345"
   ]
  },
  {
   "cell_type": "code",
   "execution_count": 3,
   "id": "1954c3c2",
   "metadata": {},
   "outputs": [
    {
     "data": {
      "text/plain": [
       "- : int list = [1; 0; 1; 0; 1; 0]\n"
      ]
     },
     "execution_count": 3,
     "metadata": {},
     "output_type": "execute_result"
    }
   ],
   "source": [
    "stevke 2 42"
   ]
  },
  {
   "cell_type": "code",
   "execution_count": 4,
   "id": "73e2ed29",
   "metadata": {},
   "outputs": [
    {
     "data": {
      "text/plain": [
       "- : int list = [3; 14; 15; 9]\n"
      ]
     },
     "execution_count": 4,
     "metadata": {},
     "output_type": "execute_result"
    }
   ],
   "source": [
    "stevke 16 (3 * 16 * 16 * 16 + 14 * 16 * 16 + 15 * 16 + 9)"
   ]
  },
  {
   "cell_type": "markdown",
   "id": "d5299327",
   "metadata": {},
   "source": [
    "### Začetek seznama"
   ]
  },
  {
   "cell_type": "markdown",
   "id": "f1c67263",
   "metadata": {},
   "source": [
    "Napišite funkcijo `take : int -> 'a list -> 'a list`, ki sprejme naravno število in vrne ustrezno število elementov z začetka danega seznama. Če je podani seznam krajši od zahtevane dolžine, naj funkcija vrne kar celoten seznam."
   ]
  },
  {
   "cell_type": "code",
   "execution_count": 5,
   "id": "d773d1db",
   "metadata": {},
   "outputs": [
    {
     "data": {
      "text/plain": [
       "val take : int -> 'a list -> 'a list = <fun>\n"
      ]
     },
     "execution_count": 5,
     "metadata": {},
     "output_type": "execute_result"
    }
   ],
   "source": [
    "let take (n : int) (list: 'a list) : 'a list =\n",
    "    let rec take_aux (acc : 'a list) (n : int) (list : 'a list) : 'a list =\n",
    "        match list with\n",
    "        | _ when n <= 0 -> acc\n",
    "        | [] -> acc\n",
    "        | hd :: tl -> take_aux (hd :: acc) (n - 1) tl\n",
    "    in\n",
    "    take_aux [] n list\n",
    "    |> List.rev"
   ]
  },
  {
   "cell_type": "code",
   "execution_count": 6,
   "id": "7012b764",
   "metadata": {},
   "outputs": [
    {
     "data": {
      "text/plain": [
       "- : int list = [1; 2; 3]\n"
      ]
     },
     "execution_count": 6,
     "metadata": {},
     "output_type": "execute_result"
    }
   ],
   "source": [
    "take 3 [1; 2; 3; 4; 5]"
   ]
  },
  {
   "cell_type": "code",
   "execution_count": 7,
   "id": "e40bdf4b",
   "metadata": {},
   "outputs": [
    {
     "data": {
      "text/plain": [
       "- : int list = [1; 2; 3; 4; 5]\n"
      ]
     },
     "execution_count": 7,
     "metadata": {},
     "output_type": "execute_result"
    }
   ],
   "source": [
    "take 10 [1; 2; 3; 4; 5]"
   ]
  },
  {
   "cell_type": "markdown",
   "id": "d1e0bc2f",
   "metadata": {},
   "source": [
    "### Odstranjevanje ujemajočih"
   ]
  },
  {
   "cell_type": "markdown",
   "id": "4b79681d",
   "metadata": {},
   "source": [
    "Napišite funkcijo `drop_while : ('a -> bool) -> 'a list -> 'a list`, ki z začetka seznama odstrani vse elemente, ki zadoščajo danemu predikatu. Ko najde element, ki predikatu ne zadošča, vrne preostanek seznama."
   ]
  },
  {
   "cell_type": "code",
   "execution_count": 8,
   "id": "6f2948a9",
   "metadata": {},
   "outputs": [
    {
     "data": {
      "text/plain": [
       "val drop_while : ('a -> bool) -> 'a list -> 'a list = <fun>\n"
      ]
     },
     "execution_count": 8,
     "metadata": {},
     "output_type": "execute_result"
    }
   ],
   "source": [
    "let rec drop_while (p : 'a -> bool) (list : 'a list) : 'a list =\n",
    "    match list with\n",
    "    | [] -> []\n",
    "    | hd :: tl ->\n",
    "        if not (p hd) then list\n",
    "        else drop_while p tl"
   ]
  },
  {
   "cell_type": "code",
   "execution_count": 9,
   "id": "64f139bf",
   "metadata": {},
   "outputs": [
    {
     "data": {
      "text/plain": [
       "- : int list = [5; 9; 2; 6; 5; 3; 5]\n"
      ]
     },
     "execution_count": 9,
     "metadata": {},
     "output_type": "execute_result"
    }
   ],
   "source": [
    "drop_while (fun (x : int) : bool -> x < 5) [3; 1; 4; 1; 5; 9; 2; 6; 5; 3; 5]"
   ]
  },
  {
   "cell_type": "code",
   "execution_count": 10,
   "id": "69c411e6",
   "metadata": {},
   "outputs": [
    {
     "data": {
      "text/plain": [
       "- : int list = [9; 8; 7; 6; 5; 4; 3; 2; 1; 0]\n"
      ]
     },
     "execution_count": 10,
     "metadata": {},
     "output_type": "execute_result"
    }
   ],
   "source": [
    "drop_while (fun (x : int) : bool -> x < 5) [9; 8; 7; 6; 5; 4; 3; 2; 1; 0]"
   ]
  },
  {
   "cell_type": "markdown",
   "id": "f6e66b2b",
   "metadata": {},
   "source": [
    "### Funkcija `filter_mapi`"
   ]
  },
  {
   "cell_type": "markdown",
   "id": "f31f94fc",
   "metadata": {},
   "source": [
    "Napišite funkcijo `filter_mapi : (int -> 'a -> 'b option) -> 'a list -> 'b list`, ki deluje tako kot `List.filter_map`, le da funkcija poleg elemenov dobi še njihove indekse."
   ]
  },
  {
   "cell_type": "code",
   "execution_count": 11,
   "id": "15d2cf59",
   "metadata": {},
   "outputs": [
    {
     "data": {
      "text/plain": [
       "val filter_mapi : (int -> 'a -> 'b option) -> 'a list -> 'b list = <fun>\n"
      ]
     },
     "execution_count": 11,
     "metadata": {},
     "output_type": "execute_result"
    }
   ],
   "source": [
    "let filter_mapi (f : int -> 'a -> 'b option) (list : 'a list) : 'b list =\n",
    "    let rec filter_mapi_aux (acc : 'b list) (i : int) (list : 'a list) : 'b list =\n",
    "        match list with\n",
    "        | [] -> acc\n",
    "        | hd :: tl -> filter_mapi_aux\n",
    "            (\n",
    "                match f i hd with\n",
    "                | None -> acc\n",
    "                | Some x -> x :: acc\n",
    "            )\n",
    "            (i + 1) tl\n",
    "    in\n",
    "    filter_mapi_aux [] 0 list\n",
    "    |> List.rev"
   ]
  },
  {
   "cell_type": "code",
   "execution_count": 12,
   "id": "f752bf5f",
   "metadata": {},
   "outputs": [
    {
     "data": {
      "text/plain": [
       "- : int list = [1; 9; 25; 49; 81]\n"
      ]
     },
     "execution_count": 12,
     "metadata": {},
     "output_type": "execute_result"
    }
   ],
   "source": [
    "filter_mapi\n",
    "    (fun (i : int) (x : int) : int option -> if i mod 2 = 0 then Some (x * x) else None)\n",
    "    [1; 2; 3; 4; 5; 6; 7; 8; 9]"
   ]
  },
  {
   "cell_type": "markdown",
   "id": "43562a96",
   "metadata": {},
   "source": [
    "## Curry-Howardov izomorfizem"
   ]
  },
  {
   "cell_type": "markdown",
   "id": "adba1de4",
   "metadata": {},
   "source": [
    "Na predavanjih smo videli, da funkciji `curry : ('a * 'b -> 'c) -> ('a -> ('b -> 'c))` in `uncurry : ('a -> ('b -> 'c)) -> ('a * 'b -> 'c)` predstavljata izomorfizem množic $C^{A \\times B} \\cong (C^B)^A$, če kartezični produkt predstavimo s produktnim, eksponent pa s funkcijskim tipom.\n",
    "\n",
    "Podobno velja tudi za ostale znane izomorfizme, če disjunktno unijo\n",
    "  $$A + B = \\{ \\mathrm{in}_1(a) \\mid a \\in A \\} \\cup \\{ \\mathrm{in}_2(b) \\mid b \\in B \\}$$\n",
    "predstavimo s tipom `('a, 'b) sum`, definiranim z:"
   ]
  },
  {
   "cell_type": "code",
   "execution_count": 13,
   "id": "89ac4432",
   "metadata": {},
   "outputs": [
    {
     "data": {
      "text/plain": [
       "type ('a, 'b) sum = In1 of 'a | In2 of 'b\n"
      ]
     },
     "execution_count": 13,
     "metadata": {},
     "output_type": "execute_result"
    }
   ],
   "source": [
    "type ('a, 'b) sum = In1 of 'a | In2 of 'b"
   ]
  },
  {
   "cell_type": "markdown",
   "id": "eb6f1a76",
   "metadata": {},
   "source": [
    "Napišite pare funkcij `phi1` & `psi1`, …, `phi7` & `psi7`, ki predstavljajo spodnje izomorfizme množic."
   ]
  },
  {
   "cell_type": "markdown",
   "id": "0827bc4d",
   "metadata": {},
   "source": [
    "### $A \\times B \\cong B \\times A$"
   ]
  },
  {
   "cell_type": "code",
   "execution_count": 14,
   "id": "3c63064a",
   "metadata": {},
   "outputs": [
    {
     "data": {
      "text/plain": [
       "val phi1 : 'a * 'b -> 'b * 'a = <fun>\n"
      ]
     },
     "execution_count": 14,
     "metadata": {},
     "output_type": "execute_result"
    },
    {
     "data": {
      "text/plain": [
       "val psi1 : 'b * 'a -> 'a * 'b = <fun>\n"
      ]
     },
     "execution_count": 14,
     "metadata": {},
     "output_type": "execute_result"
    }
   ],
   "source": [
    "let phi1 ((a, b) : 'a * 'b) : 'b * 'a =\n",
    "    (b, a)\n",
    "\n",
    "(* let psi1 : 'b * 'a -> 'a * 'b = phi1 *)\n",
    "let psi1 ((b, a) : 'b * 'a) : 'a * 'b =\n",
    "    (a, b)"
   ]
  },
  {
   "cell_type": "markdown",
   "id": "1854dae2",
   "metadata": {},
   "source": [
    "### $A + B \\cong B + A$"
   ]
  },
  {
   "cell_type": "code",
   "execution_count": 15,
   "id": "e92d47bb",
   "metadata": {},
   "outputs": [
    {
     "data": {
      "text/plain": [
       "val phi2 : ('a, 'b) sum -> ('b, 'a) sum = <fun>\n"
      ]
     },
     "execution_count": 15,
     "metadata": {},
     "output_type": "execute_result"
    },
    {
     "data": {
      "text/plain": [
       "val psi2 : ('b, 'a) sum -> ('a, 'b) sum = <fun>\n"
      ]
     },
     "execution_count": 15,
     "metadata": {},
     "output_type": "execute_result"
    }
   ],
   "source": [
    "let phi2 (x : ('a, 'b) sum) : ('b, 'a) sum =\n",
    "    match x with\n",
    "    | In1 a -> In2 a\n",
    "    | In2 b -> In1 b\n",
    "\n",
    "(* let psi2 : ('b, 'a) sum -> ('a, 'b) sum = phi2 *)\n",
    "let psi2 (x : ('b, 'a) sum) : ('a, 'b) sum =\n",
    "    match x with\n",
    "    | In1 b -> In2 b\n",
    "    | In2 a -> In1 a"
   ]
  },
  {
   "cell_type": "markdown",
   "id": "cc265115",
   "metadata": {},
   "source": [
    "### $A \\times (B \\times C) \\cong (A \\times B) \\times C$"
   ]
  },
  {
   "cell_type": "code",
   "execution_count": 16,
   "id": "0facb633",
   "metadata": {},
   "outputs": [
    {
     "data": {
      "text/plain": [
       "val phi3 : 'a * ('b * 'c) -> ('a * 'b) * 'c = <fun>\n"
      ]
     },
     "execution_count": 16,
     "metadata": {},
     "output_type": "execute_result"
    },
    {
     "data": {
      "text/plain": [
       "val psi3 : ('a * 'b) * 'c -> 'a * ('b * 'c) = <fun>\n"
      ]
     },
     "execution_count": 16,
     "metadata": {},
     "output_type": "execute_result"
    }
   ],
   "source": [
    "let phi3 ((a, (b, c)) : 'a * ('b * 'c)) : ('a * 'b) * 'c =\n",
    "    ((a, b), c)\n",
    "\n",
    "let psi3 (((a, b), c) : ('a * 'b) * 'c) : 'a * ('b * 'c) =\n",
    "    (a, (b, c))"
   ]
  },
  {
   "cell_type": "markdown",
   "id": "523ea17c",
   "metadata": {},
   "source": [
    "### $A + (B + C) \\cong (A + B) + C$"
   ]
  },
  {
   "cell_type": "code",
   "execution_count": 17,
   "id": "a3eba42c",
   "metadata": {},
   "outputs": [
    {
     "data": {
      "text/plain": [
       "val phi4 : ('a, ('b, 'c) sum) sum -> (('a, 'b) sum, 'c) sum = <fun>\n"
      ]
     },
     "execution_count": 17,
     "metadata": {},
     "output_type": "execute_result"
    },
    {
     "data": {
      "text/plain": [
       "val psi4 : (('a, 'b) sum, 'c) sum -> ('a, ('b, 'c) sum) sum = <fun>\n"
      ]
     },
     "execution_count": 17,
     "metadata": {},
     "output_type": "execute_result"
    }
   ],
   "source": [
    "let phi4 (x : ('a, ('b, 'c) sum) sum) : (('a, 'b) sum, 'c) sum =\n",
    "    match x with\n",
    "    | In1 a -> In1 (In1 a)\n",
    "    | In2 (In1 b) -> In1 (In2 b)\n",
    "    | In2 (In2 c) -> In2 c\n",
    "\n",
    "let psi4 (x : (('a, 'b) sum, 'c) sum) : ('a, ('b, 'c) sum) sum =\n",
    "    match x with\n",
    "    | In1 (In1 a) -> In1 a\n",
    "    | In1 (In2 b) -> In2 (In1 b)\n",
    "    | In2 c -> In2 (In2 c)"
   ]
  },
  {
   "cell_type": "markdown",
   "id": "113c3f38",
   "metadata": {},
   "source": [
    "### $A \\times (B + C) \\cong (A \\times B) + (A \\times C)$"
   ]
  },
  {
   "cell_type": "code",
   "execution_count": 18,
   "id": "e09141fa",
   "metadata": {},
   "outputs": [
    {
     "data": {
      "text/plain": [
       "val phi5 : 'a * ('b, 'c) sum -> ('a * 'b, 'a * 'c) sum = <fun>\n"
      ]
     },
     "execution_count": 18,
     "metadata": {},
     "output_type": "execute_result"
    },
    {
     "data": {
      "text/plain": [
       "val psi5 : ('a * 'b, 'a * 'c) sum -> 'a * ('b, 'c) sum = <fun>\n"
      ]
     },
     "execution_count": 18,
     "metadata": {},
     "output_type": "execute_result"
    }
   ],
   "source": [
    "let phi5 ((a, x) : 'a * ('b, 'c) sum) : ('a * 'b, 'a * 'c) sum =\n",
    "    match x with\n",
    "    | In1 b -> In1 (a, b)\n",
    "    | In2 c -> In2 (a, c)\n",
    "\n",
    "let psi5 (x : ('a * 'b, 'a * 'c) sum) : 'a * ('b, 'c) sum =\n",
    "    match x with\n",
    "    | In1 (a, b) -> (a, In1 b)\n",
    "    | In2 (a, c) -> (a, In2 c)"
   ]
  },
  {
   "cell_type": "markdown",
   "id": "7b443a12",
   "metadata": {},
   "source": [
    "### $A^{B + C} \\cong A^B \\times A^C$"
   ]
  },
  {
   "cell_type": "code",
   "execution_count": 19,
   "id": "0eff8d9a",
   "metadata": {},
   "outputs": [
    {
     "data": {
      "text/plain": [
       "val phi6 : (('b, 'c) sum -> 'a) -> ('b -> 'a) * ('c -> 'a) = <fun>\n"
      ]
     },
     "execution_count": 19,
     "metadata": {},
     "output_type": "execute_result"
    },
    {
     "data": {
      "text/plain": [
       "val psi6 : ('b -> 'a) * ('c -> 'a) -> ('b, 'c) sum -> 'a = <fun>\n"
      ]
     },
     "execution_count": 19,
     "metadata": {},
     "output_type": "execute_result"
    }
   ],
   "source": [
    "let phi6 (f : ('b, 'c) sum -> 'a) : ('b -> 'a) * ('c -> 'a) =\n",
    "    (\n",
    "        (fun (b : 'b) : 'a -> f (In1 b)),\n",
    "        (fun (c : 'c) : 'a -> f (In2 c))\n",
    "    )\n",
    "\n",
    "let psi6 ((f, g) : ('b -> 'a) * ('c -> 'a)) : ('b, 'c) sum -> 'a =\n",
    "    fun (x : ('b, 'c) sum) : 'a ->\n",
    "        match x with\n",
    "        | In1 b -> f b\n",
    "        | In2 c -> g c"
   ]
  },
  {
   "cell_type": "markdown",
   "id": "ff27e036",
   "metadata": {},
   "source": [
    "### $(A \\times B)^C \\cong A^C \\times B^C$"
   ]
  },
  {
   "cell_type": "code",
   "execution_count": 20,
   "id": "4529a19c",
   "metadata": {},
   "outputs": [
    {
     "data": {
      "text/plain": [
       "val phi7 : ('c -> 'a * 'b) -> ('c -> 'a) * ('c -> 'b) = <fun>\n"
      ]
     },
     "execution_count": 20,
     "metadata": {},
     "output_type": "execute_result"
    },
    {
     "data": {
      "text/plain": [
       "val psi7 : ('c -> 'a) * ('c -> 'b) -> 'c -> 'a * 'b = <fun>\n"
      ]
     },
     "execution_count": 20,
     "metadata": {},
     "output_type": "execute_result"
    }
   ],
   "source": [
    "let phi7 (f : 'c -> 'a * 'b) : ('c -> 'a) * ('c -> 'b) =\n",
    "    (\n",
    "        (fun (c : 'c) : 'a -> fst (f c)),\n",
    "        (fun (c : 'c) : 'b -> snd (f c))\n",
    "    )\n",
    "\n",
    "let psi7 ((f, g) : ('c -> 'a) * ('c -> 'b)) : 'c -> 'a * 'b =\n",
    "    fun (c : 'c) : ('a * 'b) -> (f c, g c)"
   ]
  },
  {
   "cell_type": "markdown",
   "id": "fa94db7c",
   "metadata": {},
   "source": [
    "## Polinomi"
   ]
  },
  {
   "cell_type": "markdown",
   "id": "e2ee6794",
   "metadata": {},
   "source": [
    "Polinome $a_0 + a_1 x + \\cdots + a_n x^n$ predstavimo s seznami celoštevilskih koeficientov od prostega do vodilnega člena. Na primer, polinom $1 - 2 x + 3 x^2$ predstavimo s seznamom `[1; -2; 3]`."
   ]
  },
  {
   "cell_type": "code",
   "execution_count": 21,
   "id": "8238a945",
   "metadata": {},
   "outputs": [
    {
     "data": {
      "text/plain": [
       "type polinom = int list\n"
      ]
     },
     "execution_count": 21,
     "metadata": {},
     "output_type": "execute_result"
    }
   ],
   "source": [
    "type polinom = int list"
   ]
  },
  {
   "cell_type": "markdown",
   "id": "5cfc9bb2",
   "metadata": {},
   "source": [
    "### Odstranjevanje odvečnih ničel"
   ]
  },
  {
   "cell_type": "markdown",
   "id": "033046a9",
   "metadata": {},
   "source": [
    "Napišite funkcijo `pocisti : polinom -> polinom`, ki s konca seznama koeficientov odstrani odvečne ničle."
   ]
  },
  {
   "cell_type": "code",
   "execution_count": 22,
   "id": "cddefb7b",
   "metadata": {},
   "outputs": [
    {
     "data": {
      "text/plain": [
       "val pocisti : polinom -> polinom = <fun>\n"
      ]
     },
     "execution_count": 22,
     "metadata": {},
     "output_type": "execute_result"
    }
   ],
   "source": [
    "let pocisti (p : polinom) : polinom =\n",
    "    let rec pocisti_aux (p : polinom) : polinom =\n",
    "        match p with\n",
    "        | 0 :: tl -> pocisti_aux tl\n",
    "        | _ -> p\n",
    "    in\n",
    "    List.rev p\n",
    "    |> pocisti_aux\n",
    "    |> List.rev"
   ]
  },
  {
   "cell_type": "code",
   "execution_count": 23,
   "id": "2bc2214e",
   "metadata": {},
   "outputs": [
    {
     "data": {
      "text/plain": [
       "- : polinom = [1; -2; 3]\n"
      ]
     },
     "execution_count": 23,
     "metadata": {},
     "output_type": "execute_result"
    }
   ],
   "source": [
    "pocisti [1; -2; 3; 0; 0]"
   ]
  },
  {
   "cell_type": "code",
   "execution_count": 24,
   "id": "9221a381",
   "metadata": {},
   "outputs": [
    {
     "data": {
      "text/plain": [
       "- : polinom = []\n"
      ]
     },
     "execution_count": 24,
     "metadata": {},
     "output_type": "execute_result"
    }
   ],
   "source": [
    "pocisti [0; 0]"
   ]
  },
  {
   "cell_type": "code",
   "execution_count": 25,
   "id": "75235144",
   "metadata": {},
   "outputs": [
    {
     "data": {
      "text/plain": [
       "- : polinom = []\n"
      ]
     },
     "execution_count": 25,
     "metadata": {},
     "output_type": "execute_result"
    }
   ],
   "source": [
    "pocisti []"
   ]
  },
  {
   "cell_type": "markdown",
   "id": "c7e4b497",
   "metadata": {},
   "source": [
    "### Seštevanje"
   ]
  },
  {
   "cell_type": "markdown",
   "id": "0b1af74d",
   "metadata": {},
   "source": [
    "Napišite funkcijo `( +++ ) : polinom -> polinom -> polinom`, ki sešteje dva polinoma."
   ]
  },
  {
   "cell_type": "code",
   "execution_count": 26,
   "id": "839792ee",
   "metadata": {},
   "outputs": [
    {
     "data": {
      "text/plain": [
       "val ( +++ ) : polinom -> polinom -> polinom = <fun>\n"
      ]
     },
     "execution_count": 26,
     "metadata": {},
     "output_type": "execute_result"
    }
   ],
   "source": [
    "let ( +++ ) (p1 : polinom) (p2 : polinom) : polinom =\n",
    "    let rec sum_aux (acc : polinom) (p1 : polinom) (p2 : polinom) : polinom =\n",
    "        match p1, p2 with\n",
    "        | ([], _ | _, []) -> List.rev acc @ p1 @ p2\n",
    "        | hd1 :: tl1, hd2 :: tl2 -> sum_aux ((hd1 + hd2) :: acc) tl1 tl2\n",
    "    in\n",
    "    sum_aux [] p1 p2\n",
    "    |> pocisti"
   ]
  },
  {
   "cell_type": "code",
   "execution_count": 27,
   "id": "f483656e",
   "metadata": {},
   "outputs": [
    {
     "data": {
      "text/plain": [
       "- : polinom = [2; 0; 3]\n"
      ]
     },
     "execution_count": 27,
     "metadata": {},
     "output_type": "execute_result"
    }
   ],
   "source": [
    "[1; -2; 3] +++ [1; 2]"
   ]
  },
  {
   "cell_type": "code",
   "execution_count": 28,
   "id": "ca95b987",
   "metadata": {},
   "outputs": [
    {
     "data": {
      "text/plain": [
       "- : polinom = [2]\n"
      ]
     },
     "execution_count": 28,
     "metadata": {},
     "output_type": "execute_result"
    }
   ],
   "source": [
    "[1; -2; 3] +++ [1; 2; -3]"
   ]
  },
  {
   "cell_type": "code",
   "execution_count": 29,
   "id": "2ec35b2f",
   "metadata": {},
   "outputs": [
    {
     "data": {
      "text/plain": [
       "- : polinom = [1; 2; 3]\n"
      ]
     },
     "execution_count": 29,
     "metadata": {},
     "output_type": "execute_result"
    }
   ],
   "source": [
    "[] +++ [1; 2; 3]"
   ]
  },
  {
   "cell_type": "code",
   "execution_count": 30,
   "id": "fa724b48",
   "metadata": {},
   "outputs": [
    {
     "data": {
      "text/plain": [
       "- : polinom = []\n"
      ]
     },
     "execution_count": 30,
     "metadata": {},
     "output_type": "execute_result"
    }
   ],
   "source": [
    "[] +++ []"
   ]
  },
  {
   "cell_type": "markdown",
   "id": "17d8d4f2",
   "metadata": {},
   "source": [
    "### Množenje"
   ]
  },
  {
   "cell_type": "markdown",
   "id": "50bdd130",
   "metadata": {},
   "source": [
    "Napišite funkcijo `( *** ) : polinom -> polinom -> polinom`, ki zmnoži dva polinoma."
   ]
  },
  {
   "cell_type": "code",
   "execution_count": 31,
   "id": "7e5dde43",
   "metadata": {},
   "outputs": [
    {
     "data": {
      "text/plain": [
       "val ( *** ) : polinom -> polinom -> polinom = <fun>\n"
      ]
     },
     "execution_count": 31,
     "metadata": {},
     "output_type": "execute_result"
    }
   ],
   "source": [
    "let ( *** ) (p1 : polinom) (p2 : polinom) : polinom =\n",
    "    let rec mul_aux (acc : polinom) (p1 : polinom) (p2 : polinom) : polinom =\n",
    "        match p1 with\n",
    "        | [] -> acc\n",
    "        | hd :: tl -> mul_aux\n",
    "            (\n",
    "                (\n",
    "                    if tl = [] then List.map (( * ) hd) p2\n",
    "                    else mul_aux [] [hd] p2\n",
    "                )\n",
    "                |> ( +++ ) acc\n",
    "            )\n",
    "            tl (0 :: p2)\n",
    "    in\n",
    "    mul_aux [] p1 p2"
   ]
  },
  {
   "cell_type": "code",
   "execution_count": 32,
   "id": "830e2b6b",
   "metadata": {},
   "outputs": [
    {
     "data": {
      "text/plain": [
       "- : polinom = [1; 3; 3; 1]\n"
      ]
     },
     "execution_count": 32,
     "metadata": {},
     "output_type": "execute_result"
    }
   ],
   "source": [
    "[1; 1] *** [1; 1] *** [1; 1]"
   ]
  },
  {
   "cell_type": "code",
   "execution_count": 33,
   "id": "4a9cf3dd",
   "metadata": {},
   "outputs": [
    {
     "data": {
      "text/plain": [
       "- : polinom = [1; 0; -1]\n"
      ]
     },
     "execution_count": 33,
     "metadata": {},
     "output_type": "execute_result"
    }
   ],
   "source": [
    "[1; 1] *** [1; -1]"
   ]
  },
  {
   "cell_type": "code",
   "execution_count": 34,
   "id": "235303b2",
   "metadata": {},
   "outputs": [
    {
     "data": {
      "text/plain": [
       "- : polinom = []\n"
      ]
     },
     "execution_count": 34,
     "metadata": {},
     "output_type": "execute_result"
    }
   ],
   "source": [
    "[] *** [1; 2; 3]"
   ]
  },
  {
   "cell_type": "code",
   "execution_count": 35,
   "id": "63ca0d13",
   "metadata": {},
   "outputs": [
    {
     "data": {
      "text/plain": [
       "- : polinom = []\n"
      ]
     },
     "execution_count": 35,
     "metadata": {},
     "output_type": "execute_result"
    }
   ],
   "source": [
    "[] *** []"
   ]
  },
  {
   "cell_type": "code",
   "execution_count": 36,
   "id": "33b66203",
   "metadata": {},
   "outputs": [
    {
     "data": {
      "text/plain": [
       "- : polinom = [1; 4; 7; 6]\n"
      ]
     },
     "execution_count": 36,
     "metadata": {},
     "output_type": "execute_result"
    }
   ],
   "source": [
    "[1; 2; 0] *** [1; 2; 3]"
   ]
  },
  {
   "cell_type": "markdown",
   "id": "c2c10169",
   "metadata": {},
   "source": [
    "### Izračun vrednosti v točki"
   ]
  },
  {
   "cell_type": "markdown",
   "id": "fadcd32c",
   "metadata": {},
   "source": [
    "Napišite funkcijo `vrednost : polinom -> int -> int`, ki izračuna vrednost polinoma v danem argumentu."
   ]
  },
  {
   "cell_type": "code",
   "execution_count": 37,
   "id": "065b34bb",
   "metadata": {},
   "outputs": [
    {
     "data": {
      "text/plain": [
       "val vrednost : polinom -> int -> int = <fun>\n"
      ]
     },
     "execution_count": 37,
     "metadata": {},
     "output_type": "execute_result"
    }
   ],
   "source": [
    "let vrednost (p : polinom) (x : int) : int =\n",
    "    let rec vrednost_aux (acc : int) (p : polinom) : int =\n",
    "        match p with\n",
    "        | [] -> acc\n",
    "        | hd :: tl -> vrednost_aux (hd + acc * x) tl\n",
    "    in\n",
    "    List.rev p\n",
    "    |> vrednost_aux 0"
   ]
  },
  {
   "cell_type": "code",
   "execution_count": 38,
   "id": "a818204c",
   "metadata": {},
   "outputs": [
    {
     "data": {
      "text/plain": [
       "- : int = 9\n"
      ]
     },
     "execution_count": 38,
     "metadata": {},
     "output_type": "execute_result"
    }
   ],
   "source": [
    "vrednost [1; -2; 3] 2"
   ]
  },
  {
   "cell_type": "code",
   "execution_count": 39,
   "id": "cc68ab9e",
   "metadata": {},
   "outputs": [
    {
     "data": {
      "text/plain": [
       "- : int = 0\n"
      ]
     },
     "execution_count": 39,
     "metadata": {},
     "output_type": "execute_result"
    }
   ],
   "source": [
    "vrednost [] 10"
   ]
  },
  {
   "cell_type": "markdown",
   "id": "c1859696",
   "metadata": {},
   "source": [
    "### Odvajanje"
   ]
  },
  {
   "cell_type": "markdown",
   "id": "21173d97",
   "metadata": {},
   "source": [
    "Napišite funkcijo `odvod : polinom -> polinom`, ki izračuna odvod polinoma."
   ]
  },
  {
   "cell_type": "code",
   "execution_count": 40,
   "id": "01b202d5",
   "metadata": {},
   "outputs": [
    {
     "data": {
      "text/plain": [
       "val odvod : polinom -> polinom = <fun>\n"
      ]
     },
     "execution_count": 40,
     "metadata": {},
     "output_type": "execute_result"
    }
   ],
   "source": [
    "let odvod (p : polinom) : polinom =\n",
    "    let rec odvod_aux (acc : polinom) (i : int) (p : polinom) : polinom =\n",
    "        match p with\n",
    "        | ([] | _ :: []) -> acc\n",
    "        | _ :: hd2 :: tl -> odvod_aux ((i * hd2) :: acc) (i + 1) (hd2 :: tl)\n",
    "    in\n",
    "    pocisti p\n",
    "    |> odvod_aux [] 1\n",
    "    |> List.rev"
   ]
  },
  {
   "cell_type": "code",
   "execution_count": 41,
   "id": "4ce54ba6",
   "metadata": {},
   "outputs": [
    {
     "data": {
      "text/plain": [
       "- : polinom = [-2; 6]\n"
      ]
     },
     "execution_count": 41,
     "metadata": {},
     "output_type": "execute_result"
    }
   ],
   "source": [
    "odvod [1; -2; 3]"
   ]
  },
  {
   "cell_type": "code",
   "execution_count": 42,
   "id": "ddae7241",
   "metadata": {},
   "outputs": [
    {
     "data": {
      "text/plain": [
       "- : polinom = []\n"
      ]
     },
     "execution_count": 42,
     "metadata": {},
     "output_type": "execute_result"
    }
   ],
   "source": [
    "odvod [1]"
   ]
  },
  {
   "cell_type": "code",
   "execution_count": 43,
   "id": "68d26719",
   "metadata": {},
   "outputs": [
    {
     "data": {
      "text/plain": [
       "- : polinom = [0; 0; 3]\n"
      ]
     },
     "execution_count": 43,
     "metadata": {},
     "output_type": "execute_result"
    }
   ],
   "source": [
    "odvod [1; 0; 0; 1]"
   ]
  },
  {
   "cell_type": "code",
   "execution_count": 44,
   "id": "5aacfe17",
   "metadata": {},
   "outputs": [
    {
     "data": {
      "text/plain": [
       "- : polinom = []\n"
      ]
     },
     "execution_count": 44,
     "metadata": {},
     "output_type": "execute_result"
    }
   ],
   "source": [
    "odvod []"
   ]
  },
  {
   "cell_type": "code",
   "execution_count": 45,
   "id": "80966a81",
   "metadata": {},
   "outputs": [
    {
     "data": {
      "text/plain": [
       "- : polinom = [2]\n"
      ]
     },
     "execution_count": 45,
     "metadata": {},
     "output_type": "execute_result"
    }
   ],
   "source": [
    "odvod [1; 2; 0]"
   ]
  },
  {
   "cell_type": "markdown",
   "id": "7bc1f8bc",
   "metadata": {},
   "source": [
    "### Lep izpis"
   ]
  },
  {
   "cell_type": "markdown",
   "id": "c4a35bb4",
   "metadata": {},
   "source": [
    "Napišite funkcijo `izpis : polinom -> string`, ki polinom lepo izpiše. Na primer, `izpis [1; -2; 3]` vrne `\"3 x^2 - 2 x + 1\"` oziroma še bolje kot `\"3 x² - 2 x + 1\"`. Pozorni bodite, da izpis začnete z vodilnim členom."
   ]
  },
  {
   "cell_type": "code",
   "execution_count": 46,
   "id": "25235739",
   "metadata": {},
   "outputs": [
    {
     "data": {
      "text/plain": [
       "val izpis : polinom -> string = <fun>\n"
      ]
     },
     "execution_count": 46,
     "metadata": {},
     "output_type": "execute_result"
    }
   ],
   "source": [
    "let izpis (p : polinom) : string =\n",
    "    let superscript_list : string list = [\"⁰\"; \"¹\"; \"²\"; \"³\"; \"⁴\"; \"⁵\"; \"⁶\"; \"⁷\"; \"⁸\"; \"⁹\"]\n",
    "    in\n",
    "    let rec superscript (acc : string) (n : int) : string =\n",
    "        if n < 0 then \"⁻\" ^ superscript \"\" (-n)\n",
    "        else if n = 0 && acc = \"\" then \"⁰\"\n",
    "        else\n",
    "            match n with\n",
    "            | 0 -> acc\n",
    "            | n -> superscript\n",
    "                (\n",
    "                    List.nth superscript_list (n mod 10)\n",
    "                    |> (fun (s : string) : string -> s ^ acc)\n",
    "                )\n",
    "                (n / 10)\n",
    "    in\n",
    "    let factor_const (is_leading : bool) (is_constant : bool) (n : int) : string =\n",
    "        let plus_sign : string = if is_leading then \"\" else \" + \"\n",
    "        and minus_sign : string = if is_leading then \"- \" else \" - \"\n",
    "        and padding : string = if is_constant then \"\" else \" \"\n",
    "        in\n",
    "        let one_sign : string = if is_constant then \"1\" else \"\"\n",
    "        in\n",
    "        match n with\n",
    "        | 1 -> plus_sign ^ one_sign\n",
    "        | -1 -> minus_sign ^ one_sign\n",
    "        | n when n >= 0 -> plus_sign ^ string_of_int n ^ padding\n",
    "        | n -> minus_sign ^ string_of_int (-n) ^ padding\n",
    "    and factor_power (i : int) : string =\n",
    "        match i with\n",
    "        | 0 -> \"\"\n",
    "        | 1 -> \"x\"\n",
    "        | i -> \"x\" ^ superscript \"\" i\n",
    "    in\n",
    "    let rec izpis_aux (acc : string) (i : int) (p : polinom) : string =\n",
    "        match p with\n",
    "        | [] ->\n",
    "            if acc = \"\" then \"0\"\n",
    "            else acc\n",
    "        | hd :: tl -> izpis_aux\n",
    "            (\n",
    "                match hd with\n",
    "                | 0 -> acc\n",
    "                | n -> (factor_const (tl = []) (i = 0) n) ^ (factor_power i) ^ acc\n",
    "            )\n",
    "            (i + 1) tl\n",
    "    in\n",
    "    pocisti p\n",
    "    |> izpis_aux \"\" 0"
   ]
  },
  {
   "cell_type": "code",
   "execution_count": 47,
   "id": "94db4013",
   "metadata": {},
   "outputs": [
    {
     "data": {
      "text/plain": [
       "- : string = \"x² + 2 x + 1\"\n"
      ]
     },
     "execution_count": 47,
     "metadata": {},
     "output_type": "execute_result"
    }
   ],
   "source": [
    "izpis [1; 2; 1]"
   ]
  },
  {
   "cell_type": "code",
   "execution_count": 48,
   "id": "bccfcd4f",
   "metadata": {},
   "outputs": [
    {
     "data": {
      "text/plain": [
       "- : string = \"x¹² - x¹⁰ + x⁸ - x⁶ + x⁴ - x² + 1\"\n"
      ]
     },
     "execution_count": 48,
     "metadata": {},
     "output_type": "execute_result"
    }
   ],
   "source": [
    "izpis [1; 0; -1; 0; 1; 0; -1; 0; 1; 0; -1; 0; 1]"
   ]
  },
  {
   "cell_type": "code",
   "execution_count": 49,
   "id": "52b04caa",
   "metadata": {},
   "outputs": [
    {
     "data": {
      "text/plain": [
       "- : string = \"- x³ + 3 x² - 3 x\"\n"
      ]
     },
     "execution_count": 49,
     "metadata": {},
     "output_type": "execute_result"
    }
   ],
   "source": [
    "izpis [0; -3; 3; -1]"
   ]
  },
  {
   "cell_type": "code",
   "execution_count": 50,
   "id": "5e2d2c75",
   "metadata": {},
   "outputs": [
    {
     "data": {
      "text/plain": [
       "- : string = \"0\"\n"
      ]
     },
     "execution_count": 50,
     "metadata": {},
     "output_type": "execute_result"
    }
   ],
   "source": [
    "izpis []"
   ]
  },
  {
   "cell_type": "code",
   "execution_count": 51,
   "id": "4949af55",
   "metadata": {},
   "outputs": [
    {
     "data": {
      "text/plain": [
       "- : string = \"2 x + 1\"\n"
      ]
     },
     "execution_count": 51,
     "metadata": {},
     "output_type": "execute_result"
    }
   ],
   "source": [
    "izpis [1; 2; 0]"
   ]
  },
  {
   "cell_type": "markdown",
   "id": "dfd3ac4e",
   "metadata": {},
   "source": [
    "## Samodejno odvajanje"
   ]
  },
  {
   "cell_type": "markdown",
   "id": "368ea272",
   "metadata": {},
   "source": [
    "Ob razmahu strojnega učenja, ki optimalno rešitev išče s pomočjo gradientnega spusta, si želimo čim bolj enostavno računati odvode. Odvod funkcije $f$ v točki $x_0$ lahko seveda ocenimo tako, da v\n",
    "\n",
    "$$\\frac{f (x_0 + h) - f(x_0)}{h}$$\n",
    "\n",
    "vstavimo dovolj majhno število $h$."
   ]
  },
  {
   "cell_type": "code",
   "execution_count": 52,
   "id": "e618debf",
   "metadata": {},
   "outputs": [
    {
     "data": {
      "text/plain": [
       "val priblizek_odvoda : (float -> float) -> float -> float -> float = <fun>\n"
      ]
     },
     "execution_count": 52,
     "metadata": {},
     "output_type": "execute_result"
    }
   ],
   "source": [
    "let priblizek_odvoda (f : float -> float) (x0 : float) (h : float) : float =\n",
    "    (f (x0 +. h) -. f x0) /. h"
   ]
  },
  {
   "cell_type": "code",
   "execution_count": 53,
   "id": "e5b658d3",
   "metadata": {},
   "outputs": [
    {
     "data": {
      "text/plain": [
       "- : float list =\n",
       "[2.48914386298364931; 2.42384618742050861; 2.41778190719976749;\n",
       " 2.41717997997881184; 2.41711983210990411]\n"
      ]
     },
     "execution_count": 53,
     "metadata": {},
     "output_type": "execute_result"
    }
   ],
   "source": [
    "let f (x : float) : float =\n",
    "    sin x +. cos x +. exp x\n",
    "in\n",
    "List.map (priblizek_odvoda f 1.) [0.1; 0.01; 0.001; 0.0001; 0.00001]"
   ]
  },
  {
   "cell_type": "markdown",
   "id": "d28ae5af",
   "metadata": {},
   "source": [
    "Pri samodejnem odvajanju izkoristimo to, da poznamo odvode elementarnih funkcij, odvode sestavljenih funkcij pa lahko izračunamo iz posameznih odvodov. Tako bomo vsako funkcijo predstavili s parom: prvotno funkcijo in njenim odvodom."
   ]
  },
  {
   "cell_type": "code",
   "execution_count": 54,
   "id": "4a5148de",
   "metadata": {},
   "outputs": [
    {
     "data": {
      "text/plain": [
       "type odvedljiva = (float -> float) * (float -> float)\n"
      ]
     },
     "execution_count": 54,
     "metadata": {},
     "output_type": "execute_result"
    }
   ],
   "source": [
    "type odvedljiva = (float -> float) * (float -> float)"
   ]
  },
  {
   "cell_type": "code",
   "execution_count": 55,
   "id": "9fbab188",
   "metadata": {},
   "outputs": [
    {
     "data": {
      "text/plain": [
       "val sinus : odvedljiva = (<fun>, <fun>)\n"
      ]
     },
     "execution_count": 55,
     "metadata": {},
     "output_type": "execute_result"
    },
    {
     "data": {
      "text/plain": [
       "val kosinus : odvedljiva = (<fun>, <fun>)\n"
      ]
     },
     "execution_count": 55,
     "metadata": {},
     "output_type": "execute_result"
    },
    {
     "data": {
      "text/plain": [
       "val eksp : odvedljiva = (<fun>, <fun>)\n"
      ]
     },
     "execution_count": 55,
     "metadata": {},
     "output_type": "execute_result"
    },
    {
     "data": {
      "text/plain": [
       "val ( ++. ) : odvedljiva -> odvedljiva -> odvedljiva = <fun>\n"
      ]
     },
     "execution_count": 55,
     "metadata": {},
     "output_type": "execute_result"
    }
   ],
   "source": [
    "let sinus : odvedljiva = (sin, cos)\n",
    "let kosinus : odvedljiva = (cos, (fun (x : float) : float -> -. sin x))\n",
    "let eksp : odvedljiva = (exp, exp)\n",
    "let ( ++. ) ((f, f') : odvedljiva) ((g, g') : odvedljiva) : odvedljiva =\n",
    "    (\n",
    "        (fun (x : float) : float -> f x +. g x),\n",
    "        (fun (x : float) : float -> f' x +. g' x)\n",
    "    )"
   ]
  },
  {
   "cell_type": "code",
   "execution_count": 56,
   "id": "aa5bcbf2",
   "metadata": {},
   "outputs": [
    {
     "data": {
      "text/plain": [
       "- : float = 2.41711314951928813\n"
      ]
     },
     "execution_count": 56,
     "metadata": {},
     "output_type": "execute_result"
    }
   ],
   "source": [
    "let (_, f') : odvedljiva = sinus ++. kosinus ++. eksp\n",
    "in\n",
    "f' 1."
   ]
  },
  {
   "cell_type": "markdown",
   "id": "5c19d5e4",
   "metadata": {},
   "source": [
    "### Vrednost odvoda"
   ]
  },
  {
   "cell_type": "markdown",
   "id": "c14668a2",
   "metadata": {},
   "source": [
    "Napišite funkciji `vrednost : odvedljiva -> float -> float` in `odvod : odvedljiva -> float -> float`, ki izračunata vrednost funkcije in njenega odvoda v danem argumentu."
   ]
  },
  {
   "cell_type": "code",
   "execution_count": 57,
   "id": "384daa13",
   "metadata": {},
   "outputs": [
    {
     "data": {
      "text/plain": [
       "val vrednost : odvedljiva -> float -> float = <fun>\n"
      ]
     },
     "execution_count": 57,
     "metadata": {},
     "output_type": "execute_result"
    },
    {
     "data": {
      "text/plain": [
       "val odvod : odvedljiva -> float -> float = <fun>\n"
      ]
     },
     "execution_count": 57,
     "metadata": {},
     "output_type": "execute_result"
    }
   ],
   "source": [
    "let vrednost ((f, _) : odvedljiva) (x0 : float) : float =\n",
    "    f x0\n",
    "\n",
    "let odvod ((_, f') : odvedljiva) (x0 : float) : float =\n",
    "    f' x0"
   ]
  },
  {
   "cell_type": "markdown",
   "id": "83367173",
   "metadata": {},
   "source": [
    "### Osnovne funkcije"
   ]
  },
  {
   "cell_type": "markdown",
   "id": "7348453d",
   "metadata": {},
   "source": [
    "Napišite funkciji `konstanta : float -> odvedljiva` in `identiteta : odvedljiva`, ki predstavljata konstantno in identično funkcijo."
   ]
  },
  {
   "cell_type": "code",
   "execution_count": 58,
   "id": "652329d5",
   "metadata": {},
   "outputs": [
    {
     "data": {
      "text/plain": [
       "val konstanta : float -> odvedljiva = <fun>\n"
      ]
     },
     "execution_count": 58,
     "metadata": {},
     "output_type": "execute_result"
    },
    {
     "data": {
      "text/plain": [
       "val identiteta : odvedljiva = (<fun>, <fun>)\n"
      ]
     },
     "execution_count": 58,
     "metadata": {},
     "output_type": "execute_result"
    }
   ],
   "source": [
    "let konstanta (c : float) : odvedljiva =\n",
    "    (\n",
    "        (fun (x : float) : float -> c),\n",
    "        (fun (x : float) : float -> 0.)\n",
    "    )\n",
    "\n",
    "let identiteta : odvedljiva = ((fun (x : float) : float -> x), (fun (x : float) : float -> 1.))"
   ]
  },
  {
   "cell_type": "markdown",
   "id": "154e19c9",
   "metadata": {},
   "source": [
    "### Produkt in kvocient"
   ]
  },
  {
   "cell_type": "markdown",
   "id": "6c4e09b6",
   "metadata": {},
   "source": [
    "Napišite funkciji `( **. ) : odvedljiva -> odvedljiva -> odvedljiva` in `( //. ) : odvedljiva -> odvedljiva -> odvedljiva`, ki predstavljata produkt in kvocient dveh odvedljivih funkcij."
   ]
  },
  {
   "cell_type": "code",
   "execution_count": 59,
   "id": "6a9cd759",
   "metadata": {},
   "outputs": [
    {
     "data": {
      "text/plain": [
       "val ( **. ) : odvedljiva -> odvedljiva -> odvedljiva = <fun>\n"
      ]
     },
     "execution_count": 59,
     "metadata": {},
     "output_type": "execute_result"
    },
    {
     "data": {
      "text/plain": [
       "val ( //. ) : odvedljiva -> odvedljiva -> odvedljiva = <fun>\n"
      ]
     },
     "execution_count": 59,
     "metadata": {},
     "output_type": "execute_result"
    }
   ],
   "source": [
    "let ( **. ) ((f, f') : odvedljiva) ((g, g') : odvedljiva) : odvedljiva =\n",
    "    (\n",
    "        (fun (x : float) : float -> f x *. g x),\n",
    "        (fun (x : float) : float -> f' x *. g x +. f x *. g' x)\n",
    "    )\n",
    "\n",
    "let ( //. ) ((f, f') : odvedljiva) ((g, g') : odvedljiva) : odvedljiva =\n",
    "    (\n",
    "        (fun (x : float) : float -> f x /. g x),\n",
    "        (fun (x : float) : float -> (f' x *. g x -. f x *. g' x) /. (g x *. g x))\n",
    "    )"
   ]
  },
  {
   "cell_type": "code",
   "execution_count": 60,
   "id": "b6e0e12a",
   "metadata": {},
   "outputs": [
    {
     "data": {
      "text/plain": [
       "val kvadrat : odvedljiva = (<fun>, <fun>)\n"
      ]
     },
     "execution_count": 60,
     "metadata": {},
     "output_type": "execute_result"
    }
   ],
   "source": [
    "let kvadrat : odvedljiva = identiteta **. identiteta"
   ]
  },
  {
   "cell_type": "code",
   "execution_count": 61,
   "id": "5926359a",
   "metadata": {},
   "outputs": [
    {
     "data": {
      "text/plain": [
       "- : float = 49.\n"
      ]
     },
     "execution_count": 61,
     "metadata": {},
     "output_type": "execute_result"
    }
   ],
   "source": [
    "vrednost kvadrat 7."
   ]
  },
  {
   "cell_type": "code",
   "execution_count": 62,
   "id": "c1d08f84",
   "metadata": {},
   "outputs": [
    {
     "data": {
      "text/plain": [
       "- : float = 14.\n"
      ]
     },
     "execution_count": 62,
     "metadata": {},
     "output_type": "execute_result"
    }
   ],
   "source": [
    "odvod kvadrat 7."
   ]
  },
  {
   "cell_type": "markdown",
   "id": "97ea0d67",
   "metadata": {},
   "source": [
    "### Kompozitum"
   ]
  },
  {
   "cell_type": "markdown",
   "id": "a688b3b5",
   "metadata": {},
   "source": [
    "Napišite funkcijo `( @@. ) : odvedljiva -> odvedljiva -> odvedljiva`, ki predstavlja kompozitum dveh odvedljivih funkcij."
   ]
  },
  {
   "cell_type": "code",
   "execution_count": 63,
   "id": "e9cf40f9",
   "metadata": {},
   "outputs": [
    {
     "data": {
      "text/plain": [
       "val ( @@. ) : odvedljiva -> odvedljiva -> odvedljiva = <fun>\n"
      ]
     },
     "execution_count": 63,
     "metadata": {},
     "output_type": "execute_result"
    }
   ],
   "source": [
    "let ( @@. ) ((f, f') : odvedljiva) ((g, g') : odvedljiva) : odvedljiva =\n",
    "    (\n",
    "        (fun (x : float) : float -> f (g x)),\n",
    "        (fun (x : float) : float -> f' (g x) *. g' x)\n",
    "    )"
   ]
  },
  {
   "cell_type": "code",
   "execution_count": 64,
   "id": "de49cbec",
   "metadata": {},
   "outputs": [
    {
     "data": {
      "text/plain": [
       "val vedno_ena : odvedljiva = (<fun>, <fun>)\n"
      ]
     },
     "execution_count": 64,
     "metadata": {},
     "output_type": "execute_result"
    }
   ],
   "source": [
    "let vedno_ena : odvedljiva = (kvadrat @@. sinus) ++. (kvadrat @@. kosinus)"
   ]
  },
  {
   "cell_type": "code",
   "execution_count": 65,
   "id": "c15de931",
   "metadata": {},
   "outputs": [
    {
     "data": {
      "text/plain": [
       "- : float = 0.999999999999999889\n"
      ]
     },
     "execution_count": 65,
     "metadata": {},
     "output_type": "execute_result"
    }
   ],
   "source": [
    "vrednost vedno_ena 12345."
   ]
  },
  {
   "cell_type": "code",
   "execution_count": 66,
   "id": "f2fa27bf",
   "metadata": {},
   "outputs": [
    {
     "data": {
      "text/plain": [
       "- : float = 0.\n"
      ]
     },
     "execution_count": 66,
     "metadata": {},
     "output_type": "execute_result"
    }
   ],
   "source": [
    "odvod vedno_ena 12345."
   ]
  },
  {
   "cell_type": "markdown",
   "id": "304ab0ea",
   "metadata": {},
   "source": [
    "## Substitucijska šifra"
   ]
  },
  {
   "cell_type": "markdown",
   "id": "f017edd6",
   "metadata": {},
   "source": [
    "Substitucijska šifra je preprosta šifra, pri kateri črke abecede med seboj permutiramo. Na primer, če bi (angleško) abecedo permutirali kot\n",
    "\n",
    "```\n",
    "A B C D E F G H I J K L M N O P Q R S T U V W X Y Z\n",
    "T H E Q U I C K B R W N F X J M P S O V L A Z Y D G\n",
    "```\n",
    "\n",
    "bi besedo `HELLO` šifrirali kot `KUNNJ`. Ključe, s katerimi šifriramo besedila bomo predstavili kar z nizi črk, v katere se slikajo črke abecede."
   ]
  },
  {
   "cell_type": "code",
   "execution_count": 67,
   "id": "ebe014b2",
   "metadata": {},
   "outputs": [
    {
     "data": {
      "text/plain": [
       "val quick_brown_fox : string = \"THEQUICKBRWNFXJMPSOVLAZYDG\"\n"
      ]
     },
     "execution_count": 67,
     "metadata": {},
     "output_type": "execute_result"
    },
    {
     "data": {
      "text/plain": [
       "val rot13 : string = \"NOPQRSTUVWXYZABCDEFGHIJKLM\"\n"
      ]
     },
     "execution_count": 67,
     "metadata": {},
     "output_type": "execute_result"
    }
   ],
   "source": [
    "let quick_brown_fox : string = \"THEQUICKBRWNFXJMPSOVLAZYDG\"\n",
    "let rot13 : string = \"NOPQRSTUVWXYZABCDEFGHIJKLM\""
   ]
  },
  {
   "cell_type": "markdown",
   "id": "792d4617",
   "metadata": {},
   "source": [
    "Včasih bomo v primerih uporabljali tudi krajše ključe, a vedno lahko predpostavite, da bodo ključi permutacije začetnega dela abecede. Prav tako si pri delu lahko pomagate s funkcijama `indeks` in `crka`:"
   ]
  },
  {
   "cell_type": "code",
   "execution_count": 68,
   "id": "d4ef2a49",
   "metadata": {},
   "outputs": [
    {
     "data": {
      "text/plain": [
       "val indeks : char -> int = <fun>\n"
      ]
     },
     "execution_count": 68,
     "metadata": {},
     "output_type": "execute_result"
    },
    {
     "data": {
      "text/plain": [
       "val crka : int -> char = <fun>\n"
      ]
     },
     "execution_count": 68,
     "metadata": {},
     "output_type": "execute_result"
    }
   ],
   "source": [
    "let indeks (c :char) : int =\n",
    "    Char.code c - Char.code 'A'\n",
    "\n",
    "let crka (i : int) : char =\n",
    "    Char.chr (i + Char.code 'A')"
   ]
  },
  {
   "cell_type": "markdown",
   "id": "d07c5700",
   "metadata": {},
   "source": [
    "Predno začnemo reševati pa lahko napišemo še par uporabnih funkcij `explode : string -> char list`, ki nam niz pretvori v seznam znakov in `implode : char list -> string`, ki je njen inverz. -Andrej Anžlovar"
   ]
  },
  {
   "cell_type": "code",
   "execution_count": 69,
   "id": "b7218087",
   "metadata": {},
   "outputs": [
    {
     "data": {
      "text/plain": [
       "val explode : string -> char list = <fun>\n"
      ]
     },
     "execution_count": 69,
     "metadata": {},
     "output_type": "execute_result"
    },
    {
     "data": {
      "text/plain": [
       "val implode : char list -> string = <fun>\n"
      ]
     },
     "execution_count": 69,
     "metadata": {},
     "output_type": "execute_result"
    }
   ],
   "source": [
    "let explode (string : string) : char list =\n",
    "    String.to_seq string\n",
    "    |> List.of_seq\n",
    "\n",
    "let implode (char_list : char list) : string =\n",
    "    List.to_seq char_list\n",
    "    |> String.of_seq"
   ]
  },
  {
   "cell_type": "markdown",
   "id": "e005362f",
   "metadata": {},
   "source": [
    "### Šifriranje"
   ]
  },
  {
   "cell_type": "markdown",
   "id": "e63d5725",
   "metadata": {},
   "source": [
    "Napišite funkcijo `sifriraj : string -> string -> string`, ki besedilo šifrira z danim ključem. Vse znake, ki niso velike tiskane črke, pustimo pri miru."
   ]
  },
  {
   "cell_type": "code",
   "execution_count": 70,
   "id": "05c0cfe3",
   "metadata": {},
   "outputs": [
    {
     "data": {
      "text/plain": [
       "val sifriraj : string -> string -> string = <fun>\n"
      ]
     },
     "execution_count": 70,
     "metadata": {},
     "output_type": "execute_result"
    }
   ],
   "source": [
    "let sifriraj (key : string) (string : string) : string =\n",
    "    let key_len : int = String.length key\n",
    "    in\n",
    "    let rec sifriraj_aux (acc : char list) (chars : char list) : char list =\n",
    "        match chars with\n",
    "        | [] -> acc\n",
    "        | hd :: tl -> sifriraj_aux\n",
    "            (\n",
    "                let i : int = indeks hd\n",
    "                in\n",
    "                (\n",
    "                    if 0 <= i && i < key_len then key.[i]\n",
    "                    else hd\n",
    "                ) :: acc\n",
    "            )\n",
    "            tl\n",
    "    in\n",
    "    explode string\n",
    "    |> sifriraj_aux []\n",
    "    |> List.rev\n",
    "    |> implode"
   ]
  },
  {
   "cell_type": "code",
   "execution_count": 71,
   "id": "54444f62",
   "metadata": {},
   "outputs": [
    {
     "data": {
      "text/plain": [
       "- : string = \"KUNNJ, ZJSNQ!\"\n"
      ]
     },
     "execution_count": 71,
     "metadata": {},
     "output_type": "execute_result"
    }
   ],
   "source": [
    "sifriraj quick_brown_fox \"HELLO, WORLD!\""
   ]
  },
  {
   "cell_type": "code",
   "execution_count": 72,
   "id": "560cecda",
   "metadata": {},
   "outputs": [
    {
     "data": {
      "text/plain": [
       "- : string = \"IRAV, IVQV, IVPV\"\n"
      ]
     },
     "execution_count": 72,
     "metadata": {},
     "output_type": "execute_result"
    }
   ],
   "source": [
    "\"VENI, VIDI, VICI\" |> sifriraj rot13"
   ]
  },
  {
   "cell_type": "code",
   "execution_count": 73,
   "id": "9af74049",
   "metadata": {},
   "outputs": [
    {
     "data": {
      "text/plain": [
       "- : string = \"VENI, VIDI, VICI\"\n"
      ]
     },
     "execution_count": 73,
     "metadata": {},
     "output_type": "execute_result"
    }
   ],
   "source": [
    "\"VENI, VIDI, VICI\" |> sifriraj rot13 |> sifriraj rot13"
   ]
  },
  {
   "cell_type": "markdown",
   "id": "494791b8",
   "metadata": {},
   "source": [
    "### Inverzni ključ"
   ]
  },
  {
   "cell_type": "markdown",
   "id": "fe0db0ff",
   "metadata": {},
   "source": [
    "Napišite funkcijo `inverz : string -> string`, ki iz ključa izračuna njegov inverz."
   ]
  },
  {
   "cell_type": "code",
   "execution_count": 74,
   "id": "a09153e5",
   "metadata": {},
   "outputs": [
    {
     "data": {
      "text/plain": [
       "val inverz_no_gaps : string -> string = <fun>\n"
      ]
     },
     "execution_count": 74,
     "metadata": {},
     "output_type": "execute_result"
    },
    {
     "data": {
      "text/plain": [
       "val inverz : string -> string = <fun>\n"
      ]
     },
     "execution_count": 74,
     "metadata": {},
     "output_type": "execute_result"
    }
   ],
   "source": [
    "(* hitrejša in preprostejša implementacija za ključe brez lukenj *)\n",
    "let inverz_no_gaps (key : string) : string =\n",
    "    List.init (String.length key) crka\n",
    "    |> List.combine (explode key)\n",
    "    |> List.fast_sort (fun ((c1, _) : char * char) ((c2, _) : char * char) : int -> Char.code c1 - Char.code c2)\n",
    "    |> List.map (fun ((_, c) : char * char) : char -> c)\n",
    "    |> implode\n",
    "\n",
    "let inverz (key : string) : string =\n",
    "    let rec index_of_char_opt (i : int) (c : char) (chars : char list) : int option =\n",
    "        match chars with\n",
    "        | [] -> None\n",
    "        | hd :: _ when hd = c -> Some i\n",
    "        | _ :: tl -> index_of_char_opt (i + 1) c tl\n",
    "    and key_chars : char list = explode key\n",
    "    in\n",
    "    let rec inverz_aux (acc : char list) (ci : int) : char list =\n",
    "        if String.length key <= ci then acc\n",
    "        else inverz_aux\n",
    "            (\n",
    "                match index_of_char_opt 0 (crka ci) key_chars with\n",
    "                | None -> '_' :: acc\n",
    "                | Some i -> (crka i) :: acc\n",
    "            )\n",
    "            (ci + 1)\n",
    "    in\n",
    "    inverz_aux [] 0\n",
    "    |> List.rev\n",
    "    |> implode"
   ]
  },
  {
   "cell_type": "code",
   "execution_count": 75,
   "id": "6df62bc7",
   "metadata": {},
   "outputs": [
    {
     "data": {
      "text/plain": [
       "- : string = \"VIGYCMZBFOHUPLSQDJRAETKNXW\"\n"
      ]
     },
     "execution_count": 75,
     "metadata": {},
     "output_type": "execute_result"
    }
   ],
   "source": [
    "inverz quick_brown_fox"
   ]
  },
  {
   "cell_type": "code",
   "execution_count": 76,
   "id": "df124752",
   "metadata": {},
   "outputs": [
    {
     "data": {
      "text/plain": [
       "- : string = \"VIGYCMZBFOHUPLSQDJRAETKNXW\"\n"
      ]
     },
     "execution_count": 76,
     "metadata": {},
     "output_type": "execute_result"
    }
   ],
   "source": [
    "inverz_no_gaps quick_brown_fox"
   ]
  },
  {
   "cell_type": "code",
   "execution_count": 77,
   "id": "ae70ef16",
   "metadata": {},
   "outputs": [
    {
     "data": {
      "text/plain": [
       "- : bool = true\n"
      ]
     },
     "execution_count": 77,
     "metadata": {},
     "output_type": "execute_result"
    }
   ],
   "source": [
    "inverz rot13 = rot13"
   ]
  },
  {
   "cell_type": "code",
   "execution_count": 78,
   "id": "bdc53636",
   "metadata": {},
   "outputs": [
    {
     "data": {
      "text/plain": [
       "- : string = \"EABCD\"\n"
      ]
     },
     "execution_count": 78,
     "metadata": {},
     "output_type": "execute_result"
    }
   ],
   "source": [
    "inverz \"BCDEA\""
   ]
  },
  {
   "cell_type": "code",
   "execution_count": 79,
   "id": "ab394e17",
   "metadata": {},
   "outputs": [
    {
     "data": {
      "text/plain": [
       "- : string = \"EABCD\"\n"
      ]
     },
     "execution_count": 79,
     "metadata": {},
     "output_type": "execute_result"
    }
   ],
   "source": [
    "inverz_no_gaps \"BCDEA\""
   ]
  },
  {
   "cell_type": "code",
   "execution_count": 80,
   "id": "fdc71c30",
   "metadata": {},
   "outputs": [
    {
     "data": {
      "text/plain": [
       "- : string = \"EA_C_\"\n"
      ]
     },
     "execution_count": 80,
     "metadata": {},
     "output_type": "execute_result"
    }
   ],
   "source": [
    "inverz \"B_D_A\""
   ]
  },
  {
   "cell_type": "code",
   "execution_count": 81,
   "id": "05a5f1fc",
   "metadata": {},
   "outputs": [
    {
     "data": {
      "text/plain": [
       "- : string = \"EACBD\"\n"
      ]
     },
     "execution_count": 81,
     "metadata": {},
     "output_type": "execute_result"
    }
   ],
   "source": [
    "(* tukaj hitrejša implementacija ne deluje pravilno *)\n",
    "inverz_no_gaps \"B_D_A\""
   ]
  },
  {
   "cell_type": "markdown",
   "id": "32994002",
   "metadata": {},
   "source": [
    "### Ugibanje ključa"
   ]
  },
  {
   "cell_type": "markdown",
   "id": "7cb666bc",
   "metadata": {},
   "source": [
    "Včasih seveda ne poznamo ključa, a vemo, da je besedilo v angleščini. Tako lahko ključ poskusimo uganiti tako, da šifrirane besede paroma primerjamo z besedami iz slovarja, ki smo si ga sposodili [s spleta](https://gist.github.com/deekayen/4148741)."
   ]
  },
  {
   "cell_type": "code",
   "execution_count": 82,
   "id": "94d1723d",
   "metadata": {},
   "outputs": [
    {
     "data": {
      "text/plain": [
       "val besede : string =\n",
       "  \"the of to and a in is it you that he was for on are with as i his they be at one have this from or had by word but what some we can out other were all there when up use your how said an each she which do their time if will way about many then them write would like so these her long make thing see h\"... (* string length 5837; truncated *)\n"
      ]
     },
     "execution_count": 82,
     "metadata": {},
     "output_type": "execute_result"
    }
   ],
   "source": [
    "let besede : string = \"the of to and a in is it you that he was for on are with as i his they be at one have this from or had by word but what some we can out other were all there when up use your how said an each she which do their time if will way about many then them write would like so these her long make thing see him two has look more day could go come did number sound no most people my over know water than call first who may down side been now find any new work part take get place made live where after back little only round man year came show every good me give our under name very through just form sentence great think say help low line differ turn cause much mean before move right boy old too same tell does set three want air well also play small end put home read hand port large spell add even land here must big high such follow act why ask men change went light kind off need house picture try us again animal point mother world near build self earth father head stand own page should country found answer school grow study still learn plant cover food sun four between state keep eye never last let thought city tree cross farm hard start might story saw far sea draw left late run don't while press close night real life few north open seem together next white children begin got walk example ease paper group always music those both mark often letter until mile river car feet care second book carry took science eat room friend began idea fish mountain stop once base hear horse cut sure watch color face wood main enough plain girl usual young ready above ever red list though feel talk bird soon body dog family direct pose leave song measure door product black short numeral class wind question happen complete ship area half rock order fire south problem piece told knew pass since top whole king space heard best hour better true . during hundred five remember step early hold west ground interest reach fast verb sing listen six table travel less morning ten simple several vowel toward war lay against pattern slow center love person money serve appear road map rain rule govern pull cold notice voice unit power town fine certain fly fall lead cry dark machine note wait plan figure star box noun field rest correct able pound done beauty drive stood contain front teach week final gave green oh quick develop ocean warm free minute strong special mind behind clear tail produce fact street inch multiply nothing course stay wheel full force blue object decide surface deep moon island foot system busy test record boat common gold possible plane stead dry wonder laugh thousand ago ran check game shape equate hot miss brought heat snow tire bring yes distant fill east paint language among grand ball yet wave drop heart am present heavy dance engine position arm wide sail material size vary settle speak weight general ice matter circle pair include divide syllable felt perhaps pick sudden count square reason length represent art subject region energy hunt probable bed brother egg ride cell believe fraction forest sit race window store summer train sleep prove lone leg exercise wall catch mount wish sky board joy winter sat written wild instrument kept glass grass cow job edge sign visit past soft fun bright gas weather month million bear finish happy hope flower clothe strange gone jump baby eight village meet root buy raise solve metal whether push seven paragraph third shall held hair describe cook floor either result burn hill safe cat century consider type law bit coast copy phrase silent tall sand soil roll temperature finger industry value fight lie beat excite natural view sense ear else quite broke case middle kill son lake moment scale loud spring observe child straight consonant nation dictionary milk speed method organ pay age section dress cloud surprise quiet stone tiny climb cool design poor lot experiment bottom key iron single stick flat twenty skin smile crease hole trade melody trip office receive row mouth exact symbol die least trouble shout except wrote seed tone join suggest clean break lady yard rise bad blow oil blood touch grew cent mix team wire cost lost brown wear garden equal sent choose fell fit flow fair bank collect save control decimal gentle woman captain practice separate difficult doctor please protect noon whose locate ring character insect caught period indicate radio spoke atom human history effect electric expect crop modern element hit student corner party supply bone rail imagine provide agree thus capital won't chair danger fruit rich thick soldier process operate guess necessary sharp wing create neighbor wash bat rather crowd corn compare poem string bell depend meat rub tube famous dollar stream fear sight thin triangle planet hurry chief colony clock mine tie enter major fresh search send yellow gun allow print dead spot desert suit current lift rose continue block chart hat sell success company subtract event particular deal swim term opposite wife shoe shoulder spread arrange camp invent cotton born determine quart nine truck noise level chance gather shop stretch throw shine property column molecule select wrong gray repeat require broad prepare salt nose plural anger claim continent oxygen sugar death pretty skill women season solution magnet silver thank branch match suffix especially fig afraid huge sister steel discuss forward similar guide experience score apple bought led pitch coat mass card band rope slip win dream evening condition feed tool total basic smell valley nor double seat arrive master track parent shore division sheet substance favor connect post spend chord fat glad original share station dad bread charge proper bar offer segment slave duck instant market degree populate chick dear enemy reply drink occur support speech nature range steam motion path liquid log meant quotient teeth shell neck\""
   ]
  },
  {
   "cell_type": "markdown",
   "id": "d0d08dd7",
   "metadata": {},
   "source": [
    "Sestavite vrednost `slovar : string list`, ki vsebuje vse besede iz slovarja, pretvorjene v velike tiskane črke."
   ]
  },
  {
   "cell_type": "code",
   "execution_count": 83,
   "id": "19f29fab",
   "metadata": {},
   "outputs": [
    {
     "data": {
      "text/plain": [
       "val slovar : string list =\n",
       "  [\"THE\"; \"OF\"; \"TO\"; \"AND\"; \"A\"; \"IN\"; \"IS\"; \"IT\"; \"YOU\"; \"THAT\"; \"HE\";\n",
       "   \"WAS\"; \"FOR\"; \"ON\"; \"ARE\"; \"WITH\"; \"AS\"; \"I\"; \"HIS\"; \"THEY\"; \"BE\"; \"AT\";\n",
       "   \"ONE\"; \"HAVE\"; \"THIS\"; \"FROM\"; \"OR\"; \"HAD\"; \"BY\"; \"WORD\"; \"BUT\"; \"WHAT\";\n",
       "   \"SOME\"; \"WE\"; \"CAN\"; \"OUT\"; \"OTHER\"; \"WERE\"; \"ALL\"; \"THERE\"; \"WHEN\"; \"UP\";\n",
       "   \"USE\"; \"YOUR\"; \"HOW\"; \"SAID\"; \"AN\"; \"EACH\"; \"SHE\"; \"WHICH\"; \"DO\"; \"THEIR\";\n",
       "   \"TIME\"; \"IF\"; \"WILL\"; \"WAY\"; \"ABOUT\"; \"MANY\"; \"THEN\"; \"THEM\"; \"WRITE\";\n",
       "   \"WOULD\"; \"LIKE\"; \"SO\"; \"THESE\"; \"HER\"; \"LONG\"; \"MAKE\"; \"THING\"; \"SEE\";\n",
       "   \"HIM\"; \"TWO\"; \"HAS\"; \"LOOK\"; \"MORE\"; \"DAY\"; \"COULD\"; \"GO\"; \"COME\"; \"DID\";\n",
       "   \"NUMBER\"; \"SOUND\"; \"NO\"; \"MOST\"; \"PEOPLE\"; \"MY\"; \"OVER\"; \"KNOW\"; \"WATER\";\n",
       "   \"THAN\"; \"CALL\"; \"FIRST\"; \"WHO\"; \"MAY\"; \"DOWN\"; \"SIDE\"; \"BEEN\"; \"NOW\";\n",
       "   \"FIND\"; \"ANY\"; \"NEW\"; \"WORK\"; \"PART\"; \"TAKE\"; \"GET\"; \"PLACE\"; \"MADE\";\n",
       "   \"LIVE\"; \"WHERE\"; \"AFTER\"; \"BACK\"; \"LITTLE\"; \"ONLY\"; \"ROUND\"; \"MAN\";\n",
       "   \"YEAR\"; \"CAME\"; \"SHOW\"; \"EVERY\"; \"GOOD\"; \"ME\"; \"GIVE\"; \"OUR\"; \"UNDER\";\n",
       "   \"NAME\"; \"VERY\"; \"THROUGH\"; \"JUST\"; \"FORM\"; \"SENTENCE\"; \"GREAT\"; \"THINK\";\n",
       "   \"SAY\"; \"HELP\"; \"LOW\"; \"LINE\"; \"DIFFER\"; \"TURN\"; \"CAUSE\"; \"MUCH\"; \"MEAN\";\n",
       "   \"BEFORE\"; \"MOVE\"; \"RIGHT\"; \"BOY\"; \"OLD\"; \"TOO\"; \"SAME\"; \"TELL\"; \"DOES\";\n",
       "   \"SET\"; \"THREE\"; \"WANT\"; \"AIR\"; \"WELL\"; \"ALSO\"; \"PLAY\"; \"SMALL\"; \"END\";\n",
       "   \"PUT\"; \"HOME\"; \"READ\"; \"HAND\"; \"PORT\"; \"LARGE\"; \"SPELL\"; \"ADD\"; \"EVEN\";\n",
       "   \"LAND\"; \"HERE\"; \"MUST\"; \"BIG\"; \"HIGH\"; \"SUCH\"; \"FOLLOW\"; \"ACT\"; \"WHY\";\n",
       "   \"ASK\"; \"MEN\"; \"CHANGE\"; \"WENT\"; \"LIGHT\"; \"KIND\"; \"OFF\"; \"NEED\"; \"HOUSE\";\n",
       "   \"PICTURE\"; \"TRY\"; \"US\"; \"AGAIN\"; \"ANIMAL\"; \"POINT\"; \"MOTHER\"; \"WORLD\";\n",
       "   \"NEAR\"; \"BUILD\"; \"SELF\"; \"EARTH\"; \"FATHER\"; \"HEAD\"; \"STAND\"; \"OWN\";\n",
       "   \"PAGE\"; \"SHOULD\"; \"COUNTRY\"; \"FOUND\"; \"ANSWER\"; \"SCHOOL\"; \"GROW\"; \"STUDY\";\n",
       "   \"STILL\"; \"LEARN\"; \"PLANT\"; \"COVER\"; \"FOOD\"; \"SUN\"; \"FOUR\"; \"BETWEEN\";\n",
       "   \"STATE\"; \"KEEP\"; \"EYE\"; \"NEVER\"; \"LAST\"; \"LET\"; \"THOUGHT\"; \"CITY\"; \"TREE\";\n",
       "   \"CROSS\"; \"FARM\"; \"HARD\"; \"START\"; \"MIGHT\"; \"STORY\"; \"SAW\"; \"FAR\"; \"SEA\";\n",
       "   \"DRAW\"; \"LEFT\"; \"LATE\"; \"RUN\"; \"DON'T\"; \"WHILE\"; \"PRESS\"; \"CLOSE\";\n",
       "   \"NIGHT\"; \"REAL\"; \"LIFE\"; \"FEW\"; \"NORTH\"; \"OPEN\"; \"SEEM\"; \"TOGETHER\";\n",
       "   \"NEXT\"; \"WHITE\"; \"CHILDREN\"; \"BEGIN\"; \"GOT\"; \"WALK\"; \"EXAMPLE\"; \"EASE\";\n",
       "   \"PAPER\"; \"GROUP\"; \"ALWAYS\"; \"MUSIC\"; \"THOSE\"; \"BOTH\"; \"MARK\"; \"OFTEN\";\n",
       "   \"LETTER\"; \"UNTIL\"; \"MILE\"; \"RIVER\"; \"CAR\"; \"FEET\"; \"CARE\"; \"SECOND\";\n",
       "   \"BOOK\"; \"CARRY\"; \"TOOK\"; \"SCIENCE\"; \"EAT\"; \"ROOM\"; \"FRIEND\"; \"BEGAN\";\n",
       "   \"IDEA\"; \"FISH\"; \"MOUNTAIN\"; \"STOP\"; \"ONCE\"; \"BASE\"; \"HEAR\"; \"HORSE\";\n",
       "   \"CUT\"; \"SURE\"; \"WATC\"... (* string length 5; truncated *);\n",
       "   \"COL\"... (* string length 5; truncated *);\n",
       "   \"FA\"... (* string length 4; truncated *);\n",
       "   \"W\"... (* string length 4; truncated *);\n",
       "   \"\"... (* string length 4; truncated *); ...]\n"
      ]
     },
     "execution_count": 83,
     "metadata": {},
     "output_type": "execute_result"
    }
   ],
   "source": [
    "let slovar : string list = String.split_on_char ' ' (String.uppercase_ascii besede)"
   ]
  },
  {
   "cell_type": "code",
   "execution_count": 84,
   "id": "36c0d13a",
   "metadata": {},
   "outputs": [
    {
     "data": {
      "text/plain": [
       "- : string list =\n",
       "[\"THE\"; \"OF\"; \"TO\"; \"AND\"; \"A\"; \"IN\"; \"IS\"; \"IT\"; \"YOU\"; \"THAT\"; \"HE\"; \"WAS\";\n",
       " \"FOR\"; \"ON\"; \"ARE\"; \"WITH\"; \"AS\"; \"I\"; \"HIS\"; \"THEY\"; \"BE\"; \"AT\"; \"ONE\";\n",
       " \"HAVE\"; \"THIS\"; \"FROM\"; \"OR\"; \"HAD\"; \"BY\"; \"WORD\"; \"BUT\"; \"WHAT\"; \"SOME\";\n",
       " \"WE\"; \"CAN\"; \"OUT\"; \"OTHER\"; \"WERE\"; \"ALL\"; \"THERE\"; \"WHEN\"; \"UP\"]\n"
      ]
     },
     "execution_count": 84,
     "metadata": {},
     "output_type": "execute_result"
    }
   ],
   "source": [
    "take 42 slovar"
   ]
  },
  {
   "cell_type": "code",
   "execution_count": 85,
   "id": "c5eddf59",
   "metadata": {},
   "outputs": [
    {
     "data": {
      "text/plain": [
       "- : string = \"MEASURE\"\n"
      ]
     },
     "execution_count": 85,
     "metadata": {},
     "output_type": "execute_result"
    }
   ],
   "source": [
    "List.nth slovar 321"
   ]
  },
  {
   "cell_type": "markdown",
   "id": "2e84c7b2",
   "metadata": {},
   "source": [
    "### Razširjanje ključa s črko"
   ]
  },
  {
   "cell_type": "markdown",
   "id": "c501d13b",
   "metadata": {},
   "source": [
    "Med ugibanjem seveda ne bomo poznali celotnega ključa. V tem primeru bomo za neznane črke uporabili znak `_`. Na primer, če bi vedeli, da je črka `A` v besedilu šifrirana kot `X`, črka `C` pa kot `Y`, bi ključ zapisali kot `\"X_Y_______________________\"`.\n",
    "\n",
    "Napišite funkcijo `dodaj_zamenjavo : string -> char * char -> string option`, ki sprejme ključ ter ga poskusi razširiti z zamenjavo dane črke. Funkcija naj vrne `None`, če razširitev vodi v ključ, ki ni bijektiven (torej če ima črka že dodeljeno drugo zamenjavo ali če smo isto zamenjavo dodelili dvema različnima črkama)."
   ]
  },
  {
   "cell_type": "code",
   "execution_count": 86,
   "id": "8e0d2dd7",
   "metadata": {},
   "outputs": [
    {
     "data": {
      "text/plain": [
       "val dodaj_zamenjavo : string -> char * char -> string option = <fun>\n"
      ]
     },
     "execution_count": 86,
     "metadata": {},
     "output_type": "execute_result"
    }
   ],
   "source": [
    "let dodaj_zamenjavo (partial_key : string) ((c1, c2) : char * char) : string option =\n",
    "    let rec contains (c : char) (chars : char list) : bool =\n",
    "        match chars with\n",
    "        | [] -> false\n",
    "        | hd :: _ when hd = c -> true\n",
    "        | _ :: tl -> contains c tl\n",
    "    and replace (acc : char list) (i : int) (c : char) (chars : char list) : string =\n",
    "        match chars with\n",
    "        | [] -> acc |> List.rev |> implode\n",
    "        | hd :: tl -> replace\n",
    "            (\n",
    "                (\n",
    "                    if i = 0 then c\n",
    "                    else hd\n",
    "                ) :: acc\n",
    "            )\n",
    "            (i - 1) c tl\n",
    "    and c1i : int = indeks c1\n",
    "    and key_chars : char list = explode partial_key\n",
    "    in\n",
    "    if c1i < 0 || String.length partial_key <= c1i then\n",
    "        if c1 = c2 then Some partial_key\n",
    "        else None\n",
    "    else\n",
    "        match partial_key.[c1i] with\n",
    "        | x when x = c2 -> Some partial_key\n",
    "        | '_' ->\n",
    "            if contains c2 key_chars then None\n",
    "            else Some (replace [] c1i c2 key_chars)\n",
    "        | _ -> None"
   ]
  },
  {
   "cell_type": "code",
   "execution_count": 87,
   "id": "8e8ba6a2",
   "metadata": {},
   "outputs": [
    {
     "data": {
      "text/plain": [
       "- : string option = Some \"ABX_E\"\n"
      ]
     },
     "execution_count": 87,
     "metadata": {},
     "output_type": "execute_result"
    }
   ],
   "source": [
    "dodaj_zamenjavo \"AB__E\" ('C', 'X')"
   ]
  },
  {
   "cell_type": "code",
   "execution_count": 88,
   "id": "8fa9263e",
   "metadata": {},
   "outputs": [
    {
     "data": {
      "text/plain": [
       "- : string option = Some \"ABX_E\"\n"
      ]
     },
     "execution_count": 88,
     "metadata": {},
     "output_type": "execute_result"
    }
   ],
   "source": [
    "dodaj_zamenjavo \"ABX_E\" ('C', 'X')"
   ]
  },
  {
   "cell_type": "code",
   "execution_count": 89,
   "id": "d4f3d87b",
   "metadata": {},
   "outputs": [
    {
     "data": {
      "text/plain": [
       "- : string option = None\n"
      ]
     },
     "execution_count": 89,
     "metadata": {},
     "output_type": "execute_result"
    }
   ],
   "source": [
    "dodaj_zamenjavo \"ABY_E\" ('C', 'E')"
   ]
  },
  {
   "cell_type": "markdown",
   "id": "83db27e8",
   "metadata": {},
   "source": [
    "### Razširjanje ključa z besedo"
   ]
  },
  {
   "cell_type": "markdown",
   "id": "ea99aabc",
   "metadata": {},
   "source": [
    "S pomočjo funkcije `dodaj_zamenjavo` sestavite še funkcijo `dodaj_zamenjave : string -> string * string -> string option`, ki ključ razširi z zamenjavami, ki prvo besedo preslikajo v drugo."
   ]
  },
  {
   "cell_type": "code",
   "execution_count": 90,
   "id": "70c13aa1",
   "metadata": {},
   "outputs": [
    {
     "data": {
      "text/plain": [
       "val dodaj_zamenjave : string -> string * string -> string option = <fun>\n"
      ]
     },
     "execution_count": 90,
     "metadata": {},
     "output_type": "execute_result"
    }
   ],
   "source": [
    "let dodaj_zamenjave (partial_key : string) ((string, encoded) : string * string) : string option =\n",
    "    if String.length string <> String.length encoded then None\n",
    "    else\n",
    "        let rec dodaj_zamenjave_aux (acc : string option) ((chars, encoded_chars) : char list * char list) : string option =\n",
    "            if acc = None then None\n",
    "            else\n",
    "                match chars, encoded_chars with\n",
    "                | [], [] -> acc\n",
    "                | ([], _ | _, []) -> None (* should not ever match this pattern *)\n",
    "                | hd1 :: tl1, hd2 :: tl2 -> dodaj_zamenjave_aux\n",
    "                    (\n",
    "                        match acc with\n",
    "                        | None -> None\n",
    "                        | Some key -> dodaj_zamenjavo key (hd1, hd2)\n",
    "                    )\n",
    "                    (tl1, tl2)\n",
    "        in\n",
    "        dodaj_zamenjave_aux (Some partial_key) ((explode string), (explode encoded))"
   ]
  },
  {
   "cell_type": "code",
   "execution_count": 91,
   "id": "b5ce49d7",
   "metadata": {},
   "outputs": [
    {
     "data": {
      "text/plain": [
       "- : string option = Some \"____U__K___N__J___________\"\n"
      ]
     },
     "execution_count": 91,
     "metadata": {},
     "output_type": "execute_result"
    }
   ],
   "source": [
    "dodaj_zamenjave \"__________________________\" (\"HELLO\", \"KUNNJ\")"
   ]
  },
  {
   "cell_type": "code",
   "execution_count": 92,
   "id": "e90f33bd",
   "metadata": {},
   "outputs": [
    {
     "data": {
      "text/plain": [
       "- : string option = Some \"ABCDU__K___N__J___________\"\n"
      ]
     },
     "execution_count": 92,
     "metadata": {},
     "output_type": "execute_result"
    }
   ],
   "source": [
    "dodaj_zamenjave \"ABCDU_____________________\" (\"HELLO\", \"KUNNJ\")"
   ]
  },
  {
   "cell_type": "code",
   "execution_count": 93,
   "id": "56f5c83a",
   "metadata": {},
   "outputs": [
    {
     "data": {
      "text/plain": [
       "- : string option = None\n"
      ]
     },
     "execution_count": 93,
     "metadata": {},
     "output_type": "execute_result"
    }
   ],
   "source": [
    "dodaj_zamenjave \"ABCDE_____________________\" (\"HELLO\", \"KUNNJ\")"
   ]
  },
  {
   "cell_type": "markdown",
   "id": "1dd3a4e3",
   "metadata": {},
   "source": [
    "### Vse možne razširitve"
   ]
  },
  {
   "cell_type": "markdown",
   "id": "f7fd31db",
   "metadata": {},
   "source": [
    "Sestavite funkcijo `mozne_razsiritve : string -> string -> string list -> string list`, ki vzame ključ, šifrirano besedo ter slovar vseh možnih besed, vrne pa seznam vseh možnih razširitev ključa, ki šifrirano besedo slikajo v eno od besed v slovarju."
   ]
  },
  {
   "cell_type": "code",
   "execution_count": 94,
   "id": "743bd9ce",
   "metadata": {},
   "outputs": [
    {
     "data": {
      "text/plain": [
       "val mozne_razsiritve : string -> string -> string list -> string list = <fun>\n"
      ]
     },
     "execution_count": 94,
     "metadata": {},
     "output_type": "execute_result"
    }
   ],
   "source": [
    "let mozne_razsiritve (partial_key : string) (encoded : string) (dictionary : string list) : string list =\n",
    "    let rec mozne_razsiritve_aux (acc : string list) (dictionary : string list) : string list =\n",
    "        match dictionary with\n",
    "        | [] -> acc\n",
    "        | hd :: tl -> mozne_razsiritve_aux\n",
    "            (\n",
    "                match dodaj_zamenjave partial_key (encoded, hd) with\n",
    "                | None -> acc\n",
    "                | Some key -> key :: acc\n",
    "            )\n",
    "            tl\n",
    "    in\n",
    "    mozne_razsiritve_aux [] dictionary\n",
    "    |> List.rev"
   ]
  },
  {
   "cell_type": "code",
   "execution_count": 95,
   "id": "ff84e8e9",
   "metadata": {},
   "outputs": [
    {
     "data": {
      "text/plain": [
       "- : (string * string) list =\n",
       "[(\"_________YC__R______A_____\", \"CARRY\");\n",
       " (\"_________DS__O______T_____\", \"STOOD\");\n",
       " (\"_________NG__E______R_____\", \"GREEN\");\n",
       " (\"_________LW__E______H_____\", \"WHEEL\");\n",
       " (\"_________PS__E______L_____\", \"SLEEP\");\n",
       " (\"_________YH__P______A_____\", \"HAPPY\");\n",
       " (\"_________RF__O______L_____\", \"FLOOR\");\n",
       " (\"_________DS__E______P_____\", \"SPEED\");\n",
       " (\"_________DB__O______L_____\", \"BLOOD\");\n",
       " (\"_________YH__R______U_____\", \"HURRY\");\n",
       " (\"_________LS__E______T_____\", \"STEEL\");\n",
       " (\"_________TS__E______H_____\", \"SHEET\")]\n"
      ]
     },
     "execution_count": 95,
     "metadata": {},
     "output_type": "execute_result"
    }
   ],
   "source": [
    "slovar\n",
    "|> mozne_razsiritve (String.make 26 '_') \"KUNNJ\"\n",
    "|> List.map (fun (kljuc : string) : (string * string) -> (kljuc, sifriraj kljuc \"KUNNJ\"))"
   ]
  },
  {
   "cell_type": "markdown",
   "id": "245d6eca",
   "metadata": {},
   "source": [
    "### Odšifriranje"
   ]
  },
  {
   "cell_type": "markdown",
   "id": "3f36c490",
   "metadata": {},
   "source": [
    "Napišite funkcijo `odsifriraj : string -> string option`, ki sprejme šifrirano besedilo in s pomočjo slovarja besed ugane odšifrirano besedilo. Funkcija naj vrne `None`, če ni mogoče najti nobenega ustreznega ključa."
   ]
  },
  {
   "cell_type": "code",
   "execution_count": 96,
   "id": "92a089dd",
   "metadata": {},
   "outputs": [
    {
     "data": {
      "text/plain": [
       "val odsifriraj_all : string -> string list = <fun>\n"
      ]
     },
     "execution_count": 96,
     "metadata": {},
     "output_type": "execute_result"
    },
    {
     "data": {
      "text/plain": [
       "val odsifriraj : string -> string option = <fun>\n"
      ]
     },
     "execution_count": 96,
     "metadata": {},
     "output_type": "execute_result"
    }
   ],
   "source": [
    "let odsifriraj_all (string : string) : string list =\n",
    "    let rec odsifriraj_all_aux (encoded_words : string list) (partial_keys : string list) : string list =\n",
    "        match encoded_words with\n",
    "        | [] -> partial_keys\n",
    "        | hd :: tl -> odsifriraj_all_aux tl\n",
    "            (\n",
    "                let mozne_razsiritve_reorder (encoded : string) (dictionary : string list) (partial_key : string) : string list =\n",
    "                    mozne_razsiritve partial_key encoded dictionary\n",
    "                in\n",
    "                List.concat_map (mozne_razsiritve_reorder hd slovar) partial_keys\n",
    "            )\n",
    "    in\n",
    "    odsifriraj_all_aux (String.split_on_char ' ' string) [String.make 26 '_']\n",
    "    |> List.map (fun (key : string) : string -> sifriraj key string)\n",
    "\n",
    "let odsifriraj (string : string) : string option =\n",
    "    match odsifriraj_all string with\n",
    "    | [] -> None\n",
    "    | hd :: _ -> Some hd"
   ]
  },
  {
   "cell_type": "code",
   "execution_count": 97,
   "id": "56b87598",
   "metadata": {},
   "outputs": [
    {
     "data": {
      "text/plain": [
       "- : string = \"VKBO BO T AUSD KTSQ MSJHNUF\"\n"
      ]
     },
     "execution_count": 97,
     "metadata": {},
     "output_type": "execute_result"
    }
   ],
   "source": [
    "sifriraj quick_brown_fox \"THIS IS A VERY HARD PROBLEM\""
   ]
  },
  {
   "cell_type": "code",
   "execution_count": 98,
   "id": "12d6ff69",
   "metadata": {},
   "outputs": [
    {
     "data": {
      "text/plain": [
       "- : string option = Some \"THIS IS A VERY HARD PROBLEM\"\n"
      ]
     },
     "execution_count": 98,
     "metadata": {},
     "output_type": "execute_result"
    }
   ],
   "source": [
    "odsifriraj \"VKBO BO T AUSD KTSQ MSJHNUF\""
   ]
  },
  {
   "cell_type": "code",
   "execution_count": 99,
   "id": "a1d074bb",
   "metadata": {},
   "outputs": [
    {
     "data": {
      "text/plain": [
       "- : string list = [\"DON'T WON'T\"; \"WON'T DON'T\"]\n"
      ]
     },
     "execution_count": 99,
     "metadata": {},
     "output_type": "execute_result"
    }
   ],
   "source": [
    "sifriraj quick_brown_fox \"DON'T WON'T\" |> odsifriraj_all"
   ]
  },
  {
   "cell_type": "code",
   "execution_count": 100,
   "id": "ac977493",
   "metadata": {},
   "outputs": [
    {
     "data": {
      "text/plain": [
       "- : string list =\n",
       "[\"THIS BE A VERY HARD PROBLEM WON'T\"; \"THUS BE A VERY HARD PROBLEM WON'T\"]\n"
      ]
     },
     "execution_count": 100,
     "metadata": {},
     "output_type": "execute_result"
    }
   ],
   "source": [
    "sifriraj quick_brown_fox \"THIS BE A VERY HARD PROBLEM WON'T\" |> odsifriraj_all"
   ]
  }
 ],
 "metadata": {
  "kernelspec": {
   "display_name": "OCaml /home/androgeus/Programming/prog-1/prog-1-naloge",
   "language": "OCaml",
   "name": "ocaml-jupyter-prog-1-naloge"
  },
  "language_info": {
   "codemirror_mode": "text/x-ocaml",
   "file_extension": ".ml",
   "mimetype": "text/x-ocaml",
   "name": "OCaml",
   "nbconverter_exporter": null,
   "pygments_lexer": "OCaml",
   "version": "4.12.0+domains"
  }
 },
 "nbformat": 4,
 "nbformat_minor": 5
}

{
 "cells": [
  {
   "cell_type": "markdown",
   "id": "9804b525",
   "metadata": {},
   "source": [
    "# 2. domača naloga"
   ]
  },
  {
   "cell_type": "markdown",
   "id": "22255771",
   "metadata": {},
   "source": [
    "Pri tej nalogi boste napisali svoj simulator računalnika, ki se bo malenkostno razlikoval od [tistega, ki smo ga spoznali na predavanjih](https://schweigi.github.io/assembler-simulator/):\n",
    "- Simulator bo uporabljal Harvardsko arhitekturo, kar pomeni, da bo ločil med pomnilnikoma za program in podatke.\n",
    "- Namesto pomnilnika z omejeno velikostjo bomo imeli samo sklad, ki ga bomo predstavili s poljubno velikim seznamom.\n",
    "- Prav tako ne bomo vsega predstavili z 8-bitnimi števili. Za ukaze bomo definirali svoj naštevni tip, števila v pomnilniku pa bodo taka, kot jih podpira OCaml."
   ]
  },
  {
   "cell_type": "markdown",
   "id": "c405635a",
   "metadata": {},
   "source": [
    "## Podatkovni tipi"
   ]
  },
  {
   "cell_type": "markdown",
   "id": "bbdfe72e",
   "metadata": {},
   "source": [
    "Pri vsakem večjem funkcijskem programu je prvi korak definicija ustreznih tipov. V simulatorju bomo imeli dva glavna tipa: `instruction`, s katerim bomo predstavili posamezne ukaze v programu, in `state`, s katerim bomo predstavili trenutno stanje računalnika. Seveda pa si bomo morali pred njima definirati še nekaj pomožnih tipov."
   ]
  },
  {
   "cell_type": "markdown",
   "id": "ea680ac4",
   "metadata": {},
   "source": [
    "### Registri"
   ]
  },
  {
   "cell_type": "markdown",
   "id": "798d200a",
   "metadata": {},
   "source": [
    "Nekateri ukazi za argument sprejmejo register, ki ga spreminjajo, na primer: `INC A` ali `POP B`.\n",
    "\n",
    "Definirajte naštevni tip `register`, ki bo predstavljal štiri možne registre procesorja **A**, **B**, **C** in **D**."
   ]
  },
  {
   "cell_type": "code",
   "execution_count": 1,
   "id": "828f9860",
   "metadata": {},
   "outputs": [
    {
     "data": {
      "text/plain": [
       "type register = A | B | C | D\n"
      ]
     },
     "execution_count": 1,
     "metadata": {},
     "output_type": "execute_result"
    }
   ],
   "source": [
    "type register =\n",
    "    | A\n",
    "    | B\n",
    "    | C\n",
    "    | D"
   ]
  },
  {
   "cell_type": "code",
   "execution_count": 2,
   "id": "befbcb3a",
   "metadata": {},
   "outputs": [
    {
     "data": {
      "text/plain": [
       "val primer_tipi_1 : register list list = [[A; B; B; A]; [A; C; D; C]]\n"
      ]
     },
     "execution_count": 2,
     "metadata": {},
     "output_type": "execute_result"
    }
   ],
   "source": [
    "let primer_tipi_1 : register list list = [[A; B; B; A]; [A; C; D; C]]"
   ]
  },
  {
   "cell_type": "markdown",
   "id": "984dd482",
   "metadata": {},
   "source": [
    "### Izrazi"
   ]
  },
  {
   "cell_type": "markdown",
   "id": "8b201799",
   "metadata": {},
   "source": [
    "Nekateri ukazi poleg registra sprejmejo še dodaten argument, ki je lahko bodisi register, bodisi celoštevilska konstanta, na primer `MOV A, B` ali `MOV A, 42`. Definirajte naštevni tip `expression`, ki predstavlja izraze, ki so lahko registri ali števila."
   ]
  },
  {
   "cell_type": "code",
   "execution_count": 3,
   "id": "8586a42c",
   "metadata": {},
   "outputs": [
    {
     "data": {
      "text/plain": [
       "type expression = Register of register | Const of int\n"
      ]
     },
     "execution_count": 3,
     "metadata": {},
     "output_type": "execute_result"
    }
   ],
   "source": [
    "type expression =\n",
    "    | Register of register\n",
    "    | Const of int"
   ]
  },
  {
   "cell_type": "code",
   "execution_count": 4,
   "id": "95cae0b7",
   "metadata": {},
   "outputs": [
    {
     "data": {
      "text/plain": [
       "val primer_tipi_2 : expression list = [Register B; Const 42]\n"
      ]
     },
     "execution_count": 4,
     "metadata": {},
     "output_type": "execute_result"
    }
   ],
   "source": [
    "let primer_tipi_2 : expression list = [Register B; Const 42]"
   ]
  },
  {
   "cell_type": "markdown",
   "id": "8e68213f",
   "metadata": {},
   "source": [
    "### Naslovi"
   ]
  },
  {
   "cell_type": "markdown",
   "id": "66255869",
   "metadata": {},
   "source": [
    "Ukazi za skoke za argument sprejmejo naslov ukaza v pomnilniku. Naslove bomo predstavili s celimi števili, da pa jih ne bi ponesreči zamešali s celoštevilskimi konstantami, definirajte še tip `address`, ki naj bo naštevni tip z eno samo varianto `Address` s celoštevilskim argumentom."
   ]
  },
  {
   "cell_type": "code",
   "execution_count": 5,
   "id": "7866a7f5",
   "metadata": {},
   "outputs": [
    {
     "data": {
      "text/plain": [
       "type address = Address of int\n"
      ]
     },
     "execution_count": 5,
     "metadata": {},
     "output_type": "execute_result"
    }
   ],
   "source": [
    "type address = Address of int"
   ]
  },
  {
   "cell_type": "code",
   "execution_count": 6,
   "id": "d79967a4",
   "metadata": {},
   "outputs": [
    {
     "data": {
      "text/plain": [
       "val primer_tipi_3 : int * address = (42, Address 42)\n"
      ]
     },
     "execution_count": 6,
     "metadata": {},
     "output_type": "execute_result"
    }
   ],
   "source": [
    "let primer_tipi_3 : int * address = (42, Address 42)"
   ]
  },
  {
   "cell_type": "markdown",
   "id": "5688c5c2",
   "metadata": {},
   "source": [
    "### Ukazi"
   ]
  },
  {
   "cell_type": "markdown",
   "id": "afe27165",
   "metadata": {},
   "source": [
    "Naš simulator bo podpiral naslednje ukaze, pri čemer je _R_ vedno poljuben register, _A_ naslov v ukaznem pomnilniku, _E_ pa izraz, torej bodisi register bodisi celoštevilska konstanta.\n",
    "\n",
    "ukaz                      | opis\n",
    "------------------------: | -----------------------------------------------------------------------------------------------------\n",
    "`MOV` _R_, _E_            | premakni vrednost izraza _E_ v register _R_\n",
    "`ADD`/`SUB` _R_, _E_      | register _R_ povečaj/zmanjšaj za _E_\n",
    "`INC`/`DEC` _R_           | register _R_ povečaj/zmanjšaj za 1\n",
    "`MUL`/`DIV` _E_           | register **A** pomnoži/deli z _E_\n",
    "`AND`/`OR`/`XOR` _R_, _E_ | v register _R_ shrani rezultat logične operacije _R op E_\n",
    "`NOT` _R_                 | negiraj register _R_\n",
    "`CMP` _R_, _E_            | primerjaj register _R_ z vrednostjo _E_ ter rezultat primerjave shrani v zastavici **Zero** in **Carry**\n",
    "`JMP` _A_                 | skoči na naslov _A_\n",
    "`JA`/`JAE` _A_            | skoči na naslov _A_, če je v zadnji primerjavi veljalo _x > y_ / _x ≥ y_\n",
    "`JB`/`JBE` _A_            | skoči na naslov _A_, če je v zadnji primerjavi veljalo _x < y_ / _x ≤ y_\n",
    "`JE`/`JNE` _A_            | skoči na naslov _A_, če je v zadnji primerjavi veljalo _x = y_ / _x ≠ y_\n",
    "`CALL` _A_                | skoči na naslov _A_ in shrani naslov naslednjega ukaza na vrh sklada\n",
    "`RET`                     | iz funkcije se vrni na naslov na vrhu sklada\n",
    "`PUSH` _E_                | vrednost izraza _E_ shrani na vrh sklada\n",
    "`POP` _R_                 | snemi vrednost s sklada in jo shrani v register _R_\n",
    "`HLT`                     | ustavi izvajanje programa"
   ]
  },
  {
   "cell_type": "markdown",
   "id": "29051b34",
   "metadata": {},
   "source": [
    "Dopolnite naslednjo definicijo tipa `instruction`, da bo imel eno varianto za vsakega od zgoraj navedenih ukazov:"
   ]
  },
  {
   "cell_type": "code",
   "execution_count": 7,
   "id": "5d6a2492",
   "metadata": {},
   "outputs": [
    {
     "data": {
      "text/plain": [
       "type instruction =\n",
       "    MOV of register * expression\n",
       "  | ADD of register * expression\n",
       "  | SUB of register * expression\n",
       "  | INC of register\n",
       "  | DEC of register\n",
       "  | MUL of expression\n",
       "  | DIV of expression\n",
       "  | AND of register * expression\n",
       "  | OR of register * expression\n",
       "  | XOR of register * expression\n",
       "  | NOT of register\n",
       "  | CMP of register * expression\n",
       "  | JMP of address\n",
       "  | JA of address\n",
       "  | JAE of address\n",
       "  | JB of address\n",
       "  | JBE of address\n",
       "  | JE of address\n",
       "  | JNE of address\n",
       "  | CALL of address\n",
       "  | RET\n",
       "  | PUSH of expression\n",
       "  | POP of register\n",
       "  | HLT\n"
      ]
     },
     "execution_count": 7,
     "metadata": {},
     "output_type": "execute_result"
    }
   ],
   "source": [
    "type instruction =\n",
    "    | MOV of register * expression\n",
    "    | ADD of register * expression\n",
    "    | SUB of register * expression\n",
    "    | INC of register\n",
    "    | DEC of register\n",
    "    | MUL of expression\n",
    "    | DIV of expression\n",
    "    | AND of register * expression\n",
    "    | OR of register * expression\n",
    "    | XOR of register * expression\n",
    "    | NOT of register\n",
    "    | CMP of register * expression\n",
    "    | JMP of address\n",
    "    | JA of address\n",
    "    | JAE of address\n",
    "    | JB of address\n",
    "    | JBE of address\n",
    "    | JE of address\n",
    "    | JNE of address\n",
    "    | CALL of address\n",
    "    | RET\n",
    "    | PUSH of expression\n",
    "    | POP of register\n",
    "    | HLT"
   ]
  },
  {
   "cell_type": "code",
   "execution_count": 8,
   "id": "a6fb3538",
   "metadata": {},
   "outputs": [
    {
     "data": {
      "text/plain": [
       "val primer_tipi_4 : instruction list =\n",
       "  [MOV (A, Register B); MOV (C, Const 42); JA (Address 10); HLT]\n"
      ]
     },
     "execution_count": 8,
     "metadata": {},
     "output_type": "execute_result"
    }
   ],
   "source": [
    "let primer_tipi_4 : instruction list = [ MOV (A, Register B); MOV (C, Const 42); JA (Address 10); HLT ]"
   ]
  },
  {
   "cell_type": "markdown",
   "id": "f008198a",
   "metadata": {},
   "source": [
    "Za primer večjega programa se spomnimo programa za izračun Fibonaccijevih števil. S seznamom ukazov, bi ga napisali kot spodaj. Pri tem opazite, da so naslovi ukazov v programu zapisani kot celoštevilski indeksi. Pretvorbo iz berljivih oznak kot so `main`, `fib` in `.fib_end` bomo obravnavali kasneje."
   ]
  },
  {
   "cell_type": "code",
   "execution_count": 9,
   "id": "8dd7934d",
   "metadata": {},
   "outputs": [
    {
     "data": {
      "text/plain": [
       "val fibonacci : int -> instruction list = <fun>\n"
      ]
     },
     "execution_count": 9,
     "metadata": {},
     "output_type": "execute_result"
    }
   ],
   "source": [
    "let fibonacci n =\n",
    "    [\n",
    "        JMP (Address 20);       (* JMP main *)\n",
    "\n",
    "        (* fib: *)\n",
    "            (* ; Shranimo vrednosti registrov *)\n",
    "            PUSH (Register C);      (* PUSH C *)\n",
    "            PUSH (Register B);      (* PUSH B *)\n",
    "\n",
    "            (* ; V C shranimo začetno vrednost A *)\n",
    "            MOV (C, Register A);    (* MOV C, A *)\n",
    "\n",
    "            (* ; Če je A = 0, je to tudi rezultat *)\n",
    "            CMP (A, Const 0);       (* CMP A, 0 *)\n",
    "            JE (Address 17);        (* JE .fib_end *)\n",
    "\n",
    "            (* ; Če je A = 1, je to tudi rezultat *)\n",
    "            CMP (A, Const 1);       (* CMP A, 1 *)\n",
    "            JE (Address 17);        (* JE .fib_end *)\n",
    "\n",
    "            (* ; V nasprotnem primeru najprej izračunamo fib(A - 1) in ga shranimo v B *)\n",
    "            DEC C;                  (* DEC C *)\n",
    "            MOV (A, Register C);    (* MOV A, C *)\n",
    "            CALL (Address 1);       (* CALL fib *)\n",
    "            MOV (B, Register A);    (* MOV B, A *)\n",
    "\n",
    "            (* ; Nato izračunamo še fib(A - 2) in ga shranimo v A *)\n",
    "            DEC C;                  (* DEC C *)\n",
    "            MOV (A, Register C);    (* MOV A, C *)\n",
    "            CALL (Address 1);       (* CALL fib *)\n",
    "\n",
    "            (* ; Nazadnje k A prištejemo še B, s čimer dobimo končni rezultat *)\n",
    "            ADD (A, Register B);    (* ADD A, B *)\n",
    "            JMP (Address 17);       (* JMP .fib_end *)\n",
    "\n",
    "        (* .fib_end: *)\n",
    "            (* ; Povrnemo vrednosti registrov in vrnemo rezultat *)\n",
    "            POP B;                  (* POP B *)\n",
    "            POP C;                  (* POP C *)\n",
    "            RET;                    (* RET *)\n",
    "\n",
    "        (* main: *)\n",
    "            MOV (A, Const n);       (* MOV A, n *)\n",
    "            CALL (Address 1);       (* CALL fib *)\n",
    "            HLT;                    (* HLT *)\n",
    "    ]"
   ]
  },
  {
   "cell_type": "code",
   "execution_count": 10,
   "id": "e8e02d0e",
   "metadata": {},
   "outputs": [
    {
     "data": {
      "text/plain": [
       "val primer_tipi_5 : instruction list =\n",
       "  [JMP (Address 20); PUSH (Register C); PUSH (Register B);\n",
       "   MOV (C, Register A); CMP (A, Const 0); JE (Address 17); CMP (A, Const 1);\n",
       "   JE (Address 17); DEC C; MOV (A, Register C); CALL (Address 1);\n",
       "   MOV (B, Register A); DEC C; MOV (A, Register C); CALL (Address 1);\n",
       "   ADD (A, Register B); JMP (Address 17); POP B; POP C; RET;\n",
       "   MOV (A, Const 10); CALL (Address 1); HLT]\n"
      ]
     },
     "execution_count": 10,
     "metadata": {},
     "output_type": "execute_result"
    }
   ],
   "source": [
    "let primer_tipi_5 : instruction list = fibonacci 10"
   ]
  },
  {
   "cell_type": "markdown",
   "id": "32078ff8",
   "metadata": {},
   "source": [
    "### Pomnilnik"
   ]
  },
  {
   "cell_type": "markdown",
   "id": "09cc2b33",
   "metadata": {},
   "source": [
    "Morda v nasprotju s pričakovanji ukazov ne bomo shranjevali v sezname tipa `instruction list`, ampak v tabele tipa `instruction array`. O tabelah se bomo še pogovarjali, njihova bistvena prednost pa je ta, da do elementa na danem mestu lahko dostopamo takoj, ne da bi se morali sprehoditi po predhodnih elementih. Tabele pišemo tako kot sezname, le da oklepaje pišemo kot `[| ... |]` namesto kot `[ ... ]`, do posameznega elementa tabele pa dostopamo prek `tabela.(indeks)`, na primer `[| 314; 42; 2718 |].(1)` vrne `42`."
   ]
  },
  {
   "cell_type": "markdown",
   "id": "85fd3886",
   "metadata": {},
   "source": [
    "Nazadnje bomo celotno stanje računalnika predstavili z zapisnim. Definirajte tip `state` s sledečimi polji:\n",
    "- `instructions`: tabela ukazov v ukaznem pomnilniku,\n",
    "- `a`, `b`, `c`, `d`: štiri celoštevilske vrednosti v registrih,\n",
    "- `ip`: naslov trenutnega ukaza, tipa `address`,\n",
    "- `zero`, `carry`: vrednosti zastavic **Zero** in **Carry**,\n",
    "- `stack`: seznam celoštevilskih vrednosti na skladu."
   ]
  },
  {
   "cell_type": "code",
   "execution_count": 11,
   "id": "9869c4cf",
   "metadata": {},
   "outputs": [
    {
     "data": {
      "text/plain": [
       "type state = {\n",
       "  instructions : instruction array;\n",
       "  a : int;\n",
       "  b : int;\n",
       "  c : int;\n",
       "  d : int;\n",
       "  ip : address;\n",
       "  zero : bool;\n",
       "  carry : bool;\n",
       "  stack : int list;\n",
       "}\n"
      ]
     },
     "execution_count": 11,
     "metadata": {},
     "output_type": "execute_result"
    }
   ],
   "source": [
    "type state =\n",
    "    {\n",
    "        instructions : instruction array;\n",
    "        a : int;\n",
    "        b : int;\n",
    "        c : int;\n",
    "        d : int;\n",
    "        ip : address;\n",
    "        zero : bool;\n",
    "        carry : bool;\n",
    "        stack : int list;\n",
    "    }"
   ]
  },
  {
   "cell_type": "code",
   "execution_count": 12,
   "id": "5e1cd2dd",
   "metadata": {},
   "outputs": [
    {
     "data": {
      "text/plain": [
       "val primer_tipi_6 : state =\n",
       "  {instructions =\n",
       "    [|MOV (A, Register B); MOV (C, Const 42); JA (Address 10); HLT|];\n",
       "   a = 1; b = 2; c = 3; d = 4; ip = Address 0; zero = true; carry = false;\n",
       "   stack = [5; 6; 7]}\n"
      ]
     },
     "execution_count": 12,
     "metadata": {},
     "output_type": "execute_result"
    }
   ],
   "source": [
    "let primer_tipi_6 : state =\n",
    "    {\n",
    "        instructions = [| MOV (A, Register B); MOV (C, Const 42); JA (Address 10); HLT |];\n",
    "        a = 1; b = 2; c = 3; d = 4;\n",
    "        ip = Address 0;\n",
    "        zero = true; carry = false;\n",
    "        stack = [5; 6; 7];\n",
    "    }"
   ]
  },
  {
   "cell_type": "markdown",
   "id": "fd2e51ab",
   "metadata": {},
   "source": [
    "### Začetno stanje"
   ]
  },
  {
   "cell_type": "markdown",
   "id": "c450098f",
   "metadata": {},
   "source": [
    "Prazno stanje pomnilnika lahko predstavimo z zapisom:"
   ]
  },
  {
   "cell_type": "code",
   "execution_count": 13,
   "id": "adac5689",
   "metadata": {},
   "outputs": [
    {
     "data": {
      "text/plain": [
       "val empty : state =\n",
       "  {instructions = [||]; a = 0; b = 0; c = 0; d = 0; ip = Address 0;\n",
       "   zero = false; carry = false; stack = []}\n"
      ]
     },
     "execution_count": 13,
     "metadata": {},
     "output_type": "execute_result"
    }
   ],
   "source": [
    "let empty : state =\n",
    "    {\n",
    "        instructions = [||];\n",
    "        a = 0;\n",
    "        b = 0;\n",
    "        c = 0;\n",
    "        d = 0;\n",
    "        ip = Address 0;\n",
    "        zero = false;\n",
    "        carry = false;\n",
    "        stack = [];\n",
    "    }"
   ]
  },
  {
   "cell_type": "markdown",
   "id": "e1e263ac",
   "metadata": {},
   "source": [
    "Kljub temu, da so tabele učinkovitejše, so seznami za delo bolj praktični. Zato definirajte funkcijo `init : instruction list -> state`, ki sprejme seznam ukazov in vrne začetno stanje računalnika, v katerem so vsi registri in zastavice nastavljeni na nič, sklad pa je prazen. Pri tem si lahko za pretvorbo seznama v tabelo pomagate z uporabo funkcije `Array.of_list`."
   ]
  },
  {
   "cell_type": "code",
   "execution_count": 14,
   "id": "cd8ecab1",
   "metadata": {},
   "outputs": [
    {
     "data": {
      "text/plain": [
       "val init : instruction list -> state = <fun>\n"
      ]
     },
     "execution_count": 14,
     "metadata": {},
     "output_type": "execute_result"
    }
   ],
   "source": [
    "let init (inst_list : instruction list) : state =\n",
    "    { empty with instructions = Array.of_list inst_list }"
   ]
  },
  {
   "cell_type": "code",
   "execution_count": 15,
   "id": "fcc95c1e",
   "metadata": {},
   "outputs": [
    {
     "data": {
      "text/plain": [
       "val primer_tipi_7 : state =\n",
       "  {instructions =\n",
       "    [|MOV (A, Register B); MOV (C, Const 42); JA (Address 10); HLT|];\n",
       "   a = 0; b = 0; c = 0; d = 0; ip = Address 0; zero = false; carry = false;\n",
       "   stack = []}\n"
      ]
     },
     "execution_count": 15,
     "metadata": {},
     "output_type": "execute_result"
    }
   ],
   "source": [
    "let primer_tipi_7 : state = init [ MOV (A, Register B); MOV (C, Const 42); JA (Address 10); HLT ]"
   ]
  },
  {
   "cell_type": "markdown",
   "id": "5f7957e2",
   "metadata": {},
   "source": [
    "## Izvajanje ukazov"
   ]
  },
  {
   "cell_type": "markdown",
   "id": "5d7d2d9a",
   "metadata": {},
   "source": [
    "S pripravljenima tipoma ukazov in stanja se lahko lotimo pisanja funkcij za izvrševanje ukazov."
   ]
  },
  {
   "cell_type": "markdown",
   "id": "33f885f1",
   "metadata": {},
   "source": [
    "### Branje stanja"
   ]
  },
  {
   "cell_type": "markdown",
   "id": "edd4a444",
   "metadata": {},
   "source": [
    "Napišite funkcijo `read_instruction : state -> instruction option`, ki v danem stanju vrne trenuten ukaz. Če ukaz sega izven območja ukaznega pomnilnika, naj funkcija vrne `None`."
   ]
  },
  {
   "cell_type": "code",
   "execution_count": 16,
   "id": "e6cacc9f",
   "metadata": {},
   "outputs": [
    {
     "data": {
      "text/plain": [
       "val read_instruction : state -> instruction option = <fun>\n"
      ]
     },
     "execution_count": 16,
     "metadata": {},
     "output_type": "execute_result"
    }
   ],
   "source": [
    "let read_instruction (state : state) : instruction option =\n",
    "    let (Address i : address) = state.ip\n",
    "    in\n",
    "    if i < 0 || Array.length state.instructions <= i then None\n",
    "    else Some state.instructions.(i)"
   ]
  },
  {
   "cell_type": "code",
   "execution_count": 17,
   "id": "a0c1e922",
   "metadata": {},
   "outputs": [
    {
     "data": {
      "text/plain": [
       "val primer_izvajanje_1 : instruction option list =\n",
       "  [Some (MOV (C, Const 42)); Some HLT; None]\n"
      ]
     },
     "execution_count": 17,
     "metadata": {},
     "output_type": "execute_result"
    }
   ],
   "source": [
    "let primer_izvajanje_1 : instruction option list =\n",
    "    [\n",
    "        read_instruction { empty with instructions = [| MOV (A, Register B); MOV (C, Const 42); JA (Address 10); HLT |]; ip = (Address 1) };\n",
    "        read_instruction { empty with instructions = [| MOV (A, Register B); MOV (C, Const 42); JA (Address 10); HLT |]; ip = (Address 3) };\n",
    "        read_instruction { empty with instructions = [| MOV (A, Register B); MOV (C, Const 42); JA (Address 10); HLT |]; ip = (Address 5) };\n",
    "    ]"
   ]
  },
  {
   "cell_type": "markdown",
   "id": "2163d5ab",
   "metadata": {},
   "source": [
    "Napišite funkcijo `read_register : state -> register -> int`, ki vrne vrednost registra v danem stanju."
   ]
  },
  {
   "cell_type": "code",
   "execution_count": 18,
   "id": "cea2b69f",
   "metadata": {},
   "outputs": [
    {
     "data": {
      "text/plain": [
       "val read_register : state -> register -> int = <fun>\n"
      ]
     },
     "execution_count": 18,
     "metadata": {},
     "output_type": "execute_result"
    }
   ],
   "source": [
    "let read_register (state : state) (reg : register) : int =\n",
    "    match reg with\n",
    "    | A -> state.a\n",
    "    | B -> state.b\n",
    "    | C -> state.c\n",
    "    | D -> state.d"
   ]
  },
  {
   "cell_type": "code",
   "execution_count": 19,
   "id": "3299304c",
   "metadata": {},
   "outputs": [
    {
     "data": {
      "text/plain": [
       "val primer_izvajanje_2 : int = 42\n"
      ]
     },
     "execution_count": 19,
     "metadata": {},
     "output_type": "execute_result"
    }
   ],
   "source": [
    "let primer_izvajanje_2 : int = read_register { empty with a = 10; b = 42 } B"
   ]
  },
  {
   "cell_type": "markdown",
   "id": "1cbabab9",
   "metadata": {},
   "source": [
    "Napišite funkcijo `read_expression : state -> expression -> int`, ki vrne celoštevilsko vrednost izraza v danem stanju."
   ]
  },
  {
   "cell_type": "code",
   "execution_count": 20,
   "id": "c30e3e3e",
   "metadata": {},
   "outputs": [
    {
     "data": {
      "text/plain": [
       "val read_expression : state -> expression -> int = <fun>\n"
      ]
     },
     "execution_count": 20,
     "metadata": {},
     "output_type": "execute_result"
    }
   ],
   "source": [
    "let read_expression (state : state) (expr : expression) : int =\n",
    "    match expr with\n",
    "    | Register reg -> read_register state reg\n",
    "    | Const c -> c"
   ]
  },
  {
   "cell_type": "code",
   "execution_count": 21,
   "id": "27874c7a",
   "metadata": {},
   "outputs": [
    {
     "data": {
      "text/plain": [
       "val primer_izvajanje_3 : int = 20\n"
      ]
     },
     "execution_count": 21,
     "metadata": {},
     "output_type": "execute_result"
    }
   ],
   "source": [
    "let primer_izvajanje_3 : int = read_expression { empty with a = 10; b = 20 } (Register B)"
   ]
  },
  {
   "cell_type": "code",
   "execution_count": 22,
   "id": "28b0c86e",
   "metadata": {},
   "outputs": [
    {
     "data": {
      "text/plain": [
       "val primer_izvajanje_4 : int = 42\n"
      ]
     },
     "execution_count": 22,
     "metadata": {},
     "output_type": "execute_result"
    }
   ],
   "source": [
    "let primer_izvajanje_4 : int = read_expression { empty with a = 10; b = 20 } (Const 42)"
   ]
  },
  {
   "cell_type": "markdown",
   "id": "f62003fe",
   "metadata": {},
   "source": [
    "### Spreminjanje registrov"
   ]
  },
  {
   "cell_type": "markdown",
   "id": "e0d572fd",
   "metadata": {},
   "source": [
    "Napišite funkcijo `write_register : state -> register -> int -> state`, ki vrednost registra v danem stanju nastavi na dano število. Funkcija naj vrne novo stanje."
   ]
  },
  {
   "cell_type": "code",
   "execution_count": 23,
   "id": "315e7333",
   "metadata": {},
   "outputs": [
    {
     "data": {
      "text/plain": [
       "val write_register : state -> register -> int -> state = <fun>\n"
      ]
     },
     "execution_count": 23,
     "metadata": {},
     "output_type": "execute_result"
    }
   ],
   "source": [
    "let write_register (state : state) (reg : register) (n : int) : state =\n",
    "    match reg with\n",
    "    | A -> { state with a = n }\n",
    "    | B -> { state with b = n }\n",
    "    | C -> { state with c = n }\n",
    "    | D -> { state with d = n }"
   ]
  },
  {
   "cell_type": "code",
   "execution_count": 24,
   "id": "4792fbeb",
   "metadata": {},
   "outputs": [
    {
     "data": {
      "text/plain": [
       "val primer_izvajanje_5 : state =\n",
       "  {instructions = [||]; a = 0; b = 0; c = 42; d = 24; ip = Address 0;\n",
       "   zero = false; carry = false; stack = []}\n"
      ]
     },
     "execution_count": 24,
     "metadata": {},
     "output_type": "execute_result"
    }
   ],
   "source": [
    "let primer_izvajanje_5 : state = write_register { empty with c = 42 } D 24"
   ]
  },
  {
   "cell_type": "markdown",
   "id": "b7fe6b55",
   "metadata": {},
   "source": [
    "Napišite funkcijo `perform_unop : (int -> int) -> state -> register -> state`, ki izvede eniško operacijo na vrednosti registra. Funkcija naj vrne novo stanje s spremenjenim registrom."
   ]
  },
  {
   "cell_type": "code",
   "execution_count": 25,
   "id": "2ffec824",
   "metadata": {},
   "outputs": [
    {
     "data": {
      "text/plain": [
       "val perform_unop : (int -> int) -> state -> register -> state = <fun>\n"
      ]
     },
     "execution_count": 25,
     "metadata": {},
     "output_type": "execute_result"
    }
   ],
   "source": [
    "let perform_unop (unop : int -> int) (state : state) (reg : register) : state =\n",
    "    read_register state reg\n",
    "    |> unop\n",
    "    |> write_register state reg"
   ]
  },
  {
   "cell_type": "code",
   "execution_count": 26,
   "id": "aa1fb133",
   "metadata": {},
   "outputs": [
    {
     "data": {
      "text/plain": [
       "val primer_izvajanje_6 : state =\n",
       "  {instructions = [||]; a = 0; b = 0; c = 505; d = 0; ip = Address 0;\n",
       "   zero = false; carry = false; stack = []}\n"
      ]
     },
     "execution_count": 26,
     "metadata": {},
     "output_type": "execute_result"
    }
   ],
   "source": [
    "let primer_izvajanje_6 : state = perform_unop (fun x -> 101 * x) { empty with c = 5 } C"
   ]
  },
  {
   "cell_type": "markdown",
   "id": "bf7cecbd",
   "metadata": {},
   "source": [
    "Napišite funkcijo `perform_binop : (int -> int -> int) -> state -> register -> expression -> state`, ki izvede dvojiško operacijo na danem registru in izrazu. Funkcija naj vrne novo stanje s spremenjenim registrom."
   ]
  },
  {
   "cell_type": "code",
   "execution_count": 27,
   "id": "f731f2ee",
   "metadata": {},
   "outputs": [
    {
     "data": {
      "text/plain": [
       "val perform_binop :\n",
       "  (int -> int -> int) -> state -> register -> expression -> state = <fun>\n"
      ]
     },
     "execution_count": 27,
     "metadata": {},
     "output_type": "execute_result"
    }
   ],
   "source": [
    "let perform_binop (binop : int -> int -> int) (state : state) (reg : register) (expr : expression) : state =\n",
    "    read_expression state expr\n",
    "    |> binop (read_register state reg)\n",
    "    |> write_register state reg"
   ]
  },
  {
   "cell_type": "code",
   "execution_count": 28,
   "id": "f3d71e2d",
   "metadata": {},
   "outputs": [
    {
     "data": {
      "text/plain": [
       "val primer_izvajanje_7 : state =\n",
       "  {instructions = [||]; a = 0; b = 0; c = 505; d = 0; ip = Address 0;\n",
       "   zero = false; carry = false; stack = []}\n"
      ]
     },
     "execution_count": 28,
     "metadata": {},
     "output_type": "execute_result"
    }
   ],
   "source": [
    "let primer_izvajanje_7 : state = perform_binop ( * ) { empty with c = 5 } C (Const 101)"
   ]
  },
  {
   "cell_type": "markdown",
   "id": "ce4b8992",
   "metadata": {},
   "source": [
    "### Skoki"
   ]
  },
  {
   "cell_type": "markdown",
   "id": "88f79a5e",
   "metadata": {},
   "source": [
    "Napišite funkcijo `next : address -> address`, ki vrne naslednji naslov (torej povečan za 1, saj v našem primeru vsi ukazi zasedejo enako prostora)."
   ]
  },
  {
   "cell_type": "code",
   "execution_count": 29,
   "id": "89680e87",
   "metadata": {},
   "outputs": [
    {
     "data": {
      "text/plain": [
       "val next : address -> address = <fun>\n"
      ]
     },
     "execution_count": 29,
     "metadata": {},
     "output_type": "execute_result"
    }
   ],
   "source": [
    "let next (Address i : address) : address = Address (i + 1)"
   ]
  },
  {
   "cell_type": "code",
   "execution_count": 30,
   "id": "232b761e",
   "metadata": {},
   "outputs": [
    {
     "data": {
      "text/plain": [
       "val primer_izvajanje_8 : address = Address 42\n"
      ]
     },
     "execution_count": 30,
     "metadata": {},
     "output_type": "execute_result"
    }
   ],
   "source": [
    "let primer_izvajanje_8 : address = next (Address 41)"
   ]
  },
  {
   "cell_type": "markdown",
   "id": "197982ee",
   "metadata": {},
   "source": [
    "Napišite funkciji `jump : state -> address -> state` in `proceed : state -> state`. Prva naj v danem stanju skoči na dani naslov, druga pa naj skoči na naslednji ukaz."
   ]
  },
  {
   "cell_type": "code",
   "execution_count": 31,
   "id": "3a717271",
   "metadata": {},
   "outputs": [
    {
     "data": {
      "text/plain": [
       "val jump : state -> address -> state = <fun>\n"
      ]
     },
     "execution_count": 31,
     "metadata": {},
     "output_type": "execute_result"
    },
    {
     "data": {
      "text/plain": [
       "val proceed : state -> state = <fun>\n"
      ]
     },
     "execution_count": 31,
     "metadata": {},
     "output_type": "execute_result"
    }
   ],
   "source": [
    "let jump (state : state) (addr : address) : state =\n",
    "    { state with ip = addr }\n",
    "\n",
    "let proceed (state : state) : state =\n",
    "    { state with ip = next state.ip }"
   ]
  },
  {
   "cell_type": "code",
   "execution_count": 32,
   "id": "c63d93a5",
   "metadata": {},
   "outputs": [
    {
     "data": {
      "text/plain": [
       "val primer_izvajanje_8 : state =\n",
       "  {instructions = [||]; a = 0; b = 0; c = 0; d = 0; ip = Address 10;\n",
       "   zero = false; carry = false; stack = []}\n"
      ]
     },
     "execution_count": 32,
     "metadata": {},
     "output_type": "execute_result"
    }
   ],
   "source": [
    "let primer_izvajanje_8 : state = jump { empty with ip = Address 42} (Address 10)"
   ]
  },
  {
   "cell_type": "code",
   "execution_count": 33,
   "id": "89a1cd91",
   "metadata": {},
   "outputs": [
    {
     "data": {
      "text/plain": [
       "val primer_izvajanje_10 : state =\n",
       "  {instructions = [||]; a = 0; b = 0; c = 0; d = 0; ip = Address 43;\n",
       "   zero = false; carry = false; stack = []}\n"
      ]
     },
     "execution_count": 33,
     "metadata": {},
     "output_type": "execute_result"
    }
   ],
   "source": [
    "let primer_izvajanje_10 : state = proceed { empty with ip = Address 42}"
   ]
  },
  {
   "cell_type": "markdown",
   "id": "324b3c35",
   "metadata": {},
   "source": [
    "Napišite funkciji `push_stack : state -> int -> state` in `pop_stack : state -> int * state`, ki dodata vrednost na sklad oziroma jo odstranita z njega. Funkcija `pop_stack` poleg spremenjenega stanja vrne tudi odstranjeno vrednost. Če je sklad prazen, naj funkcija `pop_stack` sproži izjemo."
   ]
  },
  {
   "cell_type": "code",
   "execution_count": 34,
   "id": "351991e2",
   "metadata": {},
   "outputs": [
    {
     "data": {
      "text/plain": [
       "val push_stack : state -> int -> state = <fun>\n"
      ]
     },
     "execution_count": 34,
     "metadata": {},
     "output_type": "execute_result"
    },
    {
     "data": {
      "text/plain": [
       "val pop_stack : state -> int * state = <fun>\n"
      ]
     },
     "execution_count": 34,
     "metadata": {},
     "output_type": "execute_result"
    }
   ],
   "source": [
    "let push_stack (state : state) (n : int) : state =\n",
    "    { state with stack = n :: state.stack }\n",
    "\n",
    "let pop_stack (state : state) : int * state =\n",
    "    match state.stack with\n",
    "    | [] -> failwith \"Cannot pop from empty stack\"\n",
    "    | hd :: tl -> (hd, { state with stack = tl })"
   ]
  },
  {
   "cell_type": "code",
   "execution_count": 35,
   "id": "8ca30403",
   "metadata": {},
   "outputs": [
    {
     "data": {
      "text/plain": [
       "val primer_izvajanje_10 : state =\n",
       "  {instructions = [||]; a = 0; b = 0; c = 0; d = 0; ip = Address 0;\n",
       "   zero = false; carry = false; stack = [42; 1; 2; 3]}\n"
      ]
     },
     "execution_count": 35,
     "metadata": {},
     "output_type": "execute_result"
    }
   ],
   "source": [
    "let primer_izvajanje_10 : state = push_stack { empty with stack = [1; 2; 3] } 42"
   ]
  },
  {
   "cell_type": "code",
   "execution_count": 36,
   "id": "04b1e1cb",
   "metadata": {},
   "outputs": [
    {
     "data": {
      "text/plain": [
       "val primer_izvajanje_11 : int * state =\n",
       "  (1,\n",
       "   {instructions = [||]; a = 0; b = 0; c = 0; d = 0; ip = Address 0;\n",
       "    zero = false; carry = false; stack = [2; 3]})\n"
      ]
     },
     "execution_count": 36,
     "metadata": {},
     "output_type": "execute_result"
    }
   ],
   "source": [
    "let primer_izvajanje_11 : int * state = pop_stack { empty with stack = [1; 2; 3] }"
   ]
  },
  {
   "cell_type": "markdown",
   "id": "f7ea2541",
   "metadata": {},
   "source": [
    "### Pogojni skoki"
   ]
  },
  {
   "cell_type": "markdown",
   "id": "34faf578",
   "metadata": {},
   "source": [
    "Napišite funkcijo `compare : state -> int -> int -> state`, ki primerja vrednosti dveh števil in ustrezno nastavi zastavici **Zero** in **Carry**. Prvo naj nastavi na `true` natanko tedaj, kadar sta števili enaki, drugo pa takrat, kadar je prvo število manjše.Funkcija naj vrne novo stanje."
   ]
  },
  {
   "cell_type": "code",
   "execution_count": 37,
   "id": "c6b6e0ec",
   "metadata": {},
   "outputs": [
    {
     "data": {
      "text/plain": [
       "val compare : state -> int -> int -> state = <fun>\n"
      ]
     },
     "execution_count": 37,
     "metadata": {},
     "output_type": "execute_result"
    }
   ],
   "source": [
    "let compare (state : state) (n : int) (m : int) : state =\n",
    "    { state with zero = (n = m); carry = (n < m) }"
   ]
  },
  {
   "cell_type": "code",
   "execution_count": 38,
   "id": "3ed6cb16",
   "metadata": {},
   "outputs": [
    {
     "data": {
      "text/plain": [
       "val primer_izvajanje_12 : state =\n",
       "  {instructions = [||]; a = 0; b = 0; c = 0; d = 0; ip = Address 0;\n",
       "   zero = false; carry = true; stack = []}\n"
      ]
     },
     "execution_count": 38,
     "metadata": {},
     "output_type": "execute_result"
    }
   ],
   "source": [
    "let primer_izvajanje_12 : state = compare empty 24 42"
   ]
  },
  {
   "cell_type": "code",
   "execution_count": 39,
   "id": "a8114c26",
   "metadata": {},
   "outputs": [
    {
     "data": {
      "text/plain": [
       "val primer_izvajanje_dodatno_1 : state =\n",
       "  {instructions = [||]; a = 0; b = 0; c = 0; d = 0; ip = Address 0;\n",
       "   zero = true; carry = false; stack = []}\n"
      ]
     },
     "execution_count": 39,
     "metadata": {},
     "output_type": "execute_result"
    }
   ],
   "source": [
    "let primer_izvajanje_dodatno_1 : state = compare empty 24 24"
   ]
  },
  {
   "cell_type": "code",
   "execution_count": 40,
   "id": "68cabe76",
   "metadata": {},
   "outputs": [
    {
     "data": {
      "text/plain": [
       "val primer_izvajanje_dodatno_2 : state =\n",
       "  {instructions = [||]; a = 0; b = 0; c = 0; d = 0; ip = Address 0;\n",
       "   zero = false; carry = false; stack = []}\n"
      ]
     },
     "execution_count": 40,
     "metadata": {},
     "output_type": "execute_result"
    }
   ],
   "source": [
    "let primer_izvajanje_dodatno_2 : state = compare empty 42 24"
   ]
  },
  {
   "cell_type": "markdown",
   "id": "b8b434da",
   "metadata": {},
   "source": [
    "Napišite funkcijo `conditional_jump : state -> address -> bool -> state`, ki skoči na dani naslov, če je podan pogoj izpolnjen. V nasprotnem primeru naj funkcija skoči na naslednji ukaz."
   ]
  },
  {
   "cell_type": "code",
   "execution_count": 41,
   "id": "3368e336",
   "metadata": {},
   "outputs": [
    {
     "data": {
      "text/plain": [
       "val conditional_jump : state -> address -> bool -> state = <fun>\n"
      ]
     },
     "execution_count": 41,
     "metadata": {},
     "output_type": "execute_result"
    }
   ],
   "source": [
    "let conditional_jump (state : state) (addr : address) (phi : bool) : state =\n",
    "    if phi then jump state addr\n",
    "    else proceed state"
   ]
  },
  {
   "cell_type": "code",
   "execution_count": 42,
   "id": "80c51791",
   "metadata": {},
   "outputs": [
    {
     "data": {
      "text/plain": [
       "val primer_izvajanje_13 : state =\n",
       "  {instructions = [||]; a = 0; b = 0; c = 0; d = 0; ip = Address 10;\n",
       "   zero = false; carry = false; stack = []}\n"
      ]
     },
     "execution_count": 42,
     "metadata": {},
     "output_type": "execute_result"
    }
   ],
   "source": [
    "let primer_izvajanje_13 : state = conditional_jump { empty with ip = Address 42 } (Address 10) true"
   ]
  },
  {
   "cell_type": "code",
   "execution_count": 43,
   "id": "7c523fe7",
   "metadata": {},
   "outputs": [
    {
     "data": {
      "text/plain": [
       "val primer_izvajanje_14 : state =\n",
       "  {instructions = [||]; a = 0; b = 0; c = 0; d = 0; ip = Address 43;\n",
       "   zero = false; carry = false; stack = []}\n"
      ]
     },
     "execution_count": 43,
     "metadata": {},
     "output_type": "execute_result"
    }
   ],
   "source": [
    "let primer_izvajanje_14 : state = conditional_jump { empty with ip = Address 42 } (Address 10) false"
   ]
  },
  {
   "cell_type": "markdown",
   "id": "1e24d98b",
   "metadata": {},
   "source": [
    "### Klici funkcij"
   ]
  },
  {
   "cell_type": "markdown",
   "id": "4b729626",
   "metadata": {},
   "source": [
    "Napišite funkcijo `call : state -> address -> state`, ki v danem stanju skoči na dani naslov in na sklad doda naslednji naslov."
   ]
  },
  {
   "cell_type": "code",
   "execution_count": 44,
   "id": "a682f6c8",
   "metadata": {},
   "outputs": [
    {
     "data": {
      "text/plain": [
       "val call : state -> address -> state = <fun>\n"
      ]
     },
     "execution_count": 44,
     "metadata": {},
     "output_type": "execute_result"
    }
   ],
   "source": [
    "let call (state : state) (addr : address) : state =\n",
    "    let (Address i : address) = next state.ip\n",
    "    in\n",
    "    jump (push_stack state i) addr"
   ]
  },
  {
   "cell_type": "code",
   "execution_count": 45,
   "id": "e8286e67",
   "metadata": {},
   "outputs": [
    {
     "data": {
      "text/plain": [
       "val primer_izvajanje_15 : state =\n",
       "  {instructions = [||]; a = 0; b = 0; c = 0; d = 0; ip = Address 10;\n",
       "   zero = false; carry = false; stack = [43]}\n"
      ]
     },
     "execution_count": 45,
     "metadata": {},
     "output_type": "execute_result"
    }
   ],
   "source": [
    "let primer_izvajanje_15 : state = call { empty with ip = Address 42 } (Address 10)"
   ]
  },
  {
   "cell_type": "markdown",
   "id": "486efe1e",
   "metadata": {},
   "source": [
    "Napišite funkcijo `return : state -> state`, ki v danem stanju skoči na naslov, ki je na vrhu sklada, in odstrani ta naslov s sklada."
   ]
  },
  {
   "cell_type": "code",
   "execution_count": 46,
   "id": "fcfb18fb",
   "metadata": {},
   "outputs": [
    {
     "data": {
      "text/plain": [
       "val return : state -> state = <fun>\n"
      ]
     },
     "execution_count": 46,
     "metadata": {},
     "output_type": "execute_result"
    }
   ],
   "source": [
    "let return (state : state) : state =\n",
    "    let (i, state') : int * state = pop_stack state\n",
    "    in\n",
    "    { state' with ip = Address i }"
   ]
  },
  {
   "cell_type": "code",
   "execution_count": 47,
   "id": "2d8df0dd",
   "metadata": {},
   "outputs": [
    {
     "data": {
      "text/plain": [
       "val primer_izvajanje_16 : state =\n",
       "  {instructions = [||]; a = 0; b = 0; c = 0; d = 0; ip = Address 42;\n",
       "   zero = false; carry = false; stack = [43; 44]}\n"
      ]
     },
     "execution_count": 47,
     "metadata": {},
     "output_type": "execute_result"
    }
   ],
   "source": [
    "let primer_izvajanje_16 : state = return { empty with ip = (Address 100); stack = [42; 43; 44] }"
   ]
  },
  {
   "cell_type": "markdown",
   "id": "e4e309aa",
   "metadata": {},
   "source": [
    "### Izvajanje programov"
   ]
  },
  {
   "cell_type": "markdown",
   "id": "8609d6ef",
   "metadata": {},
   "source": [
    "S pomočjo zgoraj definiranih funkcij dopolnite funkcijo `run_instruction : state -> instruction -> state`, ki izvede podani ukaz v danem stanju in vrne novo stanje. Za interpretacije pogojnih skokov si lahko pomagate z [navodili simulatorja](https://schweigi.github.io/assembler-simulator/instruction-set.html), ki smo ga pogledali na predavanjih."
   ]
  },
  {
   "cell_type": "code",
   "execution_count": 48,
   "id": "333a6b7d",
   "metadata": {},
   "outputs": [
    {
     "data": {
      "text/plain": [
       "val run_instruction : state -> instruction -> state = <fun>\n"
      ]
     },
     "execution_count": 48,
     "metadata": {},
     "output_type": "execute_result"
    }
   ],
   "source": [
    "let run_instruction (state : state) (inst : instruction) : state =\n",
    "    match inst with\n",
    "    | MOV (reg, expr) -> read_expression state expr |> write_register state reg |> proceed\n",
    "    | ADD (reg, expr) -> perform_binop ( + ) state reg expr |> proceed\n",
    "    | SUB (reg, expr) -> perform_binop ( - ) state reg expr |> proceed\n",
    "    | INC reg -> perform_unop succ state reg |> proceed\n",
    "    | DEC reg -> perform_unop pred state reg |> proceed\n",
    "    | MUL expr -> perform_binop ( * ) state A expr |> proceed\n",
    "    | DIV expr -> perform_binop ( / ) state A expr |> proceed\n",
    "    (* Pozor, OCaml land/lor/lxor interpretira kot simbole, zato jih pišemo infiksno! *)\n",
    "    | AND (reg, expr) -> perform_binop ( land ) state reg expr |> proceed\n",
    "    | OR (reg, expr) -> perform_binop ( lor ) state reg expr |> proceed\n",
    "    | XOR (reg, expr) -> perform_binop ( lxor ) state reg expr |> proceed\n",
    "    | NOT reg -> perform_unop lnot state reg |> proceed\n",
    "    | CMP (reg, expr) -> compare state (read_register state reg) (read_expression state expr) |> proceed\n",
    "    | JMP addr -> jump state addr\n",
    "    | JA addr -> conditional_jump state addr (not state.carry && not state.zero)\n",
    "    | JAE addr -> conditional_jump state addr (not state.carry)\n",
    "    | JB addr -> conditional_jump state addr (state.carry && not state.zero)\n",
    "    | JBE addr -> conditional_jump state addr (state.carry)\n",
    "    | JE addr -> conditional_jump state addr (state.zero)\n",
    "    | JNE addr -> conditional_jump state addr (not state.zero)\n",
    "    | CALL addr -> call state addr\n",
    "    | RET -> return state\n",
    "    | PUSH expr -> push_stack state (read_expression state expr) |> proceed\n",
    "    | POP reg ->\n",
    "        let n, state' = pop_stack state\n",
    "        in\n",
    "        write_register state' reg n |> proceed\n",
    "    | HLT -> failwith \"Cannot execute instruction\""
   ]
  },
  {
   "cell_type": "markdown",
   "id": "7aa4ef74",
   "metadata": {},
   "source": [
    "Napišite funkcijo `run_program : state -> state`, ki izvaja ukaze v danem stanju, dokler ne naleti na ukaz `HLT` ali pa ukazni kazalec skoči ven iz ukaznega pomnilnika. Funkcija naj vrne končno stanje."
   ]
  },
  {
   "cell_type": "code",
   "execution_count": 49,
   "id": "3f89fba5",
   "metadata": {},
   "outputs": [
    {
     "data": {
      "text/plain": [
       "val run_program : state -> state = <fun>\n"
      ]
     },
     "execution_count": 49,
     "metadata": {},
     "output_type": "execute_result"
    }
   ],
   "source": [
    "let rec run_program (state : state) : state =\n",
    "    match read_instruction state with\n",
    "    | (None | Some HLT) -> state\n",
    "    | Some inst -> run_instruction state inst |> run_program"
   ]
  },
  {
   "cell_type": "code",
   "execution_count": 50,
   "id": "15268c80",
   "metadata": {},
   "outputs": [
    {
     "data": {
      "text/plain": [
       "val primer_izvajanje_16 : state =\n",
       "  {instructions =\n",
       "    [|JMP (Address 20); PUSH (Register C); PUSH (Register B);\n",
       "      MOV (C, Register A); CMP (A, Const 0); JE (Address 17);\n",
       "      CMP (A, Const 1); JE (Address 17); DEC C; MOV (A, Register C);\n",
       "      CALL (Address 1); MOV (B, Register A); DEC C; MOV (A, Register C);\n",
       "      CALL (Address 1); ADD (A, Register B); JMP (Address 17); POP B; \n",
       "      POP C; RET; MOV (A, Const 10); CALL (Address 1); HLT|];\n",
       "   a = 55; b = 0; c = 0; d = 0; ip = Address 22; zero = true; carry = false;\n",
       "   stack = []}\n"
      ]
     },
     "execution_count": 50,
     "metadata": {},
     "output_type": "execute_result"
    }
   ],
   "source": [
    "let primer_izvajanje_16 : state =\n",
    "    fibonacci 10\n",
    "    |> init\n",
    "    |> run_program"
   ]
  },
  {
   "cell_type": "markdown",
   "id": "f4f37f0e",
   "metadata": {},
   "source": [
    "## Branje zbirnika"
   ]
  },
  {
   "cell_type": "markdown",
   "id": "7c9a041e",
   "metadata": {},
   "source": [
    "Da bomo programe lahko pisali v zbirniku, napišimo še funkcije za branje nizov. Predpostavljate lahko, da bodo vsi nizi pravilno oblikovani, zato v primeru napake s `failwith ...` javite ustrezno sporočilo o napaki."
   ]
  },
  {
   "cell_type": "markdown",
   "id": "93f483b7",
   "metadata": {},
   "source": [
    "### Registri in izrazi"
   ]
  },
  {
   "cell_type": "markdown",
   "id": "31b126a3",
   "metadata": {},
   "source": [
    "Napišite funkcijo `parse_register : string -> register`, ki iz niza prebere register."
   ]
  },
  {
   "cell_type": "code",
   "execution_count": 51,
   "id": "6a9e027f",
   "metadata": {},
   "outputs": [
    {
     "data": {
      "text/plain": [
       "val parse_register : string -> register = <fun>\n"
      ]
     },
     "execution_count": 51,
     "metadata": {},
     "output_type": "execute_result"
    }
   ],
   "source": [
    "let parse_register (reg_str : string) : register =\n",
    "    match reg_str with\n",
    "    | \"A\" -> A\n",
    "    | \"B\" -> B\n",
    "    | \"C\" -> C\n",
    "    | \"D\" -> D\n",
    "    | _ -> failwith \"Cannot convert to register\""
   ]
  },
  {
   "cell_type": "code",
   "execution_count": 52,
   "id": "b5c3ee50",
   "metadata": {},
   "outputs": [
    {
     "data": {
      "text/plain": [
       "val primer_branje_1 : register = A\n"
      ]
     },
     "execution_count": 52,
     "metadata": {},
     "output_type": "execute_result"
    }
   ],
   "source": [
    "let primer_branje_1 : register = parse_register \"A\""
   ]
  },
  {
   "cell_type": "markdown",
   "id": "35699e69",
   "metadata": {},
   "source": [
    "Napišite funkcijo `parse_expression : string -> expression`, ki iz niza prebere izraz."
   ]
  },
  {
   "cell_type": "code",
   "execution_count": 53,
   "id": "87076720",
   "metadata": {},
   "outputs": [
    {
     "data": {
      "text/plain": [
       "val parse_expression : string -> expression = <fun>\n"
      ]
     },
     "execution_count": 53,
     "metadata": {},
     "output_type": "execute_result"
    }
   ],
   "source": [
    "let parse_expression (expr_str : string) : expression =\n",
    "    match int_of_string_opt expr_str with\n",
    "    | None -> Register (parse_register expr_str)\n",
    "    | Some n -> Const n"
   ]
  },
  {
   "cell_type": "code",
   "execution_count": 54,
   "id": "f9baa970",
   "metadata": {},
   "outputs": [
    {
     "data": {
      "text/plain": [
       "val primer_branje_2 : expression = Register A\n"
      ]
     },
     "execution_count": 54,
     "metadata": {},
     "output_type": "execute_result"
    }
   ],
   "source": [
    "let primer_branje_2 : expression = parse_expression \"A\""
   ]
  },
  {
   "cell_type": "code",
   "execution_count": 55,
   "id": "50ad1fff",
   "metadata": {},
   "outputs": [
    {
     "data": {
      "text/plain": [
       "val primer_branje_3 : expression = Const 42\n"
      ]
     },
     "execution_count": 55,
     "metadata": {},
     "output_type": "execute_result"
    }
   ],
   "source": [
    "let primer_branje_3 : expression = parse_expression \"42\""
   ]
  },
  {
   "cell_type": "markdown",
   "id": "d331ce1b",
   "metadata": {},
   "source": [
    "### Čiščenje vrstic"
   ]
  },
  {
   "cell_type": "markdown",
   "id": "6b2236d0",
   "metadata": {},
   "source": [
    "Napišite funkcijo `clean_line : string -> string`, ki iz niza odstrani vse presledke in komentarje (ki se začnejo z znakom `;`). Pri iskanju in odstranjevanju komentarjev si pomagajte z uporabo funkcij `String.index_opt` in `String.sub`."
   ]
  },
  {
   "cell_type": "code",
   "execution_count": 56,
   "id": "ef983e41",
   "metadata": {},
   "outputs": [
    {
     "data": {
      "text/plain": [
       "val clean_line : string -> string = <fun>\n"
      ]
     },
     "execution_count": 56,
     "metadata": {},
     "output_type": "execute_result"
    }
   ],
   "source": [
    "let clean_line (line : string) : string =\n",
    "    (\n",
    "        match String.index_opt line ';' with\n",
    "        | None -> line\n",
    "        | Some i -> String.sub line 0 i\n",
    "    )\n",
    "    |> String.trim"
   ]
  },
  {
   "cell_type": "code",
   "execution_count": 57,
   "id": "2aced2ad",
   "metadata": {},
   "outputs": [
    {
     "data": {
      "text/plain": [
       "val primer_branje_4 : string = \"MOV A, 42\"\n"
      ]
     },
     "execution_count": 57,
     "metadata": {},
     "output_type": "execute_result"
    }
   ],
   "source": [
    "let primer_branje_4 : string = clean_line \"   MOV A, 42    ; To je komentar   \""
   ]
  },
  {
   "cell_type": "markdown",
   "id": "799fda6c",
   "metadata": {},
   "source": [
    "Napišite funkcijo `clean_lines : string list -> string list`, ki iz seznama nizov najprej odstrani vse komentarje in presledke, nato pa odstrani vse prazne vrstice."
   ]
  },
  {
   "cell_type": "code",
   "execution_count": 58,
   "id": "43d2ccce",
   "metadata": {},
   "outputs": [
    {
     "data": {
      "text/plain": [
       "val clean_lines : string list -> string list = <fun>\n"
      ]
     },
     "execution_count": 58,
     "metadata": {},
     "output_type": "execute_result"
    }
   ],
   "source": [
    "let clean_lines (lines : string list) : string list =\n",
    "    List.map clean_line lines\n",
    "    |> List.filter (fun (s : string) : bool -> s <> \"\")"
   ]
  },
  {
   "cell_type": "code",
   "execution_count": 59,
   "id": "c46850b8",
   "metadata": {},
   "outputs": [
    {
     "data": {
      "text/plain": [
       "val primer_branje_dodatno_1 : string list = [\"MOV A, 42\"; \"ADD B, 77\"]\n"
      ]
     },
     "execution_count": 59,
     "metadata": {},
     "output_type": "execute_result"
    }
   ],
   "source": [
    "let primer_branje_dodatno_1 : string list =\n",
    "    clean_lines\n",
    "        [\n",
    "            \"   MOV A, 42    ; To je komentar   \";\n",
    "            \"   ; Vidim korenje   \";\n",
    "            \"   ; Voham korenje   \";\n",
    "            \"   ; ČUUUUUUUUUTIM KORENJE   \";\n",
    "            \"   ADD B, 77    ; To ni komentar   \";\n",
    "        ]"
   ]
  },
  {
   "cell_type": "markdown",
   "id": "f16ce49a",
   "metadata": {},
   "source": [
    "### Oznake"
   ]
  },
  {
   "cell_type": "markdown",
   "id": "f81da4cd",
   "metadata": {},
   "source": [
    "Kot smo navajeni iz zbirnika, skokov ne podajamo z indeksi, ampak raje v dele kode napišemo oznake kot so `main:` ali `.loop:`, nato pa se nanje sklicujemo kot `JA .loop`, `JMP main`, `CALL fib` in tako naprej. Oznake bomo hranili v seznamu, ki bo vsaki oznaki priredil ustrezen naslov v ukaznem pomnilniku."
   ]
  },
  {
   "cell_type": "markdown",
   "id": "a3f44014",
   "metadata": {},
   "source": [
    "Napišite funkcijo `parse_address : (string * address) list -> string -> address`, ki pri danem seznamu oznak iz niza prebere naslov. Naslov je lahko podan direktno s številom ali pa z eno izmed oznak v seznamu."
   ]
  },
  {
   "cell_type": "code",
   "execution_count": 60,
   "id": "2841536a",
   "metadata": {},
   "outputs": [
    {
     "data": {
      "text/plain": [
       "val parse_address : (string * address) list -> string -> address = <fun>\n"
      ]
     },
     "execution_count": 60,
     "metadata": {},
     "output_type": "execute_result"
    }
   ],
   "source": [
    "let parse_address (dict : (string * address) list) (label : string) : address =\n",
    "    match int_of_string_opt label with\n",
    "    | Some i -> Address i\n",
    "    | None ->\n",
    "        match List.assoc_opt label dict with\n",
    "        | None -> failwith \"Label not found in dictionary\"\n",
    "        | Some addr -> addr"
   ]
  },
  {
   "cell_type": "code",
   "execution_count": 61,
   "id": "1f12cd31",
   "metadata": {},
   "outputs": [
    {
     "data": {
      "text/plain": [
       "val primer_branje_5 : address = Address 42\n"
      ]
     },
     "execution_count": 61,
     "metadata": {},
     "output_type": "execute_result"
    }
   ],
   "source": [
    "let primer_branje_5 : address = parse_address [(\"main\", Address 42)] \"main\""
   ]
  },
  {
   "cell_type": "code",
   "execution_count": 62,
   "id": "5257183f",
   "metadata": {},
   "outputs": [
    {
     "data": {
      "text/plain": [
       "val primer_branje_6 : address = Address 123\n"
      ]
     },
     "execution_count": 62,
     "metadata": {},
     "output_type": "execute_result"
    }
   ],
   "source": [
    "let primer_branje_6 : address = parse_address [(\"main\", Address 42)] \"123\""
   ]
  },
  {
   "cell_type": "markdown",
   "id": "f0972ff0",
   "metadata": {},
   "source": [
    "Napišite funkcijo `parse_label : string -> string option`, ki vrne oznako, če se niz konča z dvopičjem, sicer pa vrne `None`."
   ]
  },
  {
   "cell_type": "code",
   "execution_count": 63,
   "id": "57e15b76",
   "metadata": {},
   "outputs": [
    {
     "data": {
      "text/plain": [
       "val parse_label : string -> string option = <fun>\n"
      ]
     },
     "execution_count": 63,
     "metadata": {},
     "output_type": "execute_result"
    }
   ],
   "source": [
    "let parse_label (label_str : string) : string option =\n",
    "    if label_str = \"\" then None\n",
    "    else\n",
    "        let len : int = String.length label_str\n",
    "        in\n",
    "        if label_str.[len - 1] <> ':' then None\n",
    "        else Some (String.sub label_str 0 (len - 1))"
   ]
  },
  {
   "cell_type": "code",
   "execution_count": 64,
   "id": "6b316276",
   "metadata": {},
   "outputs": [
    {
     "data": {
      "text/plain": [
       "val primer_branje_7 : string option = Some \"main\"\n"
      ]
     },
     "execution_count": 64,
     "metadata": {},
     "output_type": "execute_result"
    }
   ],
   "source": [
    "let primer_branje_7 : string option = parse_label \"main:\""
   ]
  },
  {
   "cell_type": "code",
   "execution_count": 65,
   "id": "ebb92f12",
   "metadata": {},
   "outputs": [
    {
     "data": {
      "text/plain": [
       "val primer_branje_8 : string option = None\n"
      ]
     },
     "execution_count": 65,
     "metadata": {},
     "output_type": "execute_result"
    }
   ],
   "source": [
    "let primer_branje_8 : string option = parse_label \"MOV A, 42\""
   ]
  },
  {
   "cell_type": "markdown",
   "id": "e7848e21",
   "metadata": {},
   "source": [
    "Da bomo iz kode določili oznake, napišite funkcijo `parse_labels : string list -> (string * address) list * string list`, ki iz seznama nizov, ki so bodisi oznake bodisi ukazi, izloči oznake in jim priredi naslove, ostale vrstice pa pusti nespremenjene."
   ]
  },
  {
   "cell_type": "code",
   "execution_count": 66,
   "id": "faab2345",
   "metadata": {},
   "outputs": [
    {
     "data": {
      "text/plain": [
       "val parse_labels : string list -> (string * address) list * string list =\n",
       "  <fun>\n"
      ]
     },
     "execution_count": 66,
     "metadata": {},
     "output_type": "execute_result"
    }
   ],
   "source": [
    "let parse_labels (lines : string list) : (string * address) list * string list =\n",
    "    let i : int ref = ref 0\n",
    "    in\n",
    "    List.partition_map\n",
    "        (\n",
    "            fun (line : string) : (string * address, string) Either.t ->\n",
    "                match parse_label line with\n",
    "                | None -> i := !i + 1; Right line\n",
    "                | Some label -> Left (label, Address !i)\n",
    "        )\n",
    "        lines"
   ]
  },
  {
   "cell_type": "code",
   "execution_count": 67,
   "id": "6b91b905",
   "metadata": {},
   "outputs": [
    {
     "data": {
      "text/plain": [
       "val primer_branje_9 : (string * address) list * string list =\n",
       "  ([(\"main\", Address 1); (\"loop\", Address 2); (\"test\", Address 8)],\n",
       "   [\"JMP main\"; \"MOV A, 0\"; \"INC A\"; \"JMP loop\"; \"testest\"; \"\"; \"\"; \"\";\n",
       "    \"BANANA\"])\n"
      ]
     },
     "execution_count": 67,
     "metadata": {},
     "output_type": "execute_result"
    }
   ],
   "source": [
    "let primer_branje_9 : (string * address) list * string list = parse_labels [\"JMP main\"; \"main:\"; \"MOV A, 0\"; \"loop:\"; \"INC A\"; \"JMP loop\"; \"testest\"; \"\"; \"\"; \"\"; \"test:\"; \"BANANA\"]"
   ]
  },
  {
   "cell_type": "markdown",
   "id": "fa3c0c6f",
   "metadata": {},
   "source": [
    "Dopolnite spodnjo funkcijo `parse_instruction : (string * address) list -> string -> instruction`, ki iz niza prebere ukaz."
   ]
  },
  {
   "cell_type": "code",
   "execution_count": 68,
   "id": "47aa650f",
   "metadata": {},
   "outputs": [
    {
     "data": {
      "text/plain": [
       "val parse_instruction : (string * address) list -> string -> instruction =\n",
       "  <fun>\n"
      ]
     },
     "execution_count": 68,
     "metadata": {},
     "output_type": "execute_result"
    }
   ],
   "source": [
    "let parse_instruction (labels : (string * address) list) (line : string) : instruction =\n",
    "    let tokens =\n",
    "        line\n",
    "        |> String.split_on_char ' '\n",
    "        |> List.concat_map (String.split_on_char ',')\n",
    "        |> List.map String.trim\n",
    "        |> List.filter (fun token -> token <> \"\")\n",
    "    in\n",
    "    match tokens with\n",
    "    | [\"MOV\"; reg; expr] -> MOV (parse_register reg, parse_expression expr)\n",
    "    | [\"ADD\"; reg; expr] -> ADD (parse_register reg, parse_expression expr)\n",
    "    | [\"SUB\"; reg; expr] -> SUB (parse_register reg, parse_expression expr)\n",
    "    | [\"INC\"; reg] -> INC (parse_register reg)\n",
    "    | [\"DEC\"; reg] -> DEC (parse_register reg)\n",
    "    | [\"MUL\"; expr] -> MUL (parse_expression expr)\n",
    "    | [\"DIV\"; expr] -> DIV (parse_expression expr)\n",
    "    | [\"AND\"; reg; expr] -> AND (parse_register reg, parse_expression expr)\n",
    "    | [\"OR\"; reg; expr] -> OR (parse_register reg, parse_expression expr)\n",
    "    | [\"XOR\"; reg; expr] -> XOR (parse_register reg, parse_expression expr)\n",
    "    | [\"NOT\"; reg] -> NOT (parse_register reg)\n",
    "    | [\"CMP\"; reg; expr] -> CMP (parse_register reg, parse_expression expr)\n",
    "    | [\"JMP\"; addr] -> JMP (parse_address labels addr)\n",
    "    | [\"JA\"; addr] -> JA (parse_address labels addr)\n",
    "    | [\"JAE\"; addr] -> JAE (parse_address labels addr)\n",
    "    | [\"JB\"; addr] -> JB (parse_address labels addr)\n",
    "    | [\"JBE\"; addr] -> JBE (parse_address labels addr)\n",
    "    | [\"JE\"; addr] -> JE (parse_address labels addr)\n",
    "    | [\"JNE\"; addr] -> JNE (parse_address labels addr)\n",
    "    | [\"CALL\"; addr] -> CALL (parse_address labels addr)\n",
    "    | [\"RET\"] -> RET\n",
    "    | [\"PUSH\"; expr] -> PUSH (parse_expression expr)\n",
    "    | [\"POP\"; reg] -> POP (parse_register reg)\n",
    "    | [\"HLT\"] -> HLT\n",
    "    | _ -> failwith (\"Invalid instruction: \" ^ line)"
   ]
  },
  {
   "cell_type": "code",
   "execution_count": 69,
   "id": "fed40897",
   "metadata": {},
   "outputs": [
    {
     "data": {
      "text/plain": [
       "val primer_branje_10 : instruction list =\n",
       "  [MOV (A, Const 42); CALL (Address 42); HLT]\n"
      ]
     },
     "execution_count": 69,
     "metadata": {},
     "output_type": "execute_result"
    }
   ],
   "source": [
    "let primer_branje_10 : instruction list = List.map (parse_instruction [(\"main\", Address 42)]) [\"MOV A, 42\"; \"CALL main\"; \"HLT\"]"
   ]
  },
  {
   "cell_type": "markdown",
   "id": "584c33bb",
   "metadata": {},
   "source": [
    "S pomočjo zgoraj napisanih funkcij sestavite funkcijo `run : string -> state`, ki niz razbije na vrstice, prebere ukaze in oznake ter pripravi začetno stanje, nato pa program izvaja vse dokler ne naleti na ukaz `HLT`. Po klicu naj funkcija vrne končno stanje."
   ]
  },
  {
   "cell_type": "code",
   "execution_count": 70,
   "id": "7b92229f",
   "metadata": {},
   "outputs": [
    {
     "data": {
      "text/plain": [
       "val run : string -> state = <fun>\n"
      ]
     },
     "execution_count": 70,
     "metadata": {},
     "output_type": "execute_result"
    }
   ],
   "source": [
    "let run (code : string) : state =\n",
    "    code\n",
    "    |> String.split_on_char '\\n'\n",
    "    |> clean_lines\n",
    "    |> parse_labels\n",
    "    |>\n",
    "        (\n",
    "            fun ((labels, inst_list) : (string * address) list * string list) : instruction list ->\n",
    "                List.map (parse_instruction labels) inst_list\n",
    "        )\n",
    "    |> init\n",
    "    |> run_program"
   ]
  },
  {
   "cell_type": "code",
   "execution_count": 71,
   "id": "0c2a4b2e",
   "metadata": {},
   "outputs": [
    {
     "data": {
      "text/plain": [
       "val fibonacci : string =\n",
       "  \"\\n        JMP main\\n        ; Funkcija, ki izračuna fib(A) in vrednost shrani v register A\\n        fib:\\n            ; Shranimo vrednosti registrov\\n            PUSH C\\n            PUSH B\\n\\n            ; V C shranimo začetno vrednost A\\n            MOV C, A\\n\\n            ; Če je A = 0, je to tudi rezult\"... (* string length 1070; truncated *)\n"
      ]
     },
     "execution_count": 71,
     "metadata": {},
     "output_type": "execute_result"
    }
   ],
   "source": [
    "let fibonacci : string =\n",
    "    {|\n",
    "        JMP main\n",
    "        ; Funkcija, ki izračuna fib(A) in vrednost shrani v register A\n",
    "        fib:\n",
    "            ; Shranimo vrednosti registrov\n",
    "            PUSH C\n",
    "            PUSH B\n",
    "\n",
    "            ; V C shranimo začetno vrednost A\n",
    "            MOV C, A\n",
    "\n",
    "            ; Če je A = 0, je to tudi rezultat\n",
    "            CMP A, 0\n",
    "            JE .fib_end\n",
    "\n",
    "            ; Če je A = 1, je to tudi rezultat\n",
    "            CMP A, 1\n",
    "            JE .fib_end\n",
    "\n",
    "            ; V nasprotnem primeru najprej izračunamo fib(A - 1) in ga shranimo v B\n",
    "            DEC C\n",
    "            MOV A, C\n",
    "            CALL fib\n",
    "            MOV B, A\n",
    "\n",
    "            ; Nato izračunamo še fib(A - 2) in ga shranimo v A\n",
    "            DEC C\n",
    "            MOV A, C\n",
    "            CALL fib\n",
    "\n",
    "            ; Nazadnje k A prištejemo še B, s čimer dobimo končni rezultat\n",
    "            ADD A, B\n",
    "            JMP .fib_end\n",
    "\n",
    "        .fib_end:\n",
    "            ; Povrnemo vrednosti registrov in vrnemo rezultat\n",
    "            POP B\n",
    "            POP C\n",
    "            RET\n",
    "\n",
    "        main:\n",
    "            MOV A, 7\n",
    "            CALL fib\n",
    "        HLT\n",
    "        |}"
   ]
  },
  {
   "cell_type": "code",
   "execution_count": 72,
   "id": "90c692c4",
   "metadata": {},
   "outputs": [
    {
     "data": {
      "text/plain": [
       "val primer_branje_11 : state =\n",
       "  {instructions =\n",
       "    [|JMP (Address 20); PUSH (Register C); PUSH (Register B);\n",
       "      MOV (C, Register A); CMP (A, Const 0); JE (Address 17);\n",
       "      CMP (A, Const 1); JE (Address 17); DEC C; MOV (A, Register C);\n",
       "      CALL (Address 1); MOV (B, Register A); DEC C; MOV (A, Register C);\n",
       "      CALL (Address 1); ADD (A, Register B); JMP (Address 17); POP B; \n",
       "      POP C; RET; MOV (A, Const 7); CALL (Address 1); HLT|];\n",
       "   a = 13; b = 0; c = 0; d = 0; ip = Address 22; zero = true; carry = false;\n",
       "   stack = []}\n"
      ]
     },
     "execution_count": 72,
     "metadata": {},
     "output_type": "execute_result"
    }
   ],
   "source": [
    "let primer_branje_11 : state = run fibonacci"
   ]
  }
 ],
 "metadata": {
  "kernelspec": {
   "display_name": "OCaml /home/androgeus/Programming/prog-1/prog-1-naloge",
   "language": "OCaml",
   "name": "ocaml-jupyter-prog-1-naloge"
  },
  "language_info": {
   "codemirror_mode": "text/x-ocaml",
   "file_extension": ".ml",
   "mimetype": "text/x-ocaml",
   "name": "OCaml",
   "nbconverter_exporter": null,
   "pygments_lexer": "OCaml",
   "version": "4.12.0+domains"
  }
 },
 "nbformat": 4,
 "nbformat_minor": 5
}

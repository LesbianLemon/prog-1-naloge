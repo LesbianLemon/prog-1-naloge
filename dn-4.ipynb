{
 "cells": [
  {
   "cell_type": "markdown",
   "id": "ce9e4b56",
   "metadata": {},
   "source": [
    "# 4. domača naloga"
   ]
  },
  {
   "cell_type": "markdown",
   "id": "fecf83d6",
   "metadata": {},
   "source": [
    "Pri tej nalogi boste napisali svoj simulator Turingovih strojev. Zaradi preprostosti bomo za abecedo vzeli kar znake tipa `char`, za prazni znak bomo izbrali presledek `' '`, stanja pa bomo predstavili z nizi. Za možne premike zafiksiramo tip `direction`:"
   ]
  },
  {
   "cell_type": "code",
   "execution_count": 1,
   "id": "79ced93d",
   "metadata": {},
   "outputs": [
    {
     "data": {
      "text/plain": [
       "type direction = Left | Right\n"
      ]
     },
     "execution_count": 1,
     "metadata": {},
     "output_type": "execute_result"
    },
    {
     "data": {
      "text/plain": [
       "type state = string\n"
      ]
     },
     "execution_count": 1,
     "metadata": {},
     "output_type": "execute_result"
    }
   ],
   "source": [
    "type direction =\n",
    "    | Left\n",
    "    | Right\n",
    "\n",
    "type state = string"
   ]
  },
  {
   "cell_type": "markdown",
   "id": "e1c90595",
   "metadata": {},
   "source": [
    "## Implementacija trakov"
   ]
  },
  {
   "cell_type": "markdown",
   "id": "cc35e05c",
   "metadata": {},
   "source": [
    "Napišite modul `Tape`, ki implementira spodnjo signaturo, kjer je:\n",
    "#\n",
    "- `t` tip v obe smeri neomejenih trakov in glavo na danem mestu;\n",
    "- `make`, ki naredi nov trak z znaki iz niza ter glavo na prvem znaku;\n",
    "- `read`, ki vrne znak pod glavo;\n",
    "- `write`, ki pod glavo zapiše dani znak;\n",
    "- `move`, ki glavo premakne v dano smer;\n",
    "- `print`, ki izpiše vsebino traku (brez presledkov na začetku in koncu) ter pod njim z `^` označi mesto glave.\n",
    "#\n",
    "Zadnji dve funkciji naj vrneta nov trak, obstoječega pa naj pustita nespremenjenega.\n",
    "#\n",
    "Ker je tip `t` abstrakten, si lahko privoščite poljubno implementacijo, zato poskrbite tako za učinkovitost kot za preglednost kode."
   ]
  },
  {
   "cell_type": "code",
   "execution_count": 2,
   "id": "566b0512",
   "metadata": {},
   "outputs": [
    {
     "data": {
      "text/plain": [
       "module type TAPE =\n",
       "  sig\n",
       "    type t\n",
       "    val make : string -> t\n",
       "    val move : direction -> t -> t\n",
       "    val read : t -> char\n",
       "    val write : char -> t -> t\n",
       "    val print : t -> unit\n",
       "  end\n"
      ]
     },
     "execution_count": 2,
     "metadata": {},
     "output_type": "execute_result"
    }
   ],
   "source": [
    "module type TAPE =\n",
    "    sig\n",
    "        type t\n",
    "\n",
    "        val make : string -> t\n",
    "        val move : direction -> t -> t\n",
    "        val read : t -> char\n",
    "        val write : char -> t -> t\n",
    "        val print : t -> unit\n",
    "    end"
   ]
  },
  {
   "cell_type": "code",
   "execution_count": 3,
   "id": "d85a93a8",
   "metadata": {},
   "outputs": [
    {
     "data": {
      "text/plain": [
       "module Tape : TAPE\n"
      ]
     },
     "execution_count": 3,
     "metadata": {},
     "output_type": "execute_result"
    }
   ],
   "source": [
    "module Tape : TAPE =\n",
    "    struct\n",
    "        (* Choosing the correct type has an impact on time efficiency. We can limit ourselves as follows: *)\n",
    "\n",
    "        (* -`make` function has to read every character in the string so at best it is O(n) *)\n",
    "        (* -`move` function has to move the tape by a single step so it should be O(1) *)\n",
    "        (* -`read` function has to output a single character so it should be O(1) *)\n",
    "        (* -`write` function has to replace a single character so it should be O(1) *)\n",
    "        (* -`print` function has to read the entire tape so at best it is O(n) *)\n",
    "\n",
    "        (* We see that our goal should be optimizing `move`, `read` and `write`, since the others are at least O(n). *)\n",
    "        (* This means we need O(1) access to reading and writing of the head and O(1) to the characters next to it. *)\n",
    "\n",
    "        (* Idea: Store the head seperately for easy reading and writing and have lists of characters to the *)\n",
    "        (* left and right with the first character being the one next to the head *)\n",
    "\n",
    "        type t =\n",
    "            {\n",
    "                left : char list;\n",
    "                head : char;\n",
    "                right : char list\n",
    "            }\n",
    "\n",
    "        let empty_tape : t =\n",
    "            { left = []; head = ' '; right = [] }\n",
    "\n",
    "        let make (s : string) : t =\n",
    "            let str_to_list (s : string) : char list =\n",
    "                List.init (String.length s) (String.get s)\n",
    "            in\n",
    "            match str_to_list (String.trim s) with\n",
    "            | [] -> empty_tape\n",
    "            | hd :: tl -> { empty_tape with head = hd; right = tl }\n",
    "\n",
    "        let move (dir : direction) (tape : t) : t =\n",
    "            let order (hd : char) ((dir_chars, other_chars) : char list * char list) : t =\n",
    "                match dir with\n",
    "                | Left -> { left = dir_chars; head = hd; right = other_chars }\n",
    "                | Right -> { left = other_chars; head = hd; right = dir_chars }\n",
    "            and trim_others (other_chars : char list) : char list =\n",
    "                if tape.head = ' ' && other_chars = [] then other_chars\n",
    "                else tape.head :: other_chars\n",
    "            and (dir_chars, other_chars) : char list * char list =\n",
    "                match dir with\n",
    "                | Left -> (tape.left, tape.right)\n",
    "                | Right -> (tape.right, tape.left)\n",
    "            in\n",
    "            match dir_chars with\n",
    "            | [] -> order ' ' ([], trim_others other_chars)\n",
    "            | hd' :: dir_chars' -> order hd' (dir_chars', trim_others other_chars)\n",
    "\n",
    "        let read (tape : t) : char =\n",
    "            tape.head\n",
    "\n",
    "        let write (c : char) (tape : t) : t =\n",
    "            { tape with head = c }\n",
    "\n",
    "        let print (tape : t) : unit =\n",
    "            List.iter print_char (List.rev tape.left);\n",
    "            print_char tape.head;\n",
    "            List.iter print_char tape.right;\n",
    "            print_newline ();\n",
    "            print_string (String.make (List.length tape.left) ' ');\n",
    "            print_char '^';\n",
    "            print_newline ();\n",
    "    end"
   ]
  },
  {
   "cell_type": "code",
   "execution_count": 4,
   "id": "5f009f23",
   "metadata": {},
   "outputs": [
    {
     "name": "stdout",
     "output_type": "stream",
     "text": [
      "AB!DE\n",
      "  ^\n"
     ]
    },
    {
     "data": {
      "text/plain": [
       "val primer_trak : unit = ()\n"
      ]
     },
     "execution_count": 4,
     "metadata": {},
     "output_type": "execute_result"
    }
   ],
   "source": [
    "let primer_trak : unit =\n",
    "    Tape.(\n",
    "        make \"ABCDE\"\n",
    "        |> move Left\n",
    "        |> move Left\n",
    "        |> move Right\n",
    "        |> move Right\n",
    "        |> move Right\n",
    "        |> move Right\n",
    "        |> write '!'\n",
    "        |> print\n",
    "    )"
   ]
  },
  {
   "cell_type": "code",
   "execution_count": 5,
   "id": "f3839430",
   "metadata": {},
   "outputs": [
    {
     "name": "stdout",
     "output_type": "stream",
     "text": [
      "! ABC\n",
      "  ^\n"
     ]
    },
    {
     "data": {
      "text/plain": [
       "val primer_trak_dodatno : unit = ()\n"
      ]
     },
     "execution_count": 5,
     "metadata": {},
     "output_type": "execute_result"
    }
   ],
   "source": [
    "let primer_trak_dodatno : unit =\n",
    "    Tape.(\n",
    "        make \"ABC\"\n",
    "        |> move Left\n",
    "        |> move Left\n",
    "        |> write '!'\n",
    "        |> move Right\n",
    "        |> move Right\n",
    "        |> print\n",
    "    )"
   ]
  },
  {
   "cell_type": "markdown",
   "id": "8b454dae",
   "metadata": {},
   "source": [
    "## Implementacija Turingovih strojev"
   ]
  },
  {
   "cell_type": "markdown",
   "id": "72953e4e",
   "metadata": {},
   "source": [
    "Napišite modul `Machine`, ki implementira spodnjo signaturo, kjer je:\n",
    "#\n",
    "- `t` tip Turingovih strojev;\n",
    "- `make`, ki naredi nov stroj z danim začetnim stanjem in seznamom preostalih stanj ter prazno prehodno funkcijo;\n",
    "- `initial`, ki vrne začetno stanje stroja;\n",
    "- `add_transition`, ki prehodno funkcijo razširi s prehodom $(q, a) \\mapsto (q', a', d)$;\n",
    "- `step`, ki za dano stanje in trak izvede en korak stroja, če je to mogoče.\n",
    "#\n",
    "Zadnji dve funkciji naj vrneta spremenjene vrednosti, obstoječe argumente pa naj pustita nespremenjene. Prav tako pri zadnjih dveh funkcijah lahko predpostavite, da ju bomo klicali le na poprej podanih stanjih.\n",
    "\n",
    "Tudi tu je tip `t` abstrakten, zato poskrbite za učinkovitost in preglednost kode."
   ]
  },
  {
   "cell_type": "code",
   "execution_count": 6,
   "id": "1cd7534a",
   "metadata": {},
   "outputs": [
    {
     "data": {
      "text/plain": [
       "module type MACHINE =\n",
       "  sig\n",
       "    type t\n",
       "    val make : state -> state list -> t\n",
       "    val initial : t -> state\n",
       "    val add_transition :\n",
       "      state -> char -> state -> char -> direction -> t -> t\n",
       "    val step : t -> state -> Tape.t -> (state * Tape.t) option\n",
       "  end\n"
      ]
     },
     "execution_count": 6,
     "metadata": {},
     "output_type": "execute_result"
    }
   ],
   "source": [
    "module type MACHINE =\n",
    "    sig\n",
    "        type t\n",
    "\n",
    "        val make : state -> state list -> t\n",
    "        val initial : t -> state\n",
    "        val add_transition : state -> char -> state -> char -> direction -> t -> t\n",
    "        val step : t -> state -> Tape.t -> (state * Tape.t) option\n",
    "    end"
   ]
  },
  {
   "cell_type": "code",
   "execution_count": 7,
   "id": "b546107d",
   "metadata": {},
   "outputs": [
    {
     "data": {
      "text/plain": [
       "module type MACHINE_EXTRA =\n",
       "  sig\n",
       "    type t\n",
       "    val make : state -> state list -> t\n",
       "    val initial : t -> state\n",
       "    val add_transition :\n",
       "      state -> char -> state -> char -> direction -> t -> t\n",
       "    val step : t -> state -> Tape.t -> (state * Tape.t) option\n",
       "    type state_id\n",
       "    val initial_id : t -> state_id\n",
       "    val setup : t -> t\n",
       "    val speed_step : t -> state_id -> Tape.t -> (state_id * Tape.t) option\n",
       "  end\n"
      ]
     },
     "execution_count": 7,
     "metadata": {},
     "output_type": "execute_result"
    }
   ],
   "source": [
    "module type MACHINE_EXTRA =\n",
    "    sig\n",
    "        type t\n",
    "\n",
    "        val make : state -> state list -> t\n",
    "        val initial : t -> state\n",
    "        val add_transition : state -> char -> state -> char -> direction -> t -> t\n",
    "        val step : t -> state -> Tape.t -> (state * Tape.t) option\n",
    "\n",
    "        (* Extra exposed values enabling faster Machine execution *)\n",
    "\n",
    "        type state_id\n",
    "\n",
    "        val initial_id : t -> state_id\n",
    "        val setup : t -> t\n",
    "        val speed_step : t -> state_id -> Tape.t -> (state_id * Tape.t) option\n",
    "    end"
   ]
  },
  {
   "cell_type": "code",
   "execution_count": 8,
   "id": "206aa196",
   "metadata": {},
   "outputs": [
    {
     "data": {
      "text/plain": [
       "module StateCharMap :\n",
       "  sig\n",
       "    type key = state * char\n",
       "    type +!'a t\n",
       "    val empty : 'a t\n",
       "    val is_empty : 'a t -> bool\n",
       "    val mem : key -> 'a t -> bool\n",
       "    val add : key -> 'a -> 'a t -> 'a t\n",
       "    val update : key -> ('a option -> 'a option) -> 'a t -> 'a t\n",
       "    val singleton : key -> 'a -> 'a t\n",
       "    val remove : key -> 'a t -> 'a t\n",
       "    val merge :\n",
       "      (key -> 'a option -> 'b option -> 'c option) -> 'a t -> 'b t -> 'c t\n",
       "    val union : (key -> 'a -> 'a -> 'a option) -> 'a t -> 'a t -> 'a t\n",
       "    val compare : ('a -> 'a -> int) -> 'a t -> 'a t -> int\n",
       "    val equal : ('a -> 'a -> bool) -> 'a t -> 'a t -> bool\n",
       "    val iter : (key -> 'a -> unit) -> 'a t -> unit\n",
       "    val fold : (key -> 'a -> 'b -> 'b) -> 'a t -> 'b -> 'b\n",
       "    val for_all : (key -> 'a -> bool) -> 'a t -> bool\n",
       "    val exists : (key -> 'a -> bool) -> 'a t -> bool\n",
       "    val filter : (key -> 'a -> bool) -> 'a t -> 'a t\n",
       "    val filter_map : (key -> 'a -> 'b option) -> 'a t -> 'b t\n",
       "    val partition : (key -> 'a -> bool) -> 'a t -> 'a t * 'a t\n",
       "    val cardinal : 'a t -> int\n",
       "    val bindings : 'a t -> (key * 'a) list\n",
       "    val min_binding : 'a t -> key * 'a\n",
       "    val min_binding_opt : 'a t -> (key * 'a) option\n",
       "    val max_binding : 'a t -> key * 'a\n",
       "    val max_binding_opt : 'a t -> (key * 'a) option\n",
       "    val choose : 'a t -> key * 'a\n",
       "    val choose_opt : 'a t -> (key * 'a) option\n",
       "    val split : key -> 'a t -> 'a t * 'a option * 'a t\n",
       "    val find : key -> 'a t -> 'a\n",
       "    val find_opt : key -> 'a t -> 'a option\n",
       "    val find_first : (key -> bool) -> 'a t -> key * 'a\n",
       "    val find_first_opt : (key -> bool) -> 'a t -> (key * 'a) option\n",
       "    val find_last : (key -> bool) -> 'a t -> key * 'a\n",
       "    val find_last_opt : (key -> bool) -> 'a t -> (key * 'a) option\n",
       "    val map : ('a -> 'b) -> 'a t -> 'b t\n",
       "    val mapi : (key -> 'a -> 'b) -> 'a t -> 'b t\n",
       "    val to_seq : 'a t -> (key * 'a) Seq.t\n",
       "    val to_rev_seq : 'a t -> (key * 'a) Seq.t\n",
       "    val to_seq_from : key -> 'a t -> (key * 'a) Seq.t\n",
       "    val add_seq : (key * 'a) Seq.t -> 'a t -> 'a t\n",
       "    val of_seq : (key * 'a) Seq.t -> 'a t\n",
       "  end\n"
      ]
     },
     "execution_count": 8,
     "metadata": {},
     "output_type": "execute_result"
    }
   ],
   "source": [
    "module StateCharMap : (Map.S with type key = state * char) =\n",
    "    Map.Make(\n",
    "        struct\n",
    "            type t = state * char\n",
    "            let compare ((st1, c1) : t) ((st2, c2) : t) : int =\n",
    "                match String.compare st1 st2 with\n",
    "                | 0 -> Char.compare c1 c2\n",
    "                | c -> c\n",
    "        end\n",
    "    )"
   ]
  },
  {
   "cell_type": "code",
   "execution_count": 9,
   "id": "5c33f170",
   "metadata": {},
   "outputs": [
    {
     "data": {
      "text/plain": [
       "module Machine : MACHINE\n"
      ]
     },
     "execution_count": 9,
     "metadata": {},
     "output_type": "execute_result"
    }
   ],
   "source": [
    "(* WARNING!!! *)\n",
    "(* This implementation is only for showcasing a simpler but slightly less efficient solution. *)\n",
    "(* Most of the time this would be more than fast enough and due to its much cleaner code and readability it might be the superior option. *)\n",
    "(* Nontheless it is incompatible with the current implementation of `slow_run` and `speed_run` *)\n",
    "module Machine : MACHINE =\n",
    "    struct\n",
    "        (* Turing Machine implementation using binary search trees for representing the transition function: *)\n",
    "\n",
    "        (* -`make` function sets saves the inital state and given states and sets up an empty transition map - O(1) *)\n",
    "        (* -`initial` function just returns the stored initial state - O(1) *)\n",
    "        (* -`add_transition` function adds a mapping to the transition map - O(log n) *)\n",
    "        (* -`step` function returns the resulting next state and tape calculated from the given current state and tape. *)\n",
    "        (*        operations on the tape are executed in O(1) time and searching the transition map takes O(log n) - O(log n) *)\n",
    "\n",
    "        (* This implementation is easy to use and is relatively efficient, but making the `step` function O(1) is more important than *)\n",
    "        (* optimizing `make` and `add_transition`. Therefore other solutions can yield better results. *)\n",
    "\n",
    "        type instruction = state * char * direction\n",
    "\n",
    "        type t =\n",
    "            {\n",
    "                initial : state;\n",
    "                state_list : state list;\n",
    "                transition_map : instruction StateCharMap.t\n",
    "            }\n",
    "\n",
    "        let make (initial : state) (state_list : state list) : t =\n",
    "            {\n",
    "                initial = initial;\n",
    "                state_list = initial :: state_list;\n",
    "                transition_map = StateCharMap.empty\n",
    "            }\n",
    "\n",
    "        let initial (machine : t) : state =\n",
    "            machine.initial\n",
    "\n",
    "        let add_transition (st : state) (c : char) (st' : state) (c' : char) (dir : direction) (machine : t) : t =\n",
    "            { machine with transition_map = StateCharMap.add (st, c) (st', c', dir) machine.transition_map }\n",
    "\n",
    "        let step (machine : t) (st : state) (tape : Tape.t) : (state * Tape.t) option =\n",
    "            let opt_wrapper (f : ('a -> 'b)) (x_opt : 'a option) : 'b option =\n",
    "                match x_opt with\n",
    "                | None -> None\n",
    "                | Some x -> Some (f x)\n",
    "            and execute_step ((st', c', dir) : instruction) : state * Tape.t =\n",
    "                (st', Tape.write c' tape |> Tape.move dir)\n",
    "            in\n",
    "            StateCharMap.find_opt (st, Tape.read tape) machine.transition_map\n",
    "            |> opt_wrapper execute_step\n",
    "    end"
   ]
  },
  {
   "cell_type": "code",
   "execution_count": 10,
   "id": "bd808e25",
   "metadata": {},
   "outputs": [
    {
     "data": {
      "text/plain": [
       "module Machine : MACHINE_EXTRA\n"
      ]
     },
     "execution_count": 10,
     "metadata": {},
     "output_type": "execute_result"
    }
   ],
   "source": [
    "module Machine : MACHINE_EXTRA =\n",
    "    struct\n",
    "        (* Turing Machine implementation using two dimensional array for representing the transition function: *)\n",
    "\n",
    "        (* -`make` function sets saves the inital values and converts the necessary structures - O(n) *)\n",
    "        (* -`initial` function just returns the stored initial state - O(1) *)\n",
    "        (* -`initial_id` function just returns the stored initial state id - O(1) *)\n",
    "        (* -`add_transition` function adds a mapping to the transition stack and does so in constant time due to hashtable lookup - O(1) *)\n",
    "        (* -`setup` function prepares the Machine for use of the `step` and `speed_step` functions - O(n) *)\n",
    "        (* -`step` function returns the resulting next state and tape calculated from the given current state and tape. *)\n",
    "        (*         operations on the tape are executed in O(1) time and searching the transition matrix takes O(1) - O(1) *)\n",
    "        (* -`speed_step` function is a faster implementation of the `step` function which accepts and returns state ids directly, *)\n",
    "        (*         avoiding having to use lookup tables at all *)\n",
    "\n",
    "        (* By performing a trick where we keep the transition matrix empty until we call the `setup` function, we gain a O(1) `step` function. *)\n",
    "        (* Even though arrays are mutable, we only copy and empty array each time we need to reutrn a new machine, keeping the old machine intact. *)\n",
    "        (* This requires calling the `setup` function before being able to use `step`. *)\n",
    "\n",
    "        (* We can also keep some of the values stored in a mutable structure due to the way Machine is implemented. *)\n",
    "        (* Storing the states in an array and having a state id lookup table as a hashtable (both mutable types) can not cause problems with changing previous machines. *)\n",
    "        (* This is due to not being able to change add or remove any states after passing them to the `make` function. *)\n",
    "        (* Meaning that machines that are returned will always have the same defined states as the original, even if the transition function is different. *)\n",
    "\n",
    "        (* Lastly defining two new types for storing the id of states (their index in the matrix) and instructions with a valid undefined state allow for easier macthing. *)\n",
    "\n",
    "        type state_id =\n",
    "            | EndState of state\n",
    "            | State of int\n",
    "\n",
    "        type instruction =\n",
    "            | Undefined\n",
    "            | Instruction of state_id * char * direction\n",
    "\n",
    "        type t =\n",
    "            {\n",
    "                initial_state : state;\n",
    "                initial_id : state_id;\n",
    "\n",
    "                state_array : state array;\n",
    "                state_id_lookup : (state, int) Hashtbl.t;\n",
    "                state_amount : int;\n",
    "\n",
    "                transition_stack : ((int * int) * instruction) list;\n",
    "                transition_matrix : instruction array array;\n",
    "\n",
    "                is_setup : bool\n",
    "            }\n",
    "\n",
    "        let make (initial_st : state) (st_list : state list) : t =\n",
    "            let st_list' : state list = initial_st :: st_list\n",
    "            in\n",
    "            let st_list_len : int = List.length st_list'\n",
    "            in\n",
    "            let id_lookup : (state, int) Hashtbl.t = Hashtbl.create st_list_len\n",
    "            in\n",
    "            List.iteri (fun (i : int) (st : state) -> Hashtbl.add id_lookup st i) st_list';\n",
    "            {\n",
    "                initial_state = initial_st;\n",
    "                initial_id = State 0;\n",
    "\n",
    "                state_array = Array.of_list st_list';\n",
    "                state_id_lookup = id_lookup;\n",
    "                state_amount = st_list_len;\n",
    "\n",
    "                transition_stack = [];\n",
    "                transition_matrix = [||];\n",
    "\n",
    "                is_setup = false\n",
    "            }\n",
    "\n",
    "        let initial (machine : t) : state =\n",
    "            machine.initial_state\n",
    "\n",
    "        let initial_id (machine : t) : state_id =\n",
    "            machine.initial_id\n",
    "\n",
    "        let add_transition (st : state) (c : char) (st' : state) (c' : char) (dir : direction) (machine : t) : t =\n",
    "            match Hashtbl.find_opt machine.state_id_lookup st with\n",
    "            | None -> { machine with transition_matrix = [||]; is_setup = false }\n",
    "            | Some id ->\n",
    "                let inst : instruction =\n",
    "                    match Hashtbl.find_opt machine.state_id_lookup st' with\n",
    "                    | None -> Instruction (EndState st', c', dir)\n",
    "                    | Some id' -> Instruction (State id', c', dir)\n",
    "                in\n",
    "                {\n",
    "                    machine with\n",
    "                    transition_stack = ((id, Char.code c), inst) :: machine.transition_stack;\n",
    "                    transition_matrix = [||];\n",
    "\n",
    "                    is_setup = false\n",
    "                }\n",
    "\n",
    "        let setup (machine : t) : t =\n",
    "            let machine' : t =\n",
    "                {\n",
    "                    machine with\n",
    "                    transition_matrix =\n",
    "                        Array.init machine.state_amount (fun (i : int) : instruction array -> Array.make 256 Undefined);\n",
    "\n",
    "                    is_setup = true\n",
    "                }\n",
    "            in\n",
    "            let rec setup_aux (stack : ((int * int) * instruction) list) : t =\n",
    "                match stack with\n",
    "                | [] -> machine'\n",
    "                | ((i, j), inst) :: tl ->\n",
    "                   machine'.transition_matrix.(i).(j) <- inst;\n",
    "                    setup_aux tl\n",
    "            in\n",
    "            setup_aux machine'.transition_stack\n",
    "\n",
    "        let step (machine : t) (st : state) (tape : Tape.t) : (state * Tape.t) option =\n",
    "            let get_state (st_id : state_id) : state =\n",
    "                match st_id with\n",
    "                | EndState st' -> st'\n",
    "                | State id -> machine.state_array.(id)\n",
    "            in\n",
    "            let execute_step (inst : instruction) : (state * Tape.t) option =\n",
    "                match inst with\n",
    "                | Undefined -> None\n",
    "                | Instruction (st_id', c', dir) -> Some (get_state st_id', Tape.write c' tape |> Tape.move dir)\n",
    "            in\n",
    "            match Hashtbl.find_opt machine.state_id_lookup st with\n",
    "            | None -> None\n",
    "            | Some id ->\n",
    "                machine.transition_matrix.(id).(Tape.read tape |> Char.code)\n",
    "                |> execute_step\n",
    "\n",
    "        let speed_step (machine : t) (st_id : state_id) (tape : Tape.t) : (state_id * Tape.t) option =\n",
    "            let execute_step (inst : instruction) : (state_id * Tape.t) option =\n",
    "                match inst with\n",
    "                | Undefined -> None\n",
    "                | Instruction (st_id', c', dir) -> Some (st_id', Tape.write c' tape |> Tape.move dir)\n",
    "            in\n",
    "            match st_id with\n",
    "            | EndState _ -> None\n",
    "            | State id ->\n",
    "                machine.transition_matrix.(id).(Tape.read tape |> Char.code)\n",
    "                |> execute_step\n",
    "    end"
   ]
  },
  {
   "cell_type": "markdown",
   "id": "3bb672c0",
   "metadata": {},
   "source": [
    "Primer stroja \"Binary Increment\" na <http://turingmachine.io> lahko implementiramo kot:"
   ]
  },
  {
   "cell_type": "code",
   "execution_count": 11,
   "id": "799bfc52",
   "metadata": {},
   "outputs": [
    {
     "data": {
      "text/plain": [
       "val binary_increment : Machine.t = <abstr>\n"
      ]
     },
     "execution_count": 11,
     "metadata": {},
     "output_type": "execute_result"
    }
   ],
   "source": [
    "let binary_increment : Machine.t =\n",
    "    Machine.(\n",
    "        make \"right\" [ \"carry\"; \"done\" ]\n",
    "        |> add_transition \"right\" '1' \"right\" '1' Right\n",
    "        |> add_transition \"right\" '0' \"right\" '0' Right\n",
    "        |> add_transition \"right\" ' ' \"carry\" ' ' Left\n",
    "        |> add_transition \"carry\" '1' \"carry\" '0' Left\n",
    "        |> add_transition \"carry\" '0' \"done\" '1' Left\n",
    "        |> add_transition \"carry\" ' ' \"done\" '1' Left\n",
    "    )"
   ]
  },
  {
   "cell_type": "markdown",
   "id": "2935eb3a",
   "metadata": {},
   "source": [
    "Zapišite funkciji `slow_run` in `speed_run` tipa `Machine.t -> str -> unit`, ki simulirata Turingov stroj na traku, na katerem je na začetku zapisan dani niz. Prva naj izpiše trakove in stanja pri vseh vmesnih korakih, druga pa naj izpiše le končni trak. Slednjo bomo uporabljali tudi pri meritvi učinkovitosti izvajanja."
   ]
  },
  {
   "cell_type": "code",
   "execution_count": 12,
   "id": "e0b7cd59",
   "metadata": {},
   "outputs": [
    {
     "data": {
      "text/plain": [
       "val slow_run_old : Machine.t -> string -> unit = <fun>\n"
      ]
     },
     "execution_count": 12,
     "metadata": {},
     "output_type": "execute_result"
    }
   ],
   "source": [
    "(* Implementation compatible with only the binary search tree Machine *)\n",
    "let slow_run_old (machine : Machine.t) (s : string) : unit =\n",
    "    let output (st : state) (tape : Tape.t) : unit =\n",
    "        Tape.print tape;\n",
    "        print_endline st;\n",
    "        print_newline ()\n",
    "    in\n",
    "    let rec slow_run_old_aux ((st, tape) : state * Tape.t) : unit =\n",
    "        match Machine.step machine st tape with\n",
    "        | None -> output st tape\n",
    "        | Some (st', tape') ->\n",
    "            output st tape;\n",
    "            slow_run_old_aux (st', tape')\n",
    "    in\n",
    "    slow_run_old_aux (Machine.initial machine, Tape.make s)"
   ]
  },
  {
   "cell_type": "code",
   "execution_count": 13,
   "id": "b27e9c1f",
   "metadata": {},
   "outputs": [
    {
     "data": {
      "text/plain": [
       "val slow_run : Machine.t -> string -> unit = <fun>\n"
      ]
     },
     "execution_count": 13,
     "metadata": {},
     "output_type": "execute_result"
    }
   ],
   "source": [
    "(* Implementation compatible with only the new version of Machine *)\n",
    "let slow_run (machine : Machine.t) (s : string) : unit =\n",
    "    let machine' : Machine.t = Machine.setup machine\n",
    "    in\n",
    "    slow_run_old machine' s"
   ]
  },
  {
   "cell_type": "code",
   "execution_count": 14,
   "id": "d20efdc9",
   "metadata": {},
   "outputs": [
    {
     "data": {
      "text/plain": [
       "val speed_run_old : Machine.t -> string -> unit = <fun>\n"
      ]
     },
     "execution_count": 14,
     "metadata": {},
     "output_type": "execute_result"
    }
   ],
   "source": [
    "(* Implementation compatible with only the binary search tree Machine *)\n",
    "let speed_run_old (machine : Machine.t) (s : string) : unit =\n",
    "    let rec speed_run_old_aux ((st, tape) : state * Tape.t) : unit =\n",
    "        match Machine.step machine st tape with\n",
    "        | None -> Tape.print tape\n",
    "        | Some (st', tape') -> speed_run_old_aux (st', tape')\n",
    "    in\n",
    "    speed_run_old_aux (Machine.initial machine, Tape.make s)"
   ]
  },
  {
   "cell_type": "code",
   "execution_count": 15,
   "id": "291de85e",
   "metadata": {},
   "outputs": [
    {
     "data": {
      "text/plain": [
       "val speed_run : Machine.t -> string -> unit = <fun>\n"
      ]
     },
     "execution_count": 15,
     "metadata": {},
     "output_type": "execute_result"
    }
   ],
   "source": [
    "(* Implementation compatible with only the new version of Machine *)\n",
    "let speed_run (machine : Machine.t) (s : string) : unit =\n",
    "    let machine' : Machine.t = Machine.setup machine\n",
    "    in\n",
    "    let rec speed_run_aux ((st_id, tape) : Machine.state_id * Tape.t) : unit =\n",
    "        match Machine.speed_step machine' st_id tape with\n",
    "        | None -> Tape.print tape\n",
    "        | Some (st_id', tape') -> speed_run_aux (st_id', tape')\n",
    "    in\n",
    "    speed_run_aux (Machine.initial_id machine', Tape.make s)"
   ]
  },
  {
   "cell_type": "code",
   "execution_count": 16,
   "id": "5c3c0b9e",
   "metadata": {},
   "outputs": [
    {
     "name": "stdout",
     "output_type": "stream",
     "text": [
      "1011\n",
      "^\n",
      "right\n",
      "\n",
      "1011\n",
      " ^\n",
      "right\n",
      "\n",
      "1011\n",
      "  ^\n",
      "right\n",
      "\n",
      "1011\n",
      "   ^\n",
      "right\n",
      "\n",
      "1011 \n",
      "    ^\n",
      "right\n",
      "\n",
      "1011\n",
      "   ^\n",
      "carry\n",
      "\n",
      "1010\n",
      "  ^\n",
      "carry\n",
      "\n",
      "1000\n",
      " ^\n",
      "carry\n",
      "\n",
      "1100\n",
      "^\n",
      "done\n",
      "\n"
     ]
    },
    {
     "data": {
      "text/plain": [
       "val primer_slow_run : unit = ()\n"
      ]
     },
     "execution_count": 16,
     "metadata": {},
     "output_type": "execute_result"
    }
   ],
   "source": [
    "let primer_slow_run : unit =\n",
    "    slow_run binary_increment \"1011\""
   ]
  },
  {
   "cell_type": "code",
   "execution_count": 17,
   "id": "de8db9b1",
   "metadata": {},
   "outputs": [
    {
     "name": "stdout",
     "output_type": "stream",
     "text": [
      "1100\n",
      "^\n"
     ]
    },
    {
     "data": {
      "text/plain": [
       "val primer_speed_run : unit = ()\n"
      ]
     },
     "execution_count": 17,
     "metadata": {},
     "output_type": "execute_result"
    }
   ],
   "source": [
    "let primer_speed_run : unit =\n",
    "    speed_run binary_increment \"1011\""
   ]
  },
  {
   "cell_type": "markdown",
   "id": "57c9255f",
   "metadata": {},
   "source": [
    "## Krajši zapis"
   ]
  },
  {
   "cell_type": "markdown",
   "id": "5795a728",
   "metadata": {},
   "source": [
    "Ko definiramo Turingov stroj, prehode običajno združujemo najprej po stanjih, nato pa še po znakih. Prav tako pri dosti prehodih samo premikamo glavo, trak in stanje pa pustimo pri miru. Zapišite funkcije:\n",
    "\n",
    "- `for_state`\n",
    "- `for_character`\n",
    "- `for_characters`\n",
    "- `move`\n",
    "- `switch_and_move`\n",
    "- `write_and_move`\n",
    "- `write_switch_and_move`\n",
    "#\n",
    "s katerimi bi lahko zgornji primer na krajše zapisali kot spodaj. Implementacijo in tipe ugotovite sami."
   ]
  },
  {
   "cell_type": "code",
   "execution_count": 18,
   "id": "8159eac1",
   "metadata": {},
   "outputs": [
    {
     "data": {
      "text/plain": [
       "type state_transform = state -> Machine.t -> Machine.t\n"
      ]
     },
     "execution_count": 18,
     "metadata": {},
     "output_type": "execute_result"
    },
    {
     "data": {
      "text/plain": [
       "type char_state_transform = char -> state_transform\n"
      ]
     },
     "execution_count": 18,
     "metadata": {},
     "output_type": "execute_result"
    }
   ],
   "source": [
    "type state_transform = state -> Machine.t -> Machine.t\n",
    "type char_state_transform = char -> state_transform"
   ]
  },
  {
   "cell_type": "code",
   "execution_count": 19,
   "id": "fe53594c",
   "metadata": {},
   "outputs": [
    {
     "data": {
      "text/plain": [
       "val for_state : state -> state_transform list list -> Machine.t -> Machine.t =\n",
       "  <fun>\n"
      ]
     },
     "execution_count": 19,
     "metadata": {},
     "output_type": "execute_result"
    },
    {
     "data": {
      "text/plain": [
       "val for_character : char -> char_state_transform -> state_transform list =\n",
       "  <fun>\n"
      ]
     },
     "execution_count": 19,
     "metadata": {},
     "output_type": "execute_result"
    },
    {
     "data": {
      "text/plain": [
       "val for_characters : string -> char_state_transform -> state_transform list =\n",
       "  <fun>\n"
      ]
     },
     "execution_count": 19,
     "metadata": {},
     "output_type": "execute_result"
    },
    {
     "data": {
      "text/plain": [
       "val move : direction -> char_state_transform = <fun>\n"
      ]
     },
     "execution_count": 19,
     "metadata": {},
     "output_type": "execute_result"
    },
    {
     "data": {
      "text/plain": [
       "val switch_and_move : state -> direction -> char_state_transform = <fun>\n"
      ]
     },
     "execution_count": 19,
     "metadata": {},
     "output_type": "execute_result"
    },
    {
     "data": {
      "text/plain": [
       "val write_and_move : char -> direction -> char_state_transform = <fun>\n"
      ]
     },
     "execution_count": 19,
     "metadata": {},
     "output_type": "execute_result"
    },
    {
     "data": {
      "text/plain": [
       "val write_switch_and_move :\n",
       "  char -> state -> direction -> char_state_transform = <fun>\n"
      ]
     },
     "execution_count": 19,
     "metadata": {},
     "output_type": "execute_result"
    }
   ],
   "source": [
    "let for_state (st : state) (trans_list : state_transform list list) (machine : Machine.t) : Machine.t =\n",
    "        List.flatten trans_list\n",
    "        |> List.fold_left\n",
    "            (\n",
    "                fun (machine : Machine.t) (trans : state_transform) : Machine.t ->\n",
    "                trans st machine\n",
    "            )\n",
    "            machine\n",
    "\n",
    "let for_character (c : char) (trans : char_state_transform) : state_transform list =\n",
    "    [trans c]\n",
    "\n",
    "let for_characters (s : string) (trans : char_state_transform) : state_transform list =\n",
    "    let str_to_list (s : string) : char list =\n",
    "        List.init (String.length s) (String.get s)\n",
    "    in\n",
    "    str_to_list s\n",
    "    |> List.map trans\n",
    "\n",
    "let move (dir : direction) : char_state_transform =\n",
    "    fun (c : char) (st : state) (machine : Machine.t) : Machine.t ->\n",
    "        Machine.add_transition st c st c dir machine\n",
    "\n",
    "let switch_and_move (st' : state) (dir : direction) : char_state_transform =\n",
    "    fun (c : char) (st : state) (machine : Machine.t) : Machine.t ->\n",
    "        Machine.add_transition st c st' c dir machine\n",
    "\n",
    "let write_and_move (c' : char) (dir : direction) : char_state_transform =\n",
    "    fun (c : char) (st : state) (machine : Machine.t) : Machine.t ->\n",
    "        Machine.add_transition st c st c' dir machine\n",
    "\n",
    "let write_switch_and_move (c' : char) (st' : state) (dir : direction) : char_state_transform =\n",
    "    fun (c : char) (st : state) (machine : Machine.t) : Machine.t ->\n",
    "        Machine.add_transition st c st' c' dir machine"
   ]
  },
  {
   "cell_type": "code",
   "execution_count": 20,
   "id": "4a911152",
   "metadata": {},
   "outputs": [
    {
     "data": {
      "text/plain": [
       "val binary_increment' : Machine.t = <abstr>\n"
      ]
     },
     "execution_count": 20,
     "metadata": {},
     "output_type": "execute_result"
    }
   ],
   "source": [
    "let binary_increment' : Machine.t =\n",
    "    Machine.make \"right\" [\"carry\"; \"done\"]\n",
    "    |> for_state \"right\"\n",
    "        [\n",
    "            for_characters \"01\" @@ move Right;\n",
    "            for_character ' ' @@ switch_and_move \"carry\" Left\n",
    "        ]\n",
    "    |> for_state \"carry\"\n",
    "        [\n",
    "            for_character '1' @@ write_switch_and_move '0' \"carry\" Left;\n",
    "            for_characters \"0 \" @@ write_switch_and_move '1' \"done\" Left\n",
    "        ]"
   ]
  },
  {
   "cell_type": "code",
   "execution_count": 21,
   "id": "a95e3f91",
   "metadata": {},
   "outputs": [
    {
     "name": "stdout",
     "output_type": "stream",
     "text": [
      "1011\n",
      "^\n",
      "right\n",
      "\n",
      "1011\n",
      " ^\n",
      "right\n",
      "\n",
      "1011\n",
      "  ^\n",
      "right\n",
      "\n",
      "1011\n",
      "   ^\n",
      "right\n",
      "\n",
      "1011 \n",
      "    ^\n",
      "right\n",
      "\n",
      "1011\n",
      "   ^\n",
      "carry\n",
      "\n",
      "1010\n",
      "  ^\n",
      "carry\n",
      "\n",
      "1000\n",
      " ^\n",
      "carry\n",
      "\n",
      "1100\n",
      "^\n",
      "done\n",
      "\n"
     ]
    },
    {
     "data": {
      "text/plain": [
       "val primer_krajse_dodatno_1 : unit = ()\n"
      ]
     },
     "execution_count": 21,
     "metadata": {},
     "output_type": "execute_result"
    }
   ],
   "source": [
    "let primer_krajse_dodatno_1 : unit =\n",
    "    slow_run binary_increment' \"1011\""
   ]
  },
  {
   "cell_type": "code",
   "execution_count": 22,
   "id": "77af74db",
   "metadata": {},
   "outputs": [
    {
     "name": "stdout",
     "output_type": "stream",
     "text": [
      "1100\n",
      "^\n"
     ]
    },
    {
     "data": {
      "text/plain": [
       "val primer_krajse_dodatno_2 : unit = ()\n"
      ]
     },
     "execution_count": 22,
     "metadata": {},
     "output_type": "execute_result"
    }
   ],
   "source": [
    "let primer_krajse_dodatno_2 : unit =\n",
    "    speed_run binary_increment' \"1011\""
   ]
  },
  {
   "cell_type": "markdown",
   "id": "b15680c5",
   "metadata": {},
   "source": [
    "## Primeri Turingovih strojev"
   ]
  },
  {
   "cell_type": "markdown",
   "id": "d9a6573e",
   "metadata": {},
   "source": [
    "Pri tej nalogi boste sestavljali stroje, ki bodo iz začetnega niza na traku na različne načine izračunali nov niz. Pri tem lahko predpostavite, da je začetni niz sestavljen iz ničel in enic, preostanek traku pa je prazen. Na koncu izvajanja naj bo glava na začetku novega niza, z izjemo tega niza pa naj bo trak prazen. Ni pa treba, da se izračunani niz začne na istem mestu na traku, kot se je začel prvotni niz."
   ]
  },
  {
   "cell_type": "markdown",
   "id": "3c20549a",
   "metadata": {},
   "source": [
    "### Obračanje niza\n",
    "#"
   ]
  },
  {
   "cell_type": "markdown",
   "id": "c5649a8a",
   "metadata": {},
   "source": [
    "Sestavite Turingov stroj, ki začetni niz obrne na glavo."
   ]
  },
  {
   "cell_type": "code",
   "execution_count": 23,
   "id": "f6c2781c",
   "metadata": {},
   "outputs": [
    {
     "data": {
      "text/plain": [
       "val reverse : Machine.t = <abstr>\n"
      ]
     },
     "execution_count": 23,
     "metadata": {},
     "output_type": "execute_result"
    }
   ],
   "source": [
    "let reverse : Machine.t =\n",
    "    Machine.make \"rename\" [\"copy\"; \"write_zero\"; \"write_one\"; \"clear\"]\n",
    "    |> for_state \"rename\"\n",
    "        [\n",
    "            for_character '0' @@ write_and_move 'A' Right;\n",
    "            for_character '1' @@ write_and_move 'B' Right;\n",
    "            for_character ' ' @@ switch_and_move \"copy\" Left\n",
    "        ]\n",
    "    |> for_state \"copy\"\n",
    "        [\n",
    "            for_characters \"_01\" @@ move Left;\n",
    "            for_character 'A' @@ write_switch_and_move '_' \"write_zero\" Right;\n",
    "            for_character 'B' @@ write_switch_and_move '_' \"write_one\" Right;\n",
    "            for_character ' ' @@ switch_and_move \"clear\" Right\n",
    "        ]\n",
    "    |> for_state \"write_zero\"\n",
    "        [\n",
    "            for_characters \"_01\" @@ move Right;\n",
    "            for_character ' ' @@ write_switch_and_move '0' \"copy\" Left\n",
    "        ]\n",
    "    |> for_state \"write_one\"\n",
    "        [\n",
    "            for_characters \"_01\" @@ move Right;\n",
    "            for_character ' ' @@ write_switch_and_move '1' \"copy\" Left\n",
    "        ]\n",
    "    |> for_state \"clear\"\n",
    "        [\n",
    "            for_character '_' @@ write_and_move ' ' Right\n",
    "        ]"
   ]
  },
  {
   "cell_type": "code",
   "execution_count": 24,
   "id": "4d27652c",
   "metadata": {},
   "outputs": [
    {
     "name": "stdout",
     "output_type": "stream",
     "text": [
      "1001110000\n",
      "^\n"
     ]
    },
    {
     "data": {
      "text/plain": [
       "val primer_reverse : unit = ()\n"
      ]
     },
     "execution_count": 24,
     "metadata": {},
     "output_type": "execute_result"
    }
   ],
   "source": [
    "let primer_reverse : unit =\n",
    "    speed_run reverse \"0000111001\""
   ]
  },
  {
   "cell_type": "code",
   "execution_count": 25,
   "id": "baebf5d3",
   "metadata": {},
   "outputs": [
    {
     "name": "stdout",
     "output_type": "stream",
     "text": [
      " \n",
      "^\n"
     ]
    },
    {
     "data": {
      "text/plain": [
       "val primer_reverse_dodatno : unit = ()\n"
      ]
     },
     "execution_count": 25,
     "metadata": {},
     "output_type": "execute_result"
    }
   ],
   "source": [
    "let primer_reverse_dodatno : unit =\n",
    "    speed_run reverse \"\""
   ]
  },
  {
   "cell_type": "markdown",
   "id": "6c717d7f",
   "metadata": {},
   "source": [
    "### Podvajanje niza"
   ]
  },
  {
   "cell_type": "markdown",
   "id": "d07c91f5",
   "metadata": {},
   "source": [
    "Sestavite Turingov stroj, ki podvoji začetni niz."
   ]
  },
  {
   "cell_type": "code",
   "execution_count": 26,
   "id": "556e1a15",
   "metadata": {},
   "outputs": [
    {
     "data": {
      "text/plain": [
       "val duplicate : Machine.t = <abstr>\n"
      ]
     },
     "execution_count": 26,
     "metadata": {},
     "output_type": "execute_result"
    }
   ],
   "source": [
    "let duplicate : Machine.t =\n",
    "    Machine.make \"rename\" [\"duplicate\"; \"write_zero\"; \"write_one\"; \"shift_A\"; \"shift_B\"; \"return\"]\n",
    "    |> for_state \"rename\"\n",
    "        [\n",
    "            for_character '0' @@ write_and_move 'A' Right;\n",
    "            for_character '1' @@ write_and_move 'B' Right;\n",
    "            for_character ' ' @@ switch_and_move \"duplicate\" Left\n",
    "        ]\n",
    "    |> for_state \"duplicate\"\n",
    "        [\n",
    "            for_character 'A' @@ write_switch_and_move '0' \"write_zero\" Left;\n",
    "            for_character 'B' @@ write_switch_and_move '1' \"write_one\" Left;\n",
    "            for_characters \"01\" @@ move Left;\n",
    "            for_character ' ' @@ switch_and_move \"end\" Right\n",
    "        ]\n",
    "    |> for_state \"write_zero\"\n",
    "        [\n",
    "            for_character 'A' @@ write_switch_and_move '0' \"shift_A\" Left;\n",
    "            for_character 'B' @@ write_switch_and_move '0' \"shift_B\" Left;\n",
    "            for_character ' ' @@ write_switch_and_move '0' \"return\" Right\n",
    "        ]\n",
    "    |> for_state \"write_one\"\n",
    "        [\n",
    "            for_character 'A' @@ write_switch_and_move '1' \"shift_A\" Left;\n",
    "            for_character 'B' @@ write_switch_and_move '1' \"shift_B\" Left;\n",
    "            for_character ' ' @@ write_switch_and_move '1' \"return\" Right\n",
    "        ]\n",
    "    |> for_state \"shift_A\"\n",
    "        [\n",
    "            for_character 'A' @@ write_and_move 'A' Left;\n",
    "            for_character 'B' @@ write_switch_and_move 'A' \"shift_B\" Left;\n",
    "            for_character ' ' @@ write_switch_and_move 'A' \"return\" Right\n",
    "        ]\n",
    "    |> for_state \"shift_B\"\n",
    "        [\n",
    "            for_character 'A' @@ write_switch_and_move 'B' \"shift_A\" Left;\n",
    "            for_character 'B' @@ write_and_move 'B' Left;\n",
    "            for_character ' ' @@ write_switch_and_move 'B' \"return\" Right\n",
    "        ]\n",
    "    |> for_state \"return\"\n",
    "        [\n",
    "            for_characters \"AB\" @@ move Right;\n",
    "            for_characters \"01\" @@ switch_and_move \"duplicate\" Left\n",
    "        ]"
   ]
  },
  {
   "cell_type": "code",
   "execution_count": 27,
   "id": "0d9dbbad",
   "metadata": {},
   "outputs": [
    {
     "name": "stdout",
     "output_type": "stream",
     "text": [
      "001100001111\n",
      "^\n"
     ]
    },
    {
     "data": {
      "text/plain": [
       "val primer_duplicate : unit = ()\n"
      ]
     },
     "execution_count": 27,
     "metadata": {},
     "output_type": "execute_result"
    }
   ],
   "source": [
    "let primer_duplicate : unit =\n",
    "    speed_run duplicate \"010011\""
   ]
  },
  {
   "cell_type": "code",
   "execution_count": 28,
   "id": "703d2544",
   "metadata": {},
   "outputs": [
    {
     "name": "stdout",
     "output_type": "stream",
     "text": [
      "11\n",
      "^\n"
     ]
    },
    {
     "data": {
      "text/plain": [
       "val primer_duplicate_dodatno_1 : unit = ()\n"
      ]
     },
     "execution_count": 28,
     "metadata": {},
     "output_type": "execute_result"
    }
   ],
   "source": [
    "let primer_duplicate_dodatno_1 : unit =\n",
    "    speed_run duplicate \"1\""
   ]
  },
  {
   "cell_type": "code",
   "execution_count": 29,
   "id": "2b2a2cba",
   "metadata": {},
   "outputs": [
    {
     "name": "stdout",
     "output_type": "stream",
     "text": [
      " \n",
      "^\n"
     ]
    },
    {
     "data": {
      "text/plain": [
       "val primer_duplicate_dodatno_2 : unit = ()\n"
      ]
     },
     "execution_count": 29,
     "metadata": {},
     "output_type": "execute_result"
    }
   ],
   "source": [
    "let primer_duplicate_dodatno_2 : unit =\n",
    "    speed_run duplicate \"\""
   ]
  },
  {
   "cell_type": "markdown",
   "id": "44738a7a",
   "metadata": {},
   "source": [
    "### Eniški zapis\n",
    "#"
   ]
  },
  {
   "cell_type": "markdown",
   "id": "72058747",
   "metadata": {},
   "source": [
    "Sestavite Turingov stroj, ki na začetku na traku sprejme število $n$, zapisano v dvojiškem zapisu, na koncu pa naj bo na traku zapisanih natanko $n$ enic."
   ]
  },
  {
   "cell_type": "code",
   "execution_count": 30,
   "id": "cbd34b1e",
   "metadata": {},
   "outputs": [
    {
     "data": {
      "text/plain": [
       "val to_unary : Machine.t = <abstr>\n"
      ]
     },
     "execution_count": 30,
     "metadata": {},
     "output_type": "execute_result"
    }
   ],
   "source": [
    "let to_unary : Machine.t =\n",
    "    Machine.make \"rename\" [\"subtract\"; \"add\"; \"clear\"]\n",
    "    |> for_state \"rename\"\n",
    "        [\n",
    "            for_character '0' @@ write_and_move 'A' Right;\n",
    "            for_character '1' @@ write_and_move 'B' Right;\n",
    "            for_character ' ' @@ switch_and_move \"subtract\" Left\n",
    "        ]\n",
    "    |> for_state \"subtract\"\n",
    "        [\n",
    "            for_character 'A' @@ write_and_move 'B' Left;\n",
    "            for_character 'B' @@ write_switch_and_move 'A' \"add\" Right;\n",
    "            for_character '1' @@ move Left;\n",
    "            for_character ' ' @@ switch_and_move \"clear\" Right\n",
    "        ]\n",
    "    |> for_state \"add\"\n",
    "        [\n",
    "            for_characters \"1AB\" @@ move Right;\n",
    "            for_character ' ' @@ write_switch_and_move '1' \"subtract\" Left\n",
    "        ]\n",
    "    |> for_state \"clear\"\n",
    "        [\n",
    "            for_character 'B' @@ write_and_move ' ' Right\n",
    "        ]"
   ]
  },
  {
   "cell_type": "code",
   "execution_count": 31,
   "id": "edb032bf",
   "metadata": {},
   "outputs": [
    {
     "name": "stdout",
     "output_type": "stream",
     "text": [
      "1111111111\n",
      "^\n"
     ]
    },
    {
     "data": {
      "text/plain": [
       "val primer_to_unary : unit = ()\n"
      ]
     },
     "execution_count": 31,
     "metadata": {},
     "output_type": "execute_result"
    }
   ],
   "source": [
    "let primer_to_unary : unit =\n",
    "    speed_run to_unary \"1010\""
   ]
  },
  {
   "cell_type": "code",
   "execution_count": 32,
   "id": "e70f4e9e",
   "metadata": {},
   "outputs": [
    {
     "name": "stdout",
     "output_type": "stream",
     "text": [
      " \n",
      "^\n"
     ]
    },
    {
     "data": {
      "text/plain": [
       "val primer_to_unary_dodatno : unit = ()\n"
      ]
     },
     "execution_count": 32,
     "metadata": {},
     "output_type": "execute_result"
    }
   ],
   "source": [
    "let primer_to_unary_dodatno : unit =\n",
    "    speed_run to_unary \"0\""
   ]
  },
  {
   "cell_type": "markdown",
   "id": "590415a8",
   "metadata": {},
   "source": [
    "### Dvojiški zapis\n",
    "#"
   ]
  },
  {
   "cell_type": "markdown",
   "id": "376549ad",
   "metadata": {},
   "source": [
    "Sestavite ravno obratni Turingov stroj, torej tak, ki na začetku na traku sprejme število $n$ enic, na koncu pa naj bo na traku zapisano število $n$ v dvojiškem zapisu."
   ]
  },
  {
   "cell_type": "code",
   "execution_count": 33,
   "id": "59788678",
   "metadata": {},
   "outputs": [
    {
     "data": {
      "text/plain": [
       "val to_binary : Machine.t = <abstr>\n"
      ]
     },
     "execution_count": 33,
     "metadata": {},
     "output_type": "execute_result"
    }
   ],
   "source": [
    "let to_binary : Machine.t =\n",
    "    Machine.make \"rename\" [\"return\"; \"subtract\"; \"add\"; \"clear\"]\n",
    "    |> for_state \"rename\"\n",
    "        [\n",
    "            for_character '1' @@ write_and_move 'A' Right;\n",
    "            for_character ' ' @@ switch_and_move \"return\" Left\n",
    "        ]\n",
    "    |> for_state \"return\"\n",
    "        [\n",
    "            for_character 'A' @@ move Left;\n",
    "            for_character ' ' @@ switch_and_move \"subtract\" Right;\n",
    "        ]\n",
    "    |> for_state \"subtract\"\n",
    "        [\n",
    "            for_character 'A' @@ write_switch_and_move '_' \"add\" Left;\n",
    "            for_characters \"_01\" @@ move Right;\n",
    "            for_character ' ' @@ switch_and_move \"clear\" Left\n",
    "        ]\n",
    "    |> for_state \"add\"\n",
    "        [\n",
    "            for_character '_' @@ move Left;\n",
    "            for_characters \" 0\" @@ write_switch_and_move '1' \"subtract\" Right;\n",
    "            for_character '1' @@ write_and_move '0' Left\n",
    "        ]\n",
    "    |> for_state \"clear\"\n",
    "        [\n",
    "            for_character '_' @@ write_and_move ' ' Left;\n",
    "            for_characters \"01\" @@ move Left;\n",
    "            for_character ' ' @@ switch_and_move \"end\" Right;\n",
    "        ]"
   ]
  },
  {
   "cell_type": "code",
   "execution_count": 34,
   "id": "e51fc834",
   "metadata": {},
   "outputs": [
    {
     "name": "stdout",
     "output_type": "stream",
     "text": [
      "101010\n",
      "^\n"
     ]
    },
    {
     "data": {
      "text/plain": [
       "val primer_to_binary : unit = ()\n"
      ]
     },
     "execution_count": 34,
     "metadata": {},
     "output_type": "execute_result"
    }
   ],
   "source": [
    "let primer_to_binary : unit =\n",
    "    speed_run to_binary (String.make 42 '1')"
   ]
  },
  {
   "cell_type": "code",
   "execution_count": 35,
   "id": "77982a3e",
   "metadata": {},
   "outputs": [
    {
     "name": "stdout",
     "output_type": "stream",
     "text": [
      "1\n",
      "^\n"
     ]
    },
    {
     "data": {
      "text/plain": [
       "val primer_to_binary_dodatno : unit = ()\n"
      ]
     },
     "execution_count": 35,
     "metadata": {},
     "output_type": "execute_result"
    }
   ],
   "source": [
    "let primer_to_binary_dodatno : unit =\n",
    "    speed_run to_binary \"1\""
   ]
  },
  {
   "cell_type": "code",
   "execution_count": 36,
   "id": "c09717b7",
   "metadata": {},
   "outputs": [
    {
     "data": {
      "text/plain": [
       "val time : (unit -> 'a) -> 'a = <fun>\n"
      ]
     },
     "execution_count": 36,
     "metadata": {},
     "output_type": "execute_result"
    }
   ],
   "source": [
    "let time (f : unit -> 'a) : 'a =\n",
    "    let start_time : float = Sys.time()\n",
    "    in\n",
    "    let res : 'a = f ()\n",
    "    in\n",
    "    Printf.printf \"Execution time: %fs\" (Sys.time() -. start_time);\n",
    "    print_newline ();\n",
    "    res"
   ]
  },
  {
   "cell_type": "code",
   "execution_count": 37,
   "id": "43132eb2",
   "metadata": {},
   "outputs": [
    {
     "data": {
      "text/plain": [
       "val busy_beaver5 : Machine.t = <abstr>\n"
      ]
     },
     "execution_count": 37,
     "metadata": {},
     "output_type": "execute_result"
    }
   ],
   "source": [
    "let busy_beaver5 : Machine.t =\n",
    "    Machine.(\n",
    "        make \"A\" [\"B\"; \"C\"; \"D\"; \"E\"]\n",
    "        |> add_transition \"A\" ' ' \"B\" '1' Right\n",
    "        |> add_transition \"A\" '1' \"C\" '1' Left\n",
    "        |> add_transition \"B\" ' ' \"C\" '1' Right\n",
    "        |> add_transition \"B\" '1' \"B\" '1' Right\n",
    "        |> add_transition \"C\" ' ' \"D\" '1' Right\n",
    "        |> add_transition \"C\" '1' \"E\" ' ' Left\n",
    "        |> add_transition \"D\" ' ' \"A\" '1' Left\n",
    "        |> add_transition \"D\" '1' \"D\" '1' Left\n",
    "        |> add_transition \"E\" '1' \"A\" ' ' Left\n",
    "    )"
   ]
  },
  {
   "cell_type": "code",
   "execution_count": 38,
   "id": "309700b1",
   "metadata": {
    "scrolled": false
   },
   "outputs": [
    {
     "name": "stdout",
     "output_type": "stream",
     "text": [
      "  1  1  1  1  1  1  1  1  1  1  1  1  1  1  1  1  1  1  1  1  1  1  1  1  1  1  1  1  1  1  1  1  1  1  1  1  1  1  1  1  1  1  1  1  1  1  1  1  1  1  1  1  1  1  1  1  1  1  1  1  1  1  1  1  1  1  1  1  1  1  1  1  1  1  1  1  1  1  1  1  1  1  1  1  1  1  1  1  1  1  1  1  1  1  1  1  1  1  1  1  1  1  1  1  1  1  1  1  1  1  1  1  1  1  1  1  1  1  1  1  1  1  1  1  1  1  1  1  1  1  1  1  1  1  1  1  1  1  1  1  1  1  1  1  1  1  1  1  1  1  1  1  1  1  1  1  1  1  1  1  1  1  1  1  1  1  1  1  1  1  1  1  1  1  1  1  1  1  1  1  1  1  1  1  1  1  1  1  1  1  1  1  1  1  1  1  1  1  1  1  1  1  1  1  1  1  1  1  1  1  1  1  1  1  1  1  1  1  1  1  1  1  1  1  1  1  1  1  1  1  1  1  1  1  1  1  1  1  1  1  1  1  1  1  1  1  1  1  1  1  1  1  1  1  1  1  1  1  1  1  1  1  1  1  1  1  1  1  1  1  1  1  1  1  1  1  1  1  1  1  1  1  1  1  1  1  1  1  1  1  1  1  1  1  1  1  1  1  1  1  1  1  1  1  1  1  1  1  1  1  1  1  1  1  1  1  1  1  1  1  1  1  1  1  1  1  1  1  1  1  1  1  1  1  1  1  1  1  1  1  1  1  1  1  1  1  1  1  1  1  1  1  1  1  1  1  1  1  1  1  1  1  1  1  1  1  1  1  1  1  1  1  1  1  1  1  1  1  1  1  1  1  1  1  1  1  1  1  1  1  1  1  1  1  1  1  1  1  1  1  1  1  1  1  1  1  1  1  1  1  1  1  1  1  1  1  1  1  1  1  1  1  1  1  1  1  1  1  1  1  1  1  1  1  1  1  1  1  1  1  1  1  1  1  1  1  1  1  1  1  1  1  1  1  1  1  1  1  1  1  1  1  1  1  1  1  1  1  1  1  1  1  1  1  1  1  1  1  1  1  1  1  1  1  1  1  1  1  1  1  1  1  1  1  1  1  1  1  1  1  1  1  1  1  1  1  1  1  1  1  1  1  1  1  1  1  1  1  1  1  1  1  1  1  1  1  1  1  1  1  1  1  1  1  1  1  1  1  1  1  1  1  1  1  1  1  1  1  1  1  1  1  1  1  1  1  1  1  1  1  1  1  1  1  1  1  1  1  1  1  1  1  1  1  1  1  1  1  1  1  1  1  1  1  1  1  1  1  1  1  1  1  1  1  1  1  1  1  1  1  1  1  1  1  1  1  1  1  1  1  1  1  1  1  1  1  1  1  1  1  1  1  1  1  1  1  1  1  1  1  1  1  1  1  1  1  1  1  1  1  1  1  1  1  1  1  1  1  1  1  1  1  1  1  1  1  1  1  1  1  1  1  1  1  1  1  1  1  1  1  1  1  1  1  1  1  1  1  1  1  1  1  1  1  1  1  1  1  1  1  1  1  1  1  1  1  1  1  1  1  1  1  1  1  1  1  1  1  1  1  1  1  1  1  1  1  1  1  1  1  1  1  1  1  1  1  1  1  1  1  1  1  1  1  1  1  1  1  1  1  1  1  1  1  1  1  1  1  1  1  1  1  1  1  1  1  1  1  1  1  1  1  1  1  1  1  1  1  1  1  1  1  1  1  1  1  1  1  1  1  1  1  1  1  1  1  1  1  1  1  1  1  1  1  1  1  1  1  1  1  1  1  1  1  1  1  1  1  1  1  1  1  1  1  1  1  1  1  1  1  1  1  1  1  1  1  1  1  1  1  1  1  1  1  1  1  1  1  1  1  1  1  1  1  1  1  1  1  1  1  1  1  1  1  1  1  1  1  1  1  1  1  1  1  1  1  1  1  1  1  1  1  1  1  1  1  1  1  1  1  1  1  1  1  1  1  1  1  1  1  1  1  1  1  1  1  1  1  1  1  1  1  1  1  1  1  1  1  1  1  1  1  1  1  1  1  1  1  1  1  1  1  1  1  1  1  1  1  1  1  1  1  1  1  1  1  1  1  1  1  1  1  1  1  1  1  1  1  1  1  1  1  1  1  1  1  1  1  1  1  1  1  1  1  1  1  1  1  1  1  1  1  1  1  1  1  1  1  1  1  1  1  1  1  1  1  1  1  1  1  1  1  1  1  1  1  1  1  1  1  1  1  1  1  1  1  1  1  1  1  1  1  1  1  1  1  1  1  1  1  1  1  1  1  1  1  1  1  1  1  1  1  1  1  1  1  1  1  1  1  1  1  1  1  1  1  1  1  1  1  1  1  1  1  1  1  1  1  1  1  1  1  1  1  1  1  1  1  1  1  1  1  1  1  1  1  1  1  1  1  1  1  1  1  1  1  1  1  1  1  1  1  1  1  1  1  1  1  1  1  1  1  1  1  1  1  1  1  1  1  1  1  1  1  1  1  1  1  1  1  1  1  1  1  1  1  1  1  1  1  1  1  1  1  1  1  1  1  1  1  1  1  1  1  1  1  1  1  1  1  1  1  1  1  1  1  1  1  1  1  1  1  1  1  1  1  1  1  1  1  1  1  1  1  1  1  1  1  1  1  1  1  1  1  1  1  1  1  1  1  1  1  1  1  1  1  1  1  1  1  1  1  1  1  1  1  1  1  1  1  1  1  1  1  1  1  1  1  1  1  1  1  1  1  1  1  1  1  1  1  1  1  1  1  1  1  1  1  1  1  1  1  1  1  1  1  1  1  1  1  1  1  1  1  1  1  1  1  1  1  1  1  1  1  1  1  1  1  1  1  1  1  1  1  1  1  1  1  1  1  1  1  1  1  1  1  1  1  1  1  1  1  1  1  1  1  1  1  1  1  1  1  1  1  1  1  1  1  1  1  1  1  1  1  1  1  1  1  1  1  1  1  1  1  1  1  1  1  1  1  1  1  1  1  1  1  1  1  1  1  1  1  1  1  1  1  1  1  1  1  1  1  1  1  1  1  1  1  1  1  1  1  1  1  1  1  1  1  1  1  1  1  1  1  1  1  1  1  1  1  1  1  1  1  1  1  1  1  1  1  1  1  1  1  1  1  1  1  1  1  1  1  1  1  1  1  1  1  1  1  1  1  1  1  1  1  1  1  1  1  1  1  1  1  1  1  1  1  1  1  1  1  1  1  1  1  1  1  1  1  1  1  1  1  1  1  1  1  1  1  1  1  1  1  1  1  1  1  1  1  1  1  1  1  1  1  1  1  1  1  1  1  1  1  1  1  1  1  1  1  1  1  1  1  1  1  1  1  1  1  1  1  1  1  1  1  1  1  1  1  1  1  1  1  1  1  1  1  1  1  1  1  1  1  1  1  1  1  1  1  1  1  1  1  1  1  1  1  1  1  1  1  1  1  1  1  1  1  1  1  1  1  1  1  1  1  1  1  1  1  1  1  1  1  1  1  1  1  1  1  1  1  1  1  1  1  1  1  1  1  1  1  1  1  1  1  1  1  1  1  1  1  1  1  1  1  1  1  1  1  1  1  1  1  1  1  1  1  1  1  1  1  1  1  1  1  1  1  1  1  1  1  1  1  1  1  1  1  1  1  1  1  1  1  1  1  1  1  1  1  1  1  1  1  1  1  1  1  1  1  1  1  1  1  1  1  1  1  1  1  1  1  1  1  1  1  1  1  1  1  1  1  1  1  1  1  1  1  1  1  1  1  1  1  1  1  1  1  1  1  1  1  1  1  1  1  1  1  1  1  1  1  1  1  1  1  1  1  1  1  1  1  1  1  1  1  1  1  1  1  1  1  1  1  1  1  1  1  1  1  1  1  1  1  1  1  1  1  1  1  1  1  1  1  1  1  1  1  1  1  1  1  1  1  1  1  1  1  1  1  1  1  1  1  1  1  1  1  1  1  1  1  1  1  1  1  1  1  1  1  1  1  1  1  1  1  1  1  1  1  1  1  1  1  1  1  1  1  1  1  1  1  1  1  1  1  1  1  1  1  1  1  1  1  1  1  1  1  1  1  1  1  1  1  1  1  1  1  1  1  1  1  1  1  1  1  1  1  1  1  1  1  1  1  1  1  1  1  1  1  1  1  1  1  1  1  1  1  1  1  1  1  1  1  1  1  1  1  1  1  1  1  1  1  1  1  1  1  1  1  1  1  1  1  1  1  1  1  1  1  1  1  1  1  1  1  1  1  1  1  1  1  1  1  1  1  1  1  1  1  1  1  1  1  1  1  1  1  1  1  1  1  1  1  1  1  1  1  1  1  1  1  1  1  1  1  1  1  1  1  1  1  1  1  1  1  1  1  1  1  1  1  1  1  1  1  1  1  1  1  1  1  1  1  1  1  1  1  1  1  1  1  1  1  1  1  1  1  1  1  1  1  1  1  1  1  1  1  1  1  1  1  1  1  1  1  1  1  1  1  1  1  1  1  1  1  1  1  1  1  1  1  1  1  1  1  1  1  1  1  1  1  1  1  1  1  1  1  1  1  1  1  1  1  1  1  1  1  1  1  1  1  1  1  1  1  1  1  1  1  1  1  1  1  1  1  1  1  1  1  1  1  1  1  1  1  1  1  1  1  1  1  1  1  1  1  1  1  1  1  1  1  1  1  1  1  1  1  1  1  1  1  1  1  1  1  1  1  1  1  1  1  1  1  1  1  1  1  1  1  1  1  1  1  1  1  1  1  1  1  1  1  1  1  1  1  1  1  1  1  1  1  1  1  1  1  1  1  1  1  1  1  1  1  1  1  1  1  1  1  1  1  1  1  1  1  1  1  1  1  1  1  1  1  1  1  1  1  1  1  1  1  1  1  1  1  1  1  1  1  1  1  1  1  1  1  1  1  1  1  1  1  1  1  1  1  1  1  1  1  1  1  1  1  1  1  1  1  1  1  1  1  1  1  1  1  1  1  1  1  1  1  1  1  1  1  1  1  1  1  1  1  1  1  1  1  1  1  1  1  1  1  1  1  1  1  1  1  1  1  1  1  1  1  1  1  1  1  1  1  1  1  1  1  1  1  1  1  1  1  1  1  1  1  1  1  1  1  1  1  1  1  1  1  1  1  1  1  1  1  1  1  1  1  1  1  1  1  1  1  1  1  1  1  1  1  1  1  1  1  1  1  1  1  1  1  1  1  1  1  1  1  1  1  1  1  1  1  1  1  1  1  1  1  1  1  1  1  1  1  1  1  1  1  1  1  1  1  1  1  1  1  1  1  1  1  1  1  1  1  1  1  1  1  1  1  1  1  1  1  1  1  1  1  1  1  1  1  1  1  1  1  1  1  1  1  1  1  1  1  1  1  1  1  1  1  1  1  1  1  1  1  1  1  1  1  1  1  1  1  1  1  1  1  1  1  1  1  1  1  1  1  1  1  1  1  1  1  1  1  1  1  1  1  1  1  1  1  1  1  1  1  1  1  1  1  1  1  1  1  1  1  1  1  1  1  1  1  1  1  1  1  1  1  1  1  1  1  1  1  1  1  1  1  1  1  1  1  1  1  1  1  1  1  1  1  1  1  1  1  1  1  1  1  1  1  1  1  1  1  1  1  1  1  1  1  1  1  1  1  1  1  1  1  1  1  1  1  1  1  1  1  1  1  1  1  1  1  1  1  1  1  1  1  1  1  1  1  1  1  1  1  1  1  1  1  1  1  1  1  1  1  1  1  1  1  1  1  1  1  1  1  1  1  1  1  1  1  1  1  1  1  1  1  1  1  1  1  1  1  1  1  1  1  1  1  1  1  1  1  1  1  1  1  1  1  1  1  1  1  1  1  1  1  1  1  1  1  1  1  1  1  1  1  1  1  1  1  1  1  1  1  1  1  1  1  1  1  1  1  1  1  1  1  1  1  1  1  1  1  1  1  1  1  1  1  1  1  1  1  1  1  1  1  1  1  1  1  1  1  1  1  1  1  1  1  1  1  1  1  1  1  1  1  1  1  1  1  1  1  1  1  1  1  1  1  1  1  1  1  1  1  1  1  1  1  1  1  1  1  1  1  1  1  1  1  1  1  1  1  1  1  1  1  1  1  1  1  1  1  1  1  1  1  1  1  1  1  1  1  1  1  1  1  1  1  1  1  1  1  1  1  1  1  1  1  1  1  1  1  1  1  1  1  1  1  1  1  1  1  1  1  1  1  1  1  1  1  1  1  1  1  1  1  1  1  1  1  1  1  1  1  1  1  1  1  1  1  1  1  1  1  1  1  1  1  1  1  1  1  1  1  1  1  1  1  1  1  1  1  1  1  1  1  1  1  1  1  1  1  1  1  1  1  1  1  1  1  1  1  1  1  1  1  1  1  1  1  1  1  1  1  1  1  1  1  1  1  1  1  1  1  1  1  1  1  1  1  1  1  1  1  1  1  1  1  1  1  1  1  1  1  1  1  1  1  1  1  1  1  1  1  1  1  1  1  1  1  1  1  1  1  1  1  1  1  1  1  1  1  1  1  1  1  1  1  1  1  1  1  1  1  1  1  1  1  1  1  1  1  1  1  1  1  1  1  1  1  1  1  1  1  1  1  1  1  1  1  1  1  1  1  1  1  1  1  1  1  1  1  1  1  1  1  1  1  1  1  1  1  1  1  1  1  1  1  1  1  1  1  1  1  1  1  1  1  1  1  1  1  1  1  1  1  1  1  1  1  1  1  1  1  1  1  1  1  1  1  1  1  1  1  1  1  1  1  1  1  1  1  1  1  1  1  1  1  1  1  1  1  1  1  1  1  1  1  1  1  1  1  1  1  1  1  1  1  1  1  1  1  1  1  1  1  1  1  1  1  1  1  1  1  1  1  1  1  1  1  1  1  1  1  1  1  1  1  1  1  1  1  1  1  1  1  1  1  1  1  1  1  1  1  1  1  1  1  1  1  1  1  1  1  1  1  1  1  1  1  1  1  1  1  1  1  1  1  1  1  1  1  1  1  1  1  1  1  1  1  1  1  1  1  1  1  1  1  1  1  1  1  1  1  1  1  1  1  1  1  1  1  1  1  1  1  1  1  1  1  1  1  1  1  1  1  1  1  1  1  1  1  1  1  1  1  1  1  1  1  1  1  1  1  1  1  1  1  1  1  1  1  1  1  1  1  1  1  1  1  1  1  1  1  1  1  1  1  1  1  1  1  1  1  1  1  1  1  1  1  1  1  1  1  1  1  1  1  1  1  1  1  1  1  1  1  1  1  1  1  1  1  1  1  1  1  1  1  1  1  1  1  1  1  1  1  1  1  1  1  1  1  1  1  1  1  1  1  1  1  1  1  1  1  1  1  1  1  1  1  1  1  1  1  1  1  1  1  1  1  1  1  1  1  1  1  1  1  1  1  1  1  1  1  1  1  1  1  1  1  1  1  1  1  1  1  1  1  1  1  1  1  1  1  1  1  1  1  1  1  1  1  1  1  1  1  1  1  1  1  1  1  1  1  1  1  1  1  1  1  1  1  1  1  1  1  1  1  1  1  1  1  1  1  1  1  1  1  1  1  1  1  1  1  1  1  1  1  1  1  1  1  1  1  1  1  1  1  1  1  1  1  1  1  1  1  1  1  1  1  1  1  1  1  1  1  1  1  1  1  1  1  1  1  1  1  1  1  1  1  1  1  1  1  1  1  1  1  1  1  1  1  1  1  1  1  1  1  1  1  1  1  1  1  1  1  1  1  1  1  1  1  1  1  1  1  1  1  1  1  1  1  1  1  1  1  1  1  1  1  1  1  1  1  1  1  1  1  1  1  1  1  1  1  1  1  1  1  1  1  1  1  1  1  1  1  1  1  1  1  1  1  1  1  1  1  1  1  1  1  1  1  1  1  1  1  1  1  1  1  1  1  1  1  1  1  1  1  1  1  1  1  1  1  1  1  1  1  1  1  1  1  1  1  1  1  1  1  1  1  1  1  1  1  1  1  1  1  1  1  1  1  1  1  1  1  1  1  1  1  1  1  1  1  1  1  1  1  1  1  1  1  1  1  1  1  1  1  1  1  1  1  1  1  1  1  1  1  1  1  1  1  1  1  1  1  1  1  1  1  1  1  1  1  1  1  1  1  1  1  1  1  1  1  1  1  1  1  1  1  1  1  1  1  1  1  1  1  1  1  1  1  1  1  1  1  1  1  1  1  1  1  1  1  1  1  1  1  1  1  1  1  1  1  1  1  1  1  1  1  1  1  1  1  1  1  1  1  1  1  1  1  1  1  1  1  1  1  1  1  1  1  1  1  1  1  1  1  1  1  1  1  1  1  1  1  1  1  1  1  1  1  1  1  1  1  1  1  1  1  1  1  1  1  1  1  1  1  1  1  1  1  1  1  1  1  1  1  1  1  1  1  1  1  1  1  1  1  1  1  1  1  1  1  1  1  1  1  1  1  1  1  1  1  1  1  1  1  1  1  1  1  1  1  1  1  1  1  1  1  1  1  1  1  1  1  1  1  1  1  1  1  1  1  1  1  1  1  1  1  1  1  1  1  1  1  1  1  1  1  1  1  1  1  1  1  1  1  1  1  1  1  1  1  1  1  1  1  1  1  1  1  1  1  1  1  1  1  1  1  1  1  1  1  1  1  1  1  1  1  1  1  1  1  1  1  1  1  1  1  1  1  1  1  1  1  1  1  1  1  1  1  1  1  1  1  1  1  1  1  1  1  1  1  1  1  1  1  1  1  1  1  1  1  1  1  1  1  1  1  1  1  1  1  1  1  1  1  1  1  1  1  1  1  1  1  1  1  1  1  1  1  1  1  1  1  1  1  1  1  1  1  1  1  1  1  1  1  1  1  1  1  1  1  1  1  1  1  1  1  1  1  1  1  1  1  1  1  1  1  1  1  1  1  1  1  1  1  1  1  1  1  1  1  1  1  1  1  1  1  1  1  1  1  1  1  1  1  1  1  1  1  1  1  1  1  1  1  1  1  1  1  1  1  1  1  1  1  1  1  1  1  1  1  1  1  1  1  1  1  1  1  1  1  1  1  1  1  1  1  1  1  1  1  1  1  1  1  1  1  1  1  1  1  1  1  1  1  1  1  1  1  1  1  1  1  1  1  1  1  1  1  1  1  1  1  1  1  1  1  1  1  1  1  1  1  1  1  1  1  1  1  1  1  1  1  1  1  1  1  1  1  1  1  1  1  1  1  1  1  1  1  1  1  1  1  1  1  1  1  1  1  1  1  1  1  1  11\n"
     ]
    },
    {
     "name": "stdout",
     "output_type": "stream",
     "text": [
      "^\n",
      "Execution time: 10.167210s\n"
     ]
    },
    {
     "data": {
      "text/plain": [
       "val test : unit = ()\n"
      ]
     },
     "execution_count": 38,
     "metadata": {},
     "output_type": "execute_result"
    }
   ],
   "source": [
    "let test = time (fun () -> speed_run busy_beaver5 \"\")"
   ]
  }
 ],
 "metadata": {
  "kernelspec": {
   "display_name": "OCaml /home/androgeus/Programming/prog-1/prog-1-naloge",
   "language": "OCaml",
   "name": "ocaml-jupyter-prog-1-naloge"
  },
  "language_info": {
   "codemirror_mode": "text/x-ocaml",
   "file_extension": ".ml",
   "mimetype": "text/x-ocaml",
   "name": "OCaml",
   "nbconverter_exporter": null,
   "pygments_lexer": "OCaml",
   "version": "4.12.0+domains"
  }
 },
 "nbformat": 4,
 "nbformat_minor": 5
}
